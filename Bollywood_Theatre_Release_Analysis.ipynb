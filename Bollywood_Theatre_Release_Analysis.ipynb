{
  "cells": [
    {
      "cell_type": "code",
      "execution_count": 1,
      "metadata": {
        "colab": {
          "base_uri": "https://localhost:8080/"
        },
        "id": "26o6ntixPoD3",
        "outputId": "10590c9e-e3bc-40b8-d5be-88cc05d55906"
      },
      "outputs": [
        {
          "output_type": "stream",
          "name": "stdout",
          "text": [
            "Mounted at /gdrive\n"
          ]
        }
      ],
      "source": [
        "from google.colab import drive\n",
        "drive.mount('/gdrive')"
      ]
    },
    {
      "cell_type": "code",
      "execution_count": 2,
      "metadata": {
        "id": "-dw1Bg2OP1VE"
      },
      "outputs": [],
      "source": [
        "import os\n",
        "os.chdir('/gdrive/My Drive/Project/')"
      ]
    },
    {
      "cell_type": "code",
      "execution_count": 27,
      "metadata": {
        "id": "krVqG2uSP61I"
      },
      "outputs": [],
      "source": [
        "import pandas as pd\n",
        "import numpy as np\n",
        "import matplotlib.pyplot as plt\n",
        "import seaborn as sns"
      ]
    },
    {
      "cell_type": "code",
      "execution_count": null,
      "metadata": {
        "colab": {
          "base_uri": "https://localhost:8080/",
          "height": 660
        },
        "id": "vN538rlTRMRI",
        "outputId": "e2f43a08-a763-4708-fe2d-616b9620c932"
      },
      "outputs": [
        {
          "data": {
            "application/vnd.google.colaboratory.intrinsic+json": {
              "summary": "{\n  \"name\": \"df\",\n  \"rows\": 1127,\n  \"fields\": [\n    {\n      \"column\": \"ID\",\n      \"properties\": {\n        \"dtype\": \"string\",\n        \"num_unique_values\": 1127,\n        \"samples\": [\n          \"Dobaara:_See_Your_Evil\",\n          \"Jis_Desh_Men_Ganga_Behti_Hai\",\n          \"Gurgaon_(film)\"\n        ],\n        \"semantic_type\": \"\",\n        \"description\": \"\"\n      }\n    },\n    {\n      \"column\": \"Movie_Name_x\",\n      \"properties\": {\n        \"dtype\": \"string\",\n        \"num_unique_values\": 1120,\n        \"samples\": [\n          \"Mission Mangal\",\n          \"Bachchhan Paandey\",\n          \"...Aur Pyaar Ho Gaya\"\n        ],\n        \"semantic_type\": \"\",\n        \"description\": \"\"\n      }\n    },\n    {\n      \"column\": \"URL\",\n      \"properties\": {\n        \"dtype\": \"string\",\n        \"num_unique_values\": 1127,\n        \"samples\": [\n          \"https://wikipedia.org/wiki/Dobaara:_See_Your_Evil\",\n          \"https://wikipedia.org/wiki/Jis_Desh_Men_Ganga_Behti_Hai\",\n          \"https://wikipedia.org/wiki/Gurgaon_(film)\"\n        ],\n        \"semantic_type\": \"\",\n        \"description\": \"\"\n      }\n    },\n    {\n      \"column\": \"Director\",\n      \"properties\": {\n        \"dtype\": \"category\",\n        \"num_unique_values\": 513,\n        \"samples\": [\n          \"Anil Mehta\",\n          \"S. Ramanathan\",\n          \"Kireet Khurana\"\n        ],\n        \"semantic_type\": \"\",\n        \"description\": \"\"\n      }\n    },\n    {\n      \"column\": \"Producer\",\n      \"properties\": {\n        \"dtype\": \"string\",\n        \"num_unique_values\": 786,\n        \"samples\": [\n          \"Mushir - Riaz\",\n          \"Sohum Shah, Aanand L. Rai, Anand Gandhi, Mukesh Shah, Amita Shah\",\n          \"Anurag Kashyap, Vikas Bahl, Vikramaditya Motwane, Madhu Mantena\"\n        ],\n        \"semantic_type\": \"\",\n        \"description\": \"\"\n      }\n    },\n    {\n      \"column\": \"Writer\",\n      \"properties\": {\n        \"dtype\": \"string\",\n        \"num_unique_values\": 723,\n        \"samples\": [\n          \"Seema Pahwa\",\n          \"Uttam Gada\",\n          \"Mohan Kaul, Ravi Kapoor\"\n        ],\n        \"semantic_type\": \"\",\n        \"description\": \"\"\n      }\n    },\n    {\n      \"column\": \"Casting\",\n      \"properties\": {\n        \"dtype\": \"string\",\n        \"num_unique_values\": 1113,\n        \"samples\": [\n          \"Vinay Pathak, Kay Kay Menon, Rukhsaar Rehman, Minisha Lamba, Suresh Menon, Amol Gupte, Kishwer Merchant\",\n          \"Amitabh Bachchan, Rani Mukerji\",\n          \"Rahul Bagga, Tara Alisha, Soul Balaji, Vinod Nahardih, Istiyak Khan, Aakash Dahiya\"\n        ],\n        \"semantic_type\": \"\",\n        \"description\": \"\"\n      }\n    },\n    {\n      \"column\": \"Budget\",\n      \"properties\": {\n        \"dtype\": \"number\",\n        \"std\": 42.49961125970116,\n        \"min\": 0.025,\n        \"max\": 600.0,\n        \"num_unique_values\": 196,\n        \"samples\": [\n          118.0,\n          27.0,\n          11.0\n        ],\n        \"semantic_type\": \"\",\n        \"description\": \"\"\n      }\n    },\n    {\n      \"column\": \"Box_Office\",\n      \"properties\": {\n        \"dtype\": \"number\",\n        \"std\": 104.09283651720826,\n        \"min\": 0.03,\n        \"max\": 1148.0,\n        \"num_unique_values\": 296,\n        \"samples\": [\n          10.5,\n          112.0,\n          356.0\n        ],\n        \"semantic_type\": \"\",\n        \"description\": \"\"\n      }\n    },\n    {\n      \"column\": \"Unnamed: 9\",\n      \"properties\": {\n        \"dtype\": \"string\",\n        \"num_unique_values\": 1127,\n        \"samples\": [\n          \"Dobaara:_See_Your_Evil\",\n          \"Jis_Desh_Men_Ganga_Behti_Hai\",\n          \"Gurgaon_(film)\"\n        ],\n        \"semantic_type\": \"\",\n        \"description\": \"\"\n      }\n    },\n    {\n      \"column\": \"Movie_Name_y\",\n      \"properties\": {\n        \"dtype\": \"string\",\n        \"num_unique_values\": 1120,\n        \"samples\": [\n          \"Mission Mangal\",\n          \"Bachchhan Paandey\",\n          \"...Aur Pyaar Ho Gaya\"\n        ],\n        \"semantic_type\": \"\",\n        \"description\": \"\"\n      }\n    },\n    {\n      \"column\": \"Duration\",\n      \"properties\": {\n        \"dtype\": \"category\",\n        \"num_unique_values\": 119,\n        \"samples\": [\n          \"2h 38m\",\n          \"1h 47m\",\n          \"2h 39m\"\n        ],\n        \"semantic_type\": \"\",\n        \"description\": \"\"\n      }\n    },\n    {\n      \"column\": \"Year\",\n      \"properties\": {\n        \"dtype\": \"number\",\n        \"std\": 13,\n        \"min\": 1949,\n        \"max\": 2024,\n        \"num_unique_values\": 72,\n        \"samples\": [\n          2021,\n          1985,\n          2013\n        ],\n        \"semantic_type\": \"\",\n        \"description\": \"\"\n      }\n    },\n    {\n      \"column\": \"Rating\",\n      \"properties\": {\n        \"dtype\": \"number\",\n        \"std\": 1.4181129754986108,\n        \"min\": 1.4,\n        \"max\": 8.9,\n        \"num_unique_values\": 71,\n        \"samples\": [\n          7.4,\n          8.6,\n          4.1\n        ],\n        \"semantic_type\": \"\",\n        \"description\": \"\"\n      }\n    },\n    {\n      \"column\": \"Rating_count\",\n      \"properties\": {\n        \"dtype\": \"number\",\n        \"std\": 30081,\n        \"min\": 100,\n        \"max\": 575000,\n        \"num_unique_values\": 291,\n        \"samples\": [\n          9700,\n          555,\n          45000\n        ],\n        \"semantic_type\": \"\",\n        \"description\": \"\"\n      }\n    }\n  ]\n}",
              "type": "dataframe",
              "variable_name": "df"
            },
            "text/html": [
              "\n",
              "  <div id=\"df-a34b6098-f62e-4552-9dba-b1e0e0860c82\" class=\"colab-df-container\">\n",
              "    <div>\n",
              "<style scoped>\n",
              "    .dataframe tbody tr th:only-of-type {\n",
              "        vertical-align: middle;\n",
              "    }\n",
              "\n",
              "    .dataframe tbody tr th {\n",
              "        vertical-align: top;\n",
              "    }\n",
              "\n",
              "    .dataframe thead th {\n",
              "        text-align: right;\n",
              "    }\n",
              "</style>\n",
              "<table border=\"1\" class=\"dataframe\">\n",
              "  <thead>\n",
              "    <tr style=\"text-align: right;\">\n",
              "      <th></th>\n",
              "      <th>ID</th>\n",
              "      <th>Movie_Name_x</th>\n",
              "      <th>URL</th>\n",
              "      <th>Director</th>\n",
              "      <th>Producer</th>\n",
              "      <th>Writer</th>\n",
              "      <th>Casting</th>\n",
              "      <th>Budget</th>\n",
              "      <th>Box_Office</th>\n",
              "      <th>Unnamed: 9</th>\n",
              "      <th>Movie_Name_y</th>\n",
              "      <th>Duration</th>\n",
              "      <th>Year</th>\n",
              "      <th>Rating</th>\n",
              "      <th>Rating_count</th>\n",
              "    </tr>\n",
              "  </thead>\n",
              "  <tbody>\n",
              "    <tr>\n",
              "      <th>0</th>\n",
              "      <td>The_Kashmir_Files</td>\n",
              "      <td>The Kashmir Files</td>\n",
              "      <td>https://wikipedia.org/wiki/The_Kashmir_Files</td>\n",
              "      <td>Vivek Agnihotri</td>\n",
              "      <td>Tej Narayan Agarwal, Abhishek Agarwal, Pallavi...</td>\n",
              "      <td>Vivek Agnihotri, Saurabh M Pandey</td>\n",
              "      <td>Mithun Chakraborty, Anupam Kher, Darshan Kumar...</td>\n",
              "      <td>20.0</td>\n",
              "      <td>341.0</td>\n",
              "      <td>The_Kashmir_Files</td>\n",
              "      <td>The Kashmir Files</td>\n",
              "      <td>2h 50m</td>\n",
              "      <td>2022</td>\n",
              "      <td>8.6</td>\n",
              "      <td>575000</td>\n",
              "    </tr>\n",
              "    <tr>\n",
              "      <th>1</th>\n",
              "      <td>3_Idiots</td>\n",
              "      <td>3 Idiots</td>\n",
              "      <td>https://wikipedia.org/wiki/3_Idiots</td>\n",
              "      <td>Rajkumar Hirani</td>\n",
              "      <td>Vidhu Vinod Chopra</td>\n",
              "      <td>NaN</td>\n",
              "      <td>Aamir Khan, R. Madhavan, Sharman Joshi, Kareen...</td>\n",
              "      <td>55.0</td>\n",
              "      <td>401.0</td>\n",
              "      <td>3_Idiots</td>\n",
              "      <td>3 Idiots</td>\n",
              "      <td>2h 50m</td>\n",
              "      <td>2009</td>\n",
              "      <td>8.4</td>\n",
              "      <td>440000</td>\n",
              "    </tr>\n",
              "    <tr>\n",
              "      <th>2</th>\n",
              "      <td>Taare_Zameen_Par</td>\n",
              "      <td>Tare Zameen Par</td>\n",
              "      <td>https://wikipedia.org/wiki/Taare_Zameen_Par</td>\n",
              "      <td>Aamir Khan</td>\n",
              "      <td>Aamir Khan</td>\n",
              "      <td>Amole Gupte</td>\n",
              "      <td>Darsheel Safary, Aamir Khan, Tisca Chopra, Vip...</td>\n",
              "      <td>12.0</td>\n",
              "      <td>98.0</td>\n",
              "      <td>Taare_Zameen_Par</td>\n",
              "      <td>Like Stars on Earth</td>\n",
              "      <td>2h 42m</td>\n",
              "      <td>2007</td>\n",
              "      <td>8.3</td>\n",
              "      <td>209000</td>\n",
              "    </tr>\n",
              "    <tr>\n",
              "      <th>3</th>\n",
              "      <td>PK_(film)</td>\n",
              "      <td>PK</td>\n",
              "      <td>https://wikipedia.org/wiki/PK_(film)</td>\n",
              "      <td>Rajkumar Hirani</td>\n",
              "      <td>Vidhu Vinod Chopra, Rajkumar Hirani</td>\n",
              "      <td>Rajkumar Hirani, Abhijat Joshi</td>\n",
              "      <td>Aamir Khan, Anushka Sharma, Sushant Singh Rajp...</td>\n",
              "      <td>122.0</td>\n",
              "      <td>770.0</td>\n",
              "      <td>PK_(film)</td>\n",
              "      <td>PK</td>\n",
              "      <td>2h 33m</td>\n",
              "      <td>2014</td>\n",
              "      <td>8.1</td>\n",
              "      <td>203000</td>\n",
              "    </tr>\n",
              "    <tr>\n",
              "      <th>4</th>\n",
              "      <td>Radhe_(2021_film)</td>\n",
              "      <td>Radhe</td>\n",
              "      <td>https://wikipedia.org/wiki/Radhe_(2021_film)</td>\n",
              "      <td>Prabhu Deva</td>\n",
              "      <td>Salman Khan, Sohail Khan, Atul Agnihotri, Nikh...</td>\n",
              "      <td>A C Mugil, Vijay Maurya</td>\n",
              "      <td>Salman Khan, Disha Patani, Randeep Hooda, Jack...</td>\n",
              "      <td>90.0</td>\n",
              "      <td>18.0</td>\n",
              "      <td>Radhe_(2021_film)</td>\n",
              "      <td>Radhe</td>\n",
              "      <td>1h 53m</td>\n",
              "      <td>2021</td>\n",
              "      <td>1.9</td>\n",
              "      <td>180000</td>\n",
              "    </tr>\n",
              "  </tbody>\n",
              "</table>\n",
              "</div>\n",
              "    <div class=\"colab-df-buttons\">\n",
              "\n",
              "  <div class=\"colab-df-container\">\n",
              "    <button class=\"colab-df-convert\" onclick=\"convertToInteractive('df-a34b6098-f62e-4552-9dba-b1e0e0860c82')\"\n",
              "            title=\"Convert this dataframe to an interactive table.\"\n",
              "            style=\"display:none;\">\n",
              "\n",
              "  <svg xmlns=\"http://www.w3.org/2000/svg\" height=\"24px\" viewBox=\"0 -960 960 960\">\n",
              "    <path d=\"M120-120v-720h720v720H120Zm60-500h600v-160H180v160Zm220 220h160v-160H400v160Zm0 220h160v-160H400v160ZM180-400h160v-160H180v160Zm440 0h160v-160H620v160ZM180-180h160v-160H180v160Zm440 0h160v-160H620v160Z\"/>\n",
              "  </svg>\n",
              "    </button>\n",
              "\n",
              "  <style>\n",
              "    .colab-df-container {\n",
              "      display:flex;\n",
              "      gap: 12px;\n",
              "    }\n",
              "\n",
              "    .colab-df-convert {\n",
              "      background-color: #E8F0FE;\n",
              "      border: none;\n",
              "      border-radius: 50%;\n",
              "      cursor: pointer;\n",
              "      display: none;\n",
              "      fill: #1967D2;\n",
              "      height: 32px;\n",
              "      padding: 0 0 0 0;\n",
              "      width: 32px;\n",
              "    }\n",
              "\n",
              "    .colab-df-convert:hover {\n",
              "      background-color: #E2EBFA;\n",
              "      box-shadow: 0px 1px 2px rgba(60, 64, 67, 0.3), 0px 1px 3px 1px rgba(60, 64, 67, 0.15);\n",
              "      fill: #174EA6;\n",
              "    }\n",
              "\n",
              "    .colab-df-buttons div {\n",
              "      margin-bottom: 4px;\n",
              "    }\n",
              "\n",
              "    [theme=dark] .colab-df-convert {\n",
              "      background-color: #3B4455;\n",
              "      fill: #D2E3FC;\n",
              "    }\n",
              "\n",
              "    [theme=dark] .colab-df-convert:hover {\n",
              "      background-color: #434B5C;\n",
              "      box-shadow: 0px 1px 3px 1px rgba(0, 0, 0, 0.15);\n",
              "      filter: drop-shadow(0px 1px 2px rgba(0, 0, 0, 0.3));\n",
              "      fill: #FFFFFF;\n",
              "    }\n",
              "  </style>\n",
              "\n",
              "    <script>\n",
              "      const buttonEl =\n",
              "        document.querySelector('#df-a34b6098-f62e-4552-9dba-b1e0e0860c82 button.colab-df-convert');\n",
              "      buttonEl.style.display =\n",
              "        google.colab.kernel.accessAllowed ? 'block' : 'none';\n",
              "\n",
              "      async function convertToInteractive(key) {\n",
              "        const element = document.querySelector('#df-a34b6098-f62e-4552-9dba-b1e0e0860c82');\n",
              "        const dataTable =\n",
              "          await google.colab.kernel.invokeFunction('convertToInteractive',\n",
              "                                                    [key], {});\n",
              "        if (!dataTable) return;\n",
              "\n",
              "        const docLinkHtml = 'Like what you see? Visit the ' +\n",
              "          '<a target=\"_blank\" href=https://colab.research.google.com/notebooks/data_table.ipynb>data table notebook</a>'\n",
              "          + ' to learn more about interactive tables.';\n",
              "        element.innerHTML = '';\n",
              "        dataTable['output_type'] = 'display_data';\n",
              "        await google.colab.output.renderOutput(dataTable, element);\n",
              "        const docLink = document.createElement('div');\n",
              "        docLink.innerHTML = docLinkHtml;\n",
              "        element.appendChild(docLink);\n",
              "      }\n",
              "    </script>\n",
              "  </div>\n",
              "\n",
              "\n",
              "<div id=\"df-afbb4c32-8f10-4cc6-9ef2-64f2b613aa2e\">\n",
              "  <button class=\"colab-df-quickchart\" onclick=\"quickchart('df-afbb4c32-8f10-4cc6-9ef2-64f2b613aa2e')\"\n",
              "            title=\"Suggest charts\"\n",
              "            style=\"display:none;\">\n",
              "\n",
              "<svg xmlns=\"http://www.w3.org/2000/svg\" height=\"24px\"viewBox=\"0 0 24 24\"\n",
              "     width=\"24px\">\n",
              "    <g>\n",
              "        <path d=\"M19 3H5c-1.1 0-2 .9-2 2v14c0 1.1.9 2 2 2h14c1.1 0 2-.9 2-2V5c0-1.1-.9-2-2-2zM9 17H7v-7h2v7zm4 0h-2V7h2v10zm4 0h-2v-4h2v4z\"/>\n",
              "    </g>\n",
              "</svg>\n",
              "  </button>\n",
              "\n",
              "<style>\n",
              "  .colab-df-quickchart {\n",
              "      --bg-color: #E8F0FE;\n",
              "      --fill-color: #1967D2;\n",
              "      --hover-bg-color: #E2EBFA;\n",
              "      --hover-fill-color: #174EA6;\n",
              "      --disabled-fill-color: #AAA;\n",
              "      --disabled-bg-color: #DDD;\n",
              "  }\n",
              "\n",
              "  [theme=dark] .colab-df-quickchart {\n",
              "      --bg-color: #3B4455;\n",
              "      --fill-color: #D2E3FC;\n",
              "      --hover-bg-color: #434B5C;\n",
              "      --hover-fill-color: #FFFFFF;\n",
              "      --disabled-bg-color: #3B4455;\n",
              "      --disabled-fill-color: #666;\n",
              "  }\n",
              "\n",
              "  .colab-df-quickchart {\n",
              "    background-color: var(--bg-color);\n",
              "    border: none;\n",
              "    border-radius: 50%;\n",
              "    cursor: pointer;\n",
              "    display: none;\n",
              "    fill: var(--fill-color);\n",
              "    height: 32px;\n",
              "    padding: 0;\n",
              "    width: 32px;\n",
              "  }\n",
              "\n",
              "  .colab-df-quickchart:hover {\n",
              "    background-color: var(--hover-bg-color);\n",
              "    box-shadow: 0 1px 2px rgba(60, 64, 67, 0.3), 0 1px 3px 1px rgba(60, 64, 67, 0.15);\n",
              "    fill: var(--button-hover-fill-color);\n",
              "  }\n",
              "\n",
              "  .colab-df-quickchart-complete:disabled,\n",
              "  .colab-df-quickchart-complete:disabled:hover {\n",
              "    background-color: var(--disabled-bg-color);\n",
              "    fill: var(--disabled-fill-color);\n",
              "    box-shadow: none;\n",
              "  }\n",
              "\n",
              "  .colab-df-spinner {\n",
              "    border: 2px solid var(--fill-color);\n",
              "    border-color: transparent;\n",
              "    border-bottom-color: var(--fill-color);\n",
              "    animation:\n",
              "      spin 1s steps(1) infinite;\n",
              "  }\n",
              "\n",
              "  @keyframes spin {\n",
              "    0% {\n",
              "      border-color: transparent;\n",
              "      border-bottom-color: var(--fill-color);\n",
              "      border-left-color: var(--fill-color);\n",
              "    }\n",
              "    20% {\n",
              "      border-color: transparent;\n",
              "      border-left-color: var(--fill-color);\n",
              "      border-top-color: var(--fill-color);\n",
              "    }\n",
              "    30% {\n",
              "      border-color: transparent;\n",
              "      border-left-color: var(--fill-color);\n",
              "      border-top-color: var(--fill-color);\n",
              "      border-right-color: var(--fill-color);\n",
              "    }\n",
              "    40% {\n",
              "      border-color: transparent;\n",
              "      border-right-color: var(--fill-color);\n",
              "      border-top-color: var(--fill-color);\n",
              "    }\n",
              "    60% {\n",
              "      border-color: transparent;\n",
              "      border-right-color: var(--fill-color);\n",
              "    }\n",
              "    80% {\n",
              "      border-color: transparent;\n",
              "      border-right-color: var(--fill-color);\n",
              "      border-bottom-color: var(--fill-color);\n",
              "    }\n",
              "    90% {\n",
              "      border-color: transparent;\n",
              "      border-bottom-color: var(--fill-color);\n",
              "    }\n",
              "  }\n",
              "</style>\n",
              "\n",
              "  <script>\n",
              "    async function quickchart(key) {\n",
              "      const quickchartButtonEl =\n",
              "        document.querySelector('#' + key + ' button');\n",
              "      quickchartButtonEl.disabled = true;  // To prevent multiple clicks.\n",
              "      quickchartButtonEl.classList.add('colab-df-spinner');\n",
              "      try {\n",
              "        const charts = await google.colab.kernel.invokeFunction(\n",
              "            'suggestCharts', [key], {});\n",
              "      } catch (error) {\n",
              "        console.error('Error during call to suggestCharts:', error);\n",
              "      }\n",
              "      quickchartButtonEl.classList.remove('colab-df-spinner');\n",
              "      quickchartButtonEl.classList.add('colab-df-quickchart-complete');\n",
              "    }\n",
              "    (() => {\n",
              "      let quickchartButtonEl =\n",
              "        document.querySelector('#df-afbb4c32-8f10-4cc6-9ef2-64f2b613aa2e button');\n",
              "      quickchartButtonEl.style.display =\n",
              "        google.colab.kernel.accessAllowed ? 'block' : 'none';\n",
              "    })();\n",
              "  </script>\n",
              "</div>\n",
              "\n",
              "    </div>\n",
              "  </div>\n"
            ],
            "text/plain": [
              "                  ID       Movie_Name_x  \\\n",
              "0  The_Kashmir_Files  The Kashmir Files   \n",
              "1           3_Idiots           3 Idiots   \n",
              "2   Taare_Zameen_Par    Tare Zameen Par   \n",
              "3          PK_(film)                 PK   \n",
              "4  Radhe_(2021_film)              Radhe   \n",
              "\n",
              "                                            URL         Director  \\\n",
              "0  https://wikipedia.org/wiki/The_Kashmir_Files  Vivek Agnihotri   \n",
              "1           https://wikipedia.org/wiki/3_Idiots  Rajkumar Hirani   \n",
              "2   https://wikipedia.org/wiki/Taare_Zameen_Par       Aamir Khan   \n",
              "3          https://wikipedia.org/wiki/PK_(film)  Rajkumar Hirani   \n",
              "4  https://wikipedia.org/wiki/Radhe_(2021_film)      Prabhu Deva   \n",
              "\n",
              "                                            Producer  \\\n",
              "0  Tej Narayan Agarwal, Abhishek Agarwal, Pallavi...   \n",
              "1                                 Vidhu Vinod Chopra   \n",
              "2                                         Aamir Khan   \n",
              "3                Vidhu Vinod Chopra, Rajkumar Hirani   \n",
              "4  Salman Khan, Sohail Khan, Atul Agnihotri, Nikh...   \n",
              "\n",
              "                              Writer  \\\n",
              "0  Vivek Agnihotri, Saurabh M Pandey   \n",
              "1                                NaN   \n",
              "2                        Amole Gupte   \n",
              "3     Rajkumar Hirani, Abhijat Joshi   \n",
              "4            A C Mugil, Vijay Maurya   \n",
              "\n",
              "                                             Casting  Budget  Box_Office  \\\n",
              "0  Mithun Chakraborty, Anupam Kher, Darshan Kumar...    20.0       341.0   \n",
              "1  Aamir Khan, R. Madhavan, Sharman Joshi, Kareen...    55.0       401.0   \n",
              "2  Darsheel Safary, Aamir Khan, Tisca Chopra, Vip...    12.0        98.0   \n",
              "3  Aamir Khan, Anushka Sharma, Sushant Singh Rajp...   122.0       770.0   \n",
              "4  Salman Khan, Disha Patani, Randeep Hooda, Jack...    90.0        18.0   \n",
              "\n",
              "          Unnamed: 9         Movie_Name_y Duration  Year  Rating  Rating_count  \n",
              "0  The_Kashmir_Files    The Kashmir Files   2h 50m  2022     8.6        575000  \n",
              "1           3_Idiots             3 Idiots   2h 50m  2009     8.4        440000  \n",
              "2   Taare_Zameen_Par  Like Stars on Earth   2h 42m  2007     8.3        209000  \n",
              "3          PK_(film)                   PK   2h 33m  2014     8.1        203000  \n",
              "4  Radhe_(2021_film)                Radhe   1h 53m  2021     1.9        180000  "
            ]
          },
          "execution_count": 22,
          "metadata": {},
          "output_type": "execute_result"
        }
      ],
      "source": [
        "#df=pd.merge(df1, df2, on='ID', how='inner')\n",
        "#df.head() used in processing of dataset(now not required as we already have processed data)"
      ]
    },
    {
      "cell_type": "code",
      "execution_count": null,
      "metadata": {
        "colab": {
          "base_uri": "https://localhost:8080/",
          "height": 180
        },
        "id": "9EEcvE1KSacf",
        "outputId": "24d2baae-25df-4ab5-f90f-2dfa762e28e0"
      },
      "outputs": [
        {
          "output_type": "error",
          "ename": "NameError",
          "evalue": "name 'df' is not defined",
          "traceback": [
            "\u001b[0;31m---------------------------------------------------------------------------\u001b[0m",
            "\u001b[0;31mNameError\u001b[0m                                 Traceback (most recent call last)",
            "\u001b[0;32m<ipython-input-5-e379a0cab39e>\u001b[0m in \u001b[0;36m<cell line: 1>\u001b[0;34m()\u001b[0m\n\u001b[0;32m----> 1\u001b[0;31m \u001b[0mdf\u001b[0m\u001b[0;34m.\u001b[0m\u001b[0mrename\u001b[0m\u001b[0;34m(\u001b[0m\u001b[0mcolumns\u001b[0m\u001b[0;34m=\u001b[0m\u001b[0;34m{\u001b[0m\u001b[0;34m'Movie_Name_x'\u001b[0m\u001b[0;34m:\u001b[0m\u001b[0;34m'Movie_Name'\u001b[0m\u001b[0;34m}\u001b[0m\u001b[0;34m,\u001b[0m \u001b[0minplace\u001b[0m\u001b[0;34m=\u001b[0m\u001b[0;32mTrue\u001b[0m\u001b[0;34m)\u001b[0m\u001b[0;34m\u001b[0m\u001b[0;34m\u001b[0m\u001b[0m\n\u001b[0m\u001b[1;32m      2\u001b[0m \u001b[0mdf\u001b[0m\u001b[0;34m=\u001b[0m \u001b[0mdf\u001b[0m\u001b[0;34m.\u001b[0m\u001b[0mdrop\u001b[0m\u001b[0;34m(\u001b[0m\u001b[0;34m'Movie_Name_y'\u001b[0m\u001b[0;34m,\u001b[0m \u001b[0maxis\u001b[0m\u001b[0;34m=\u001b[0m\u001b[0;36m1\u001b[0m\u001b[0;34m)\u001b[0m\u001b[0;34m\u001b[0m\u001b[0;34m\u001b[0m\u001b[0m\n\u001b[1;32m      3\u001b[0m \u001b[0mdf\u001b[0m\u001b[0;34m.\u001b[0m\u001b[0mhead\u001b[0m\u001b[0;34m(\u001b[0m\u001b[0;34m)\u001b[0m\u001b[0;34m\u001b[0m\u001b[0;34m\u001b[0m\u001b[0m\n",
            "\u001b[0;31mNameError\u001b[0m: name 'df' is not defined"
          ]
        }
      ],
      "source": [
        "'''df.rename(columns={'Movie_Name_x':'Movie_Name'}, inplace=True)\n",
        "df= df.drop('Movie_Name_y', axis=1)\n",
        "df.head()'''used in processing of dataset"
      ]
    },
    {
      "cell_type": "code",
      "execution_count": null,
      "metadata": {
        "colab": {
          "base_uri": "https://localhost:8080/"
        },
        "id": "WFouFHL4SvnM",
        "outputId": "9d340d93-d870-4843-c632-73cffc5d5e30"
      },
      "outputs": [
        {
          "data": {
            "text/plain": [
              "(1127, 13)"
            ]
          },
          "execution_count": 25,
          "metadata": {},
          "output_type": "execute_result"
        }
      ],
      "source": [
        "df.shape"
      ]
    },
    {
      "cell_type": "code",
      "execution_count": null,
      "metadata": {
        "colab": {
          "base_uri": "https://localhost:8080/"
        },
        "id": "Oru7KHM2TTvD",
        "outputId": "33d4348e-a51b-428f-f9f9-afaff3b184c6"
      },
      "outputs": [
        {
          "name": "stdout",
          "output_type": "stream",
          "text": [
            "ID\n",
            "The_Kashmir_Files        1\n",
            "Beta_(1992_film)         1\n",
            "Knock_Out_(2010_film)    1\n",
            "Maya_Memsaab             1\n",
            "Krantiveer               1\n",
            "                        ..\n",
            "Mother_India             1\n",
            "Golmaal_3                1\n",
            "Hum_Saath-Saath_Hain     1\n",
            "Qarib_Qarib_Single       1\n",
            "Yamla_Pagla_Deewana      1\n",
            "Name: count, Length: 1127, dtype: int64\n"
          ]
        }
      ],
      "source": [
        "unique_values_with_counts = df['ID'].value_counts()\n",
        "print(unique_values_with_counts)"
      ]
    },
    {
      "cell_type": "code",
      "execution_count": 20,
      "metadata": {
        "colab": {
          "base_uri": "https://localhost:8080/",
          "height": 660
        },
        "id": "z55WQSNC052X",
        "outputId": "a364ccae-efcd-4fc5-b29e-f7dd95e63bba"
      },
      "outputs": [
        {
          "output_type": "execute_result",
          "data": {
            "text/plain": [
              "                  ID         Movie_Name  \\\n",
              "0  The_Kashmir_Files  The Kashmir Files   \n",
              "1           3_Idiots           3 Idiots   \n",
              "2   Taare_Zameen_Par    Tare Zameen Par   \n",
              "3          PK_(film)                 PK   \n",
              "4  Radhe_(2021_film)              Radhe   \n",
              "\n",
              "                                            URL         Director  \\\n",
              "0  https://wikipedia.org/wiki/The_Kashmir_Files  Vivek Agnihotri   \n",
              "1           https://wikipedia.org/wiki/3_Idiots  Rajkumar Hirani   \n",
              "2   https://wikipedia.org/wiki/Taare_Zameen_Par       Aamir Khan   \n",
              "3          https://wikipedia.org/wiki/PK_(film)  Rajkumar Hirani   \n",
              "4  https://wikipedia.org/wiki/Radhe_(2021_film)      Prabhu Deva   \n",
              "\n",
              "                                            Producer  \\\n",
              "0  Tej Narayan Agarwal, Abhishek Agarwal, Pallavi...   \n",
              "1                                 Vidhu Vinod Chopra   \n",
              "2                                         Aamir Khan   \n",
              "3                Vidhu Vinod Chopra, Rajkumar Hirani   \n",
              "4  Salman Khan, Sohail Khan, Atul Agnihotri, Nikh...   \n",
              "\n",
              "                              Writer  \\\n",
              "0  Vivek Agnihotri, Saurabh M Pandey   \n",
              "1                                NaN   \n",
              "2                        Amole Gupte   \n",
              "3     Rajkumar Hirani, Abhijat Joshi   \n",
              "4            A C Mugil, Vijay Maurya   \n",
              "\n",
              "                                             Casting  Budget  Box_Office  \\\n",
              "0  Mithun Chakraborty, Anupam Kher, Darshan Kumar...    20.0       341.0   \n",
              "1  Aamir Khan, R. Madhavan, Sharman Joshi, Kareen...    55.0       401.0   \n",
              "2  Darsheel Safary, Aamir Khan, Tisca Chopra, Vip...    12.0        98.0   \n",
              "3  Aamir Khan, Anushka Sharma, Sushant Singh Rajp...   122.0       770.0   \n",
              "4  Salman Khan, Disha Patani, Randeep Hooda, Jack...   170.0       300.0   \n",
              "\n",
              "  Duration  Year  Rating  Rating_count     Genre  Inflated_Box_Office  \\\n",
              "0   2h 50m  2022     8.6        575000  Thriller               383.15   \n",
              "1   2h 50m  2009     8.4        440000    Comedy               961.02   \n",
              "2   2h 42m  2007     8.3        209000     Drama               263.89   \n",
              "3   2h 33m  2014     8.1        203000    Comedy              1378.95   \n",
              "4   1h 53m  2021     1.9        180000    Action               357.30   \n",
              "\n",
              "   Inflated_Budget           Performance     Profit  \n",
              "0            22.47  All Time BlockBuster  17.050000  \n",
              "1           131.81  All Time BlockBuster   7.290909  \n",
              "2            32.31           Blockbuster   8.166667  \n",
              "3           218.48           Blockbuster   6.311475  \n",
              "4           202.47                   Hit   1.764706  "
            ],
            "text/html": [
              "\n",
              "  <div id=\"df-50dca039-3e1b-4976-ae4a-1ac5e8415c22\" class=\"colab-df-container\">\n",
              "    <div>\n",
              "<style scoped>\n",
              "    .dataframe tbody tr th:only-of-type {\n",
              "        vertical-align: middle;\n",
              "    }\n",
              "\n",
              "    .dataframe tbody tr th {\n",
              "        vertical-align: top;\n",
              "    }\n",
              "\n",
              "    .dataframe thead th {\n",
              "        text-align: right;\n",
              "    }\n",
              "</style>\n",
              "<table border=\"1\" class=\"dataframe\">\n",
              "  <thead>\n",
              "    <tr style=\"text-align: right;\">\n",
              "      <th></th>\n",
              "      <th>ID</th>\n",
              "      <th>Movie_Name</th>\n",
              "      <th>URL</th>\n",
              "      <th>Director</th>\n",
              "      <th>Producer</th>\n",
              "      <th>Writer</th>\n",
              "      <th>Casting</th>\n",
              "      <th>Budget</th>\n",
              "      <th>Box_Office</th>\n",
              "      <th>Duration</th>\n",
              "      <th>Year</th>\n",
              "      <th>Rating</th>\n",
              "      <th>Rating_count</th>\n",
              "      <th>Genre</th>\n",
              "      <th>Inflated_Box_Office</th>\n",
              "      <th>Inflated_Budget</th>\n",
              "      <th>Performance</th>\n",
              "      <th>Profit</th>\n",
              "    </tr>\n",
              "  </thead>\n",
              "  <tbody>\n",
              "    <tr>\n",
              "      <th>0</th>\n",
              "      <td>The_Kashmir_Files</td>\n",
              "      <td>The Kashmir Files</td>\n",
              "      <td>https://wikipedia.org/wiki/The_Kashmir_Files</td>\n",
              "      <td>Vivek Agnihotri</td>\n",
              "      <td>Tej Narayan Agarwal, Abhishek Agarwal, Pallavi...</td>\n",
              "      <td>Vivek Agnihotri, Saurabh M Pandey</td>\n",
              "      <td>Mithun Chakraborty, Anupam Kher, Darshan Kumar...</td>\n",
              "      <td>20.0</td>\n",
              "      <td>341.0</td>\n",
              "      <td>2h 50m</td>\n",
              "      <td>2022</td>\n",
              "      <td>8.6</td>\n",
              "      <td>575000</td>\n",
              "      <td>Thriller</td>\n",
              "      <td>383.15</td>\n",
              "      <td>22.47</td>\n",
              "      <td>All Time BlockBuster</td>\n",
              "      <td>17.050000</td>\n",
              "    </tr>\n",
              "    <tr>\n",
              "      <th>1</th>\n",
              "      <td>3_Idiots</td>\n",
              "      <td>3 Idiots</td>\n",
              "      <td>https://wikipedia.org/wiki/3_Idiots</td>\n",
              "      <td>Rajkumar Hirani</td>\n",
              "      <td>Vidhu Vinod Chopra</td>\n",
              "      <td>NaN</td>\n",
              "      <td>Aamir Khan, R. Madhavan, Sharman Joshi, Kareen...</td>\n",
              "      <td>55.0</td>\n",
              "      <td>401.0</td>\n",
              "      <td>2h 50m</td>\n",
              "      <td>2009</td>\n",
              "      <td>8.4</td>\n",
              "      <td>440000</td>\n",
              "      <td>Comedy</td>\n",
              "      <td>961.02</td>\n",
              "      <td>131.81</td>\n",
              "      <td>All Time BlockBuster</td>\n",
              "      <td>7.290909</td>\n",
              "    </tr>\n",
              "    <tr>\n",
              "      <th>2</th>\n",
              "      <td>Taare_Zameen_Par</td>\n",
              "      <td>Tare Zameen Par</td>\n",
              "      <td>https://wikipedia.org/wiki/Taare_Zameen_Par</td>\n",
              "      <td>Aamir Khan</td>\n",
              "      <td>Aamir Khan</td>\n",
              "      <td>Amole Gupte</td>\n",
              "      <td>Darsheel Safary, Aamir Khan, Tisca Chopra, Vip...</td>\n",
              "      <td>12.0</td>\n",
              "      <td>98.0</td>\n",
              "      <td>2h 42m</td>\n",
              "      <td>2007</td>\n",
              "      <td>8.3</td>\n",
              "      <td>209000</td>\n",
              "      <td>Drama</td>\n",
              "      <td>263.89</td>\n",
              "      <td>32.31</td>\n",
              "      <td>Blockbuster</td>\n",
              "      <td>8.166667</td>\n",
              "    </tr>\n",
              "    <tr>\n",
              "      <th>3</th>\n",
              "      <td>PK_(film)</td>\n",
              "      <td>PK</td>\n",
              "      <td>https://wikipedia.org/wiki/PK_(film)</td>\n",
              "      <td>Rajkumar Hirani</td>\n",
              "      <td>Vidhu Vinod Chopra, Rajkumar Hirani</td>\n",
              "      <td>Rajkumar Hirani, Abhijat Joshi</td>\n",
              "      <td>Aamir Khan, Anushka Sharma, Sushant Singh Rajp...</td>\n",
              "      <td>122.0</td>\n",
              "      <td>770.0</td>\n",
              "      <td>2h 33m</td>\n",
              "      <td>2014</td>\n",
              "      <td>8.1</td>\n",
              "      <td>203000</td>\n",
              "      <td>Comedy</td>\n",
              "      <td>1378.95</td>\n",
              "      <td>218.48</td>\n",
              "      <td>Blockbuster</td>\n",
              "      <td>6.311475</td>\n",
              "    </tr>\n",
              "    <tr>\n",
              "      <th>4</th>\n",
              "      <td>Radhe_(2021_film)</td>\n",
              "      <td>Radhe</td>\n",
              "      <td>https://wikipedia.org/wiki/Radhe_(2021_film)</td>\n",
              "      <td>Prabhu Deva</td>\n",
              "      <td>Salman Khan, Sohail Khan, Atul Agnihotri, Nikh...</td>\n",
              "      <td>A C Mugil, Vijay Maurya</td>\n",
              "      <td>Salman Khan, Disha Patani, Randeep Hooda, Jack...</td>\n",
              "      <td>170.0</td>\n",
              "      <td>300.0</td>\n",
              "      <td>1h 53m</td>\n",
              "      <td>2021</td>\n",
              "      <td>1.9</td>\n",
              "      <td>180000</td>\n",
              "      <td>Action</td>\n",
              "      <td>357.30</td>\n",
              "      <td>202.47</td>\n",
              "      <td>Hit</td>\n",
              "      <td>1.764706</td>\n",
              "    </tr>\n",
              "  </tbody>\n",
              "</table>\n",
              "</div>\n",
              "    <div class=\"colab-df-buttons\">\n",
              "\n",
              "  <div class=\"colab-df-container\">\n",
              "    <button class=\"colab-df-convert\" onclick=\"convertToInteractive('df-50dca039-3e1b-4976-ae4a-1ac5e8415c22')\"\n",
              "            title=\"Convert this dataframe to an interactive table.\"\n",
              "            style=\"display:none;\">\n",
              "\n",
              "  <svg xmlns=\"http://www.w3.org/2000/svg\" height=\"24px\" viewBox=\"0 -960 960 960\">\n",
              "    <path d=\"M120-120v-720h720v720H120Zm60-500h600v-160H180v160Zm220 220h160v-160H400v160Zm0 220h160v-160H400v160ZM180-400h160v-160H180v160Zm440 0h160v-160H620v160ZM180-180h160v-160H180v160Zm440 0h160v-160H620v160Z\"/>\n",
              "  </svg>\n",
              "    </button>\n",
              "\n",
              "  <style>\n",
              "    .colab-df-container {\n",
              "      display:flex;\n",
              "      gap: 12px;\n",
              "    }\n",
              "\n",
              "    .colab-df-convert {\n",
              "      background-color: #E8F0FE;\n",
              "      border: none;\n",
              "      border-radius: 50%;\n",
              "      cursor: pointer;\n",
              "      display: none;\n",
              "      fill: #1967D2;\n",
              "      height: 32px;\n",
              "      padding: 0 0 0 0;\n",
              "      width: 32px;\n",
              "    }\n",
              "\n",
              "    .colab-df-convert:hover {\n",
              "      background-color: #E2EBFA;\n",
              "      box-shadow: 0px 1px 2px rgba(60, 64, 67, 0.3), 0px 1px 3px 1px rgba(60, 64, 67, 0.15);\n",
              "      fill: #174EA6;\n",
              "    }\n",
              "\n",
              "    .colab-df-buttons div {\n",
              "      margin-bottom: 4px;\n",
              "    }\n",
              "\n",
              "    [theme=dark] .colab-df-convert {\n",
              "      background-color: #3B4455;\n",
              "      fill: #D2E3FC;\n",
              "    }\n",
              "\n",
              "    [theme=dark] .colab-df-convert:hover {\n",
              "      background-color: #434B5C;\n",
              "      box-shadow: 0px 1px 3px 1px rgba(0, 0, 0, 0.15);\n",
              "      filter: drop-shadow(0px 1px 2px rgba(0, 0, 0, 0.3));\n",
              "      fill: #FFFFFF;\n",
              "    }\n",
              "  </style>\n",
              "\n",
              "    <script>\n",
              "      const buttonEl =\n",
              "        document.querySelector('#df-50dca039-3e1b-4976-ae4a-1ac5e8415c22 button.colab-df-convert');\n",
              "      buttonEl.style.display =\n",
              "        google.colab.kernel.accessAllowed ? 'block' : 'none';\n",
              "\n",
              "      async function convertToInteractive(key) {\n",
              "        const element = document.querySelector('#df-50dca039-3e1b-4976-ae4a-1ac5e8415c22');\n",
              "        const dataTable =\n",
              "          await google.colab.kernel.invokeFunction('convertToInteractive',\n",
              "                                                    [key], {});\n",
              "        if (!dataTable) return;\n",
              "\n",
              "        const docLinkHtml = 'Like what you see? Visit the ' +\n",
              "          '<a target=\"_blank\" href=https://colab.research.google.com/notebooks/data_table.ipynb>data table notebook</a>'\n",
              "          + ' to learn more about interactive tables.';\n",
              "        element.innerHTML = '';\n",
              "        dataTable['output_type'] = 'display_data';\n",
              "        await google.colab.output.renderOutput(dataTable, element);\n",
              "        const docLink = document.createElement('div');\n",
              "        docLink.innerHTML = docLinkHtml;\n",
              "        element.appendChild(docLink);\n",
              "      }\n",
              "    </script>\n",
              "  </div>\n",
              "\n",
              "\n",
              "<div id=\"df-12ce3b3a-b49f-40fd-b676-117d1fad65d1\">\n",
              "  <button class=\"colab-df-quickchart\" onclick=\"quickchart('df-12ce3b3a-b49f-40fd-b676-117d1fad65d1')\"\n",
              "            title=\"Suggest charts\"\n",
              "            style=\"display:none;\">\n",
              "\n",
              "<svg xmlns=\"http://www.w3.org/2000/svg\" height=\"24px\"viewBox=\"0 0 24 24\"\n",
              "     width=\"24px\">\n",
              "    <g>\n",
              "        <path d=\"M19 3H5c-1.1 0-2 .9-2 2v14c0 1.1.9 2 2 2h14c1.1 0 2-.9 2-2V5c0-1.1-.9-2-2-2zM9 17H7v-7h2v7zm4 0h-2V7h2v10zm4 0h-2v-4h2v4z\"/>\n",
              "    </g>\n",
              "</svg>\n",
              "  </button>\n",
              "\n",
              "<style>\n",
              "  .colab-df-quickchart {\n",
              "      --bg-color: #E8F0FE;\n",
              "      --fill-color: #1967D2;\n",
              "      --hover-bg-color: #E2EBFA;\n",
              "      --hover-fill-color: #174EA6;\n",
              "      --disabled-fill-color: #AAA;\n",
              "      --disabled-bg-color: #DDD;\n",
              "  }\n",
              "\n",
              "  [theme=dark] .colab-df-quickchart {\n",
              "      --bg-color: #3B4455;\n",
              "      --fill-color: #D2E3FC;\n",
              "      --hover-bg-color: #434B5C;\n",
              "      --hover-fill-color: #FFFFFF;\n",
              "      --disabled-bg-color: #3B4455;\n",
              "      --disabled-fill-color: #666;\n",
              "  }\n",
              "\n",
              "  .colab-df-quickchart {\n",
              "    background-color: var(--bg-color);\n",
              "    border: none;\n",
              "    border-radius: 50%;\n",
              "    cursor: pointer;\n",
              "    display: none;\n",
              "    fill: var(--fill-color);\n",
              "    height: 32px;\n",
              "    padding: 0;\n",
              "    width: 32px;\n",
              "  }\n",
              "\n",
              "  .colab-df-quickchart:hover {\n",
              "    background-color: var(--hover-bg-color);\n",
              "    box-shadow: 0 1px 2px rgba(60, 64, 67, 0.3), 0 1px 3px 1px rgba(60, 64, 67, 0.15);\n",
              "    fill: var(--button-hover-fill-color);\n",
              "  }\n",
              "\n",
              "  .colab-df-quickchart-complete:disabled,\n",
              "  .colab-df-quickchart-complete:disabled:hover {\n",
              "    background-color: var(--disabled-bg-color);\n",
              "    fill: var(--disabled-fill-color);\n",
              "    box-shadow: none;\n",
              "  }\n",
              "\n",
              "  .colab-df-spinner {\n",
              "    border: 2px solid var(--fill-color);\n",
              "    border-color: transparent;\n",
              "    border-bottom-color: var(--fill-color);\n",
              "    animation:\n",
              "      spin 1s steps(1) infinite;\n",
              "  }\n",
              "\n",
              "  @keyframes spin {\n",
              "    0% {\n",
              "      border-color: transparent;\n",
              "      border-bottom-color: var(--fill-color);\n",
              "      border-left-color: var(--fill-color);\n",
              "    }\n",
              "    20% {\n",
              "      border-color: transparent;\n",
              "      border-left-color: var(--fill-color);\n",
              "      border-top-color: var(--fill-color);\n",
              "    }\n",
              "    30% {\n",
              "      border-color: transparent;\n",
              "      border-left-color: var(--fill-color);\n",
              "      border-top-color: var(--fill-color);\n",
              "      border-right-color: var(--fill-color);\n",
              "    }\n",
              "    40% {\n",
              "      border-color: transparent;\n",
              "      border-right-color: var(--fill-color);\n",
              "      border-top-color: var(--fill-color);\n",
              "    }\n",
              "    60% {\n",
              "      border-color: transparent;\n",
              "      border-right-color: var(--fill-color);\n",
              "    }\n",
              "    80% {\n",
              "      border-color: transparent;\n",
              "      border-right-color: var(--fill-color);\n",
              "      border-bottom-color: var(--fill-color);\n",
              "    }\n",
              "    90% {\n",
              "      border-color: transparent;\n",
              "      border-bottom-color: var(--fill-color);\n",
              "    }\n",
              "  }\n",
              "</style>\n",
              "\n",
              "  <script>\n",
              "    async function quickchart(key) {\n",
              "      const quickchartButtonEl =\n",
              "        document.querySelector('#' + key + ' button');\n",
              "      quickchartButtonEl.disabled = true;  // To prevent multiple clicks.\n",
              "      quickchartButtonEl.classList.add('colab-df-spinner');\n",
              "      try {\n",
              "        const charts = await google.colab.kernel.invokeFunction(\n",
              "            'suggestCharts', [key], {});\n",
              "      } catch (error) {\n",
              "        console.error('Error during call to suggestCharts:', error);\n",
              "      }\n",
              "      quickchartButtonEl.classList.remove('colab-df-spinner');\n",
              "      quickchartButtonEl.classList.add('colab-df-quickchart-complete');\n",
              "    }\n",
              "    (() => {\n",
              "      let quickchartButtonEl =\n",
              "        document.querySelector('#df-12ce3b3a-b49f-40fd-b676-117d1fad65d1 button');\n",
              "      quickchartButtonEl.style.display =\n",
              "        google.colab.kernel.accessAllowed ? 'block' : 'none';\n",
              "    })();\n",
              "  </script>\n",
              "</div>\n",
              "\n",
              "    </div>\n",
              "  </div>\n"
            ],
            "application/vnd.google.colaboratory.intrinsic+json": {
              "type": "dataframe",
              "variable_name": "main_df",
              "summary": "{\n  \"name\": \"main_df\",\n  \"rows\": 1125,\n  \"fields\": [\n    {\n      \"column\": \"ID\",\n      \"properties\": {\n        \"dtype\": \"string\",\n        \"num_unique_values\": 1125,\n        \"samples\": [\n          \"Yaraana_(1995_film)\",\n          \"Mard_Ko_Dard_Nahi_Hota\",\n          \"Darna_Zaroori_Hai\"\n        ],\n        \"semantic_type\": \"\",\n        \"description\": \"\"\n      }\n    },\n    {\n      \"column\": \"Movie_Name\",\n      \"properties\": {\n        \"dtype\": \"string\",\n        \"num_unique_values\": 1118,\n        \"samples\": [\n          \"Dushman Duniya Ka\",\n          \"Bachchhan Paandey\",\n          \"Kis Kisko Pyaar Karoon\"\n        ],\n        \"semantic_type\": \"\",\n        \"description\": \"\"\n      }\n    },\n    {\n      \"column\": \"URL\",\n      \"properties\": {\n        \"dtype\": \"string\",\n        \"num_unique_values\": 1125,\n        \"samples\": [\n          \"https://wikipedia.org/wiki/Yaraana_(1995_film)\",\n          \"https://en.wikipedia.org/wiki/Mard_Ko_Dard_Nahi_Hota\",\n          \"https://wikipedia.org/wiki/Darna_Zaroori_Hai\"\n        ],\n        \"semantic_type\": \"\",\n        \"description\": \"\"\n      }\n    },\n    {\n      \"column\": \"Director\",\n      \"properties\": {\n        \"dtype\": \"category\",\n        \"num_unique_values\": 510,\n        \"samples\": [\n          \"Kabir Sadanand\",\n          \"Karan Lalit Butani\",\n          \"Padam Kumar\"\n        ],\n        \"semantic_type\": \"\",\n        \"description\": \"\"\n      }\n    },\n    {\n      \"column\": \"Producer\",\n      \"properties\": {\n        \"dtype\": \"string\",\n        \"num_unique_values\": 783,\n        \"samples\": [\n          \"Sohail Khan, Ravi Walia\",\n          \"Sushmit Ghosh, Rintu Thomas\",\n          \"Ramesh S. Taurani, Kumar S. Taurani\"\n        ],\n        \"semantic_type\": \"\",\n        \"description\": \"\"\n      }\n    },\n    {\n      \"column\": \"Writer\",\n      \"properties\": {\n        \"dtype\": \"string\",\n        \"num_unique_values\": 722,\n        \"samples\": [\n          \"Aseem Arora, Vardhan Ketkar\",\n          \"Vikram Bhatt, Mohan Azad, Sukhmani Sadana\",\n          \"Feroz Abbas Khan\"\n        ],\n        \"semantic_type\": \"\",\n        \"description\": \"\"\n      }\n    },\n    {\n      \"column\": \"Casting\",\n      \"properties\": {\n        \"dtype\": \"string\",\n        \"num_unique_values\": 1112,\n        \"samples\": [\n          \"Amitabh Bachchan, Abhishek Bachchan, Aishwarya Rai Bachchan, Dilip Prabhavalkar, Supriya Pathak\",\n          \"Saif Ali Khan, Manav Vij, Zoya Hussain, Sonakshi Sinha\",\n          \"Shah Rukh Khan, Anushka Sharma, Vinay Pathak\"\n        ],\n        \"semantic_type\": \"\",\n        \"description\": \"\"\n      }\n    },\n    {\n      \"column\": \"Budget\",\n      \"properties\": {\n        \"dtype\": \"number\",\n        \"std\": 43.55003782360619,\n        \"min\": 0.025,\n        \"max\": 600.0,\n        \"num_unique_values\": 198,\n        \"samples\": [\n          7.5,\n          27.0,\n          11.0\n        ],\n        \"semantic_type\": \"\",\n        \"description\": \"\"\n      }\n    },\n    {\n      \"column\": \"Box_Office\",\n      \"properties\": {\n        \"dtype\": \"number\",\n        \"std\": 126.92274543271266,\n        \"min\": 0.03,\n        \"max\": 2234.0,\n        \"num_unique_values\": 300,\n        \"samples\": [\n          280.0,\n          5.3,\n          18.0\n        ],\n        \"semantic_type\": \"\",\n        \"description\": \"\"\n      }\n    },\n    {\n      \"column\": \"Duration\",\n      \"properties\": {\n        \"dtype\": \"category\",\n        \"num_unique_values\": 119,\n        \"samples\": [\n          \"2h 38m\",\n          \"1h 47m\",\n          \"2h 39m\"\n        ],\n        \"semantic_type\": \"\",\n        \"description\": \"\"\n      }\n    },\n    {\n      \"column\": \"Year\",\n      \"properties\": {\n        \"dtype\": \"number\",\n        \"std\": 13,\n        \"min\": 1949,\n        \"max\": 2024,\n        \"num_unique_values\": 72,\n        \"samples\": [\n          2021,\n          1985,\n          2013\n        ],\n        \"semantic_type\": \"\",\n        \"description\": \"\"\n      }\n    },\n    {\n      \"column\": \"Rating\",\n      \"properties\": {\n        \"dtype\": \"number\",\n        \"std\": 1.4194287747748227,\n        \"min\": 1.4,\n        \"max\": 8.9,\n        \"num_unique_values\": 71,\n        \"samples\": [\n          7.4,\n          8.6,\n          4.1\n        ],\n        \"semantic_type\": \"\",\n        \"description\": \"\"\n      }\n    },\n    {\n      \"column\": \"Rating_count\",\n      \"properties\": {\n        \"dtype\": \"number\",\n        \"std\": 31035,\n        \"min\": 100,\n        \"max\": 575000,\n        \"num_unique_values\": 293,\n        \"samples\": [\n          9700,\n          550,\n          45000\n        ],\n        \"semantic_type\": \"\",\n        \"description\": \"\"\n      }\n    },\n    {\n      \"column\": \"Genre\",\n      \"properties\": {\n        \"dtype\": \"category\",\n        \"num_unique_values\": 21,\n        \"samples\": [\n          \"Thriller\",\n          \"Dance\",\n          \"Adventure\"\n        ],\n        \"semantic_type\": \"\",\n        \"description\": \"\"\n      }\n    },\n    {\n      \"column\": \"Inflated_Box_Office\",\n      \"properties\": {\n        \"dtype\": \"number\",\n        \"std\": 205.70052075305836,\n        \"min\": 0.04,\n        \"max\": 3560.66,\n        \"num_unique_values\": 975,\n        \"samples\": [\n          81.48,\n          11.08,\n          135.68\n        ],\n        \"semantic_type\": \"\",\n        \"description\": \"\"\n      }\n    },\n    {\n      \"column\": \"Inflated_Budget\",\n      \"properties\": {\n        \"dtype\": \"number\",\n        \"std\": 55.334567977324795,\n        \"min\": 0.26,\n        \"max\": 636.0,\n        \"num_unique_values\": 820,\n        \"samples\": [\n          57.3,\n          129.08,\n          11.0\n        ],\n        \"semantic_type\": \"\",\n        \"description\": \"\"\n      }\n    },\n    {\n      \"column\": \"Performance\",\n      \"properties\": {\n        \"dtype\": \"category\",\n        \"num_unique_values\": 7,\n        \"samples\": [\n          \"All Time BlockBuster\",\n          \"Blockbuster\",\n          \"Average\"\n        ],\n        \"semantic_type\": \"\",\n        \"description\": \"\"\n      }\n    },\n    {\n      \"column\": \"Profit\",\n      \"properties\": {\n        \"dtype\": \"number\",\n        \"std\": 5.913420390454509,\n        \"min\": 0.0006,\n        \"max\": 100.0,\n        \"num_unique_values\": 753,\n        \"samples\": [\n          0.425,\n          1.4999999999999998,\n          1.3857142857142857\n        ],\n        \"semantic_type\": \"\",\n        \"description\": \"\"\n      }\n    }\n  ]\n}"
            }
          },
          "metadata": {},
          "execution_count": 20
        }
      ],
      "source": [
        "main_df=pd.read_csv('Main_Hindi_Films_Dataset.csv')\n",
        "main_df.head()"
      ]
    },
    {
      "cell_type": "code",
      "source": [
        "#main_df['Box_Office'] = main_df['Box_Office'].astype(float)\n",
        "#main_df['Budget'] = main_df['Budget'].astype(float)"
      ],
      "metadata": {
        "id": "iO4rwW9su9D8"
      },
      "execution_count": null,
      "outputs": []
    },
    {
      "cell_type": "code",
      "source": [
        "#print(main_df.dtypes)\n"
      ],
      "metadata": {
        "colab": {
          "base_uri": "https://localhost:8080/"
        },
        "id": "v485sLN3u0eh",
        "outputId": "dc1f238b-1514-4e3e-c6b6-9aac265c24ec"
      },
      "execution_count": null,
      "outputs": [
        {
          "output_type": "stream",
          "name": "stdout",
          "text": [
            "ID                      object\n",
            "Movie_Name              object\n",
            "URL                     object\n",
            "Director                object\n",
            "Producer                object\n",
            "Writer                  object\n",
            "Casting                 object\n",
            "Budget                 float64\n",
            "Box_Office             float64\n",
            "Duration                object\n",
            "Year                     int64\n",
            "Rating                 float64\n",
            "Rating_count             int64\n",
            "Genre                   object\n",
            "Inflated_Box_Office    float64\n",
            "Inflated_Budget        float64\n",
            "Performance             object\n",
            "dtype: object\n"
          ]
        }
      ]
    },
    {
      "cell_type": "code",
      "execution_count": null,
      "metadata": {
        "id": "LhS6wHba2nPm"
      },
      "outputs": [],
      "source": [
        "#from datetime import datetime #importing datatime function"
      ]
    },
    {
      "cell_type": "code",
      "execution_count": null,
      "metadata": {
        "colab": {
          "base_uri": "https://localhost:8080/",
          "height": 660
        },
        "id": "weG3BCEh7UB9",
        "outputId": "239cb245-474d-4086-ddb2-2582f51e4218"
      },
      "outputs": [
        {
          "output_type": "execute_result",
          "data": {
            "text/plain": [
              "                  ID         Movie_Name  \\\n",
              "0  The_Kashmir_Files  The Kashmir Files   \n",
              "1           3_Idiots           3 Idiots   \n",
              "2   Taare_Zameen_Par    Tare Zameen Par   \n",
              "3          PK_(film)                 PK   \n",
              "4  Radhe_(2021_film)              Radhe   \n",
              "\n",
              "                                            URL         Director  \\\n",
              "0  https://wikipedia.org/wiki/The_Kashmir_Files  Vivek Agnihotri   \n",
              "1           https://wikipedia.org/wiki/3_Idiots  Rajkumar Hirani   \n",
              "2   https://wikipedia.org/wiki/Taare_Zameen_Par       Aamir Khan   \n",
              "3          https://wikipedia.org/wiki/PK_(film)  Rajkumar Hirani   \n",
              "4  https://wikipedia.org/wiki/Radhe_(2021_film)      Prabhu Deva   \n",
              "\n",
              "                                            Producer  \\\n",
              "0  Tej Narayan Agarwal, Abhishek Agarwal, Pallavi...   \n",
              "1                                 Vidhu Vinod Chopra   \n",
              "2                                         Aamir Khan   \n",
              "3                Vidhu Vinod Chopra, Rajkumar Hirani   \n",
              "4  Salman Khan, Sohail Khan, Atul Agnihotri, Nikh...   \n",
              "\n",
              "                              Writer  \\\n",
              "0  Vivek Agnihotri, Saurabh M Pandey   \n",
              "1                                NaN   \n",
              "2                        Amole Gupte   \n",
              "3     Rajkumar Hirani, Abhijat Joshi   \n",
              "4            A C Mugil, Vijay Maurya   \n",
              "\n",
              "                                             Casting  Budget  Box_Office  \\\n",
              "0  Mithun Chakraborty, Anupam Kher, Darshan Kumar...    20.0       341.0   \n",
              "1  Aamir Khan, R. Madhavan, Sharman Joshi, Kareen...    55.0       401.0   \n",
              "2  Darsheel Safary, Aamir Khan, Tisca Chopra, Vip...    12.0        98.0   \n",
              "3  Aamir Khan, Anushka Sharma, Sushant Singh Rajp...   122.0       770.0   \n",
              "4  Salman Khan, Disha Patani, Randeep Hooda, Jack...   170.0       300.0   \n",
              "\n",
              "  Duration  Year  Rating  Rating_count     Genre  Inflated_Box_Office  \\\n",
              "0   2h 50m  2022     8.6        575000  Thriller               383.15   \n",
              "1   2h 50m  2009     8.4        440000    Comedy               961.02   \n",
              "2   2h 42m  2007     8.3        209000     Drama               263.89   \n",
              "3   2h 33m  2014     8.1        203000    Comedy              1378.95   \n",
              "4   1h 53m  2021     1.9        180000    Action               357.30   \n",
              "\n",
              "   Inflated_Budget           Performance  \n",
              "0            22.47  All Time BlockBuster  \n",
              "1           131.81  All Time BlockBuster  \n",
              "2            32.31           Blockbuster  \n",
              "3           218.48           Blockbuster  \n",
              "4           202.47                  Flop  "
            ],
            "text/html": [
              "\n",
              "  <div id=\"df-fe33d572-98c9-460a-a455-a4f271a94cb3\" class=\"colab-df-container\">\n",
              "    <div>\n",
              "<style scoped>\n",
              "    .dataframe tbody tr th:only-of-type {\n",
              "        vertical-align: middle;\n",
              "    }\n",
              "\n",
              "    .dataframe tbody tr th {\n",
              "        vertical-align: top;\n",
              "    }\n",
              "\n",
              "    .dataframe thead th {\n",
              "        text-align: right;\n",
              "    }\n",
              "</style>\n",
              "<table border=\"1\" class=\"dataframe\">\n",
              "  <thead>\n",
              "    <tr style=\"text-align: right;\">\n",
              "      <th></th>\n",
              "      <th>ID</th>\n",
              "      <th>Movie_Name</th>\n",
              "      <th>URL</th>\n",
              "      <th>Director</th>\n",
              "      <th>Producer</th>\n",
              "      <th>Writer</th>\n",
              "      <th>Casting</th>\n",
              "      <th>Budget</th>\n",
              "      <th>Box_Office</th>\n",
              "      <th>Duration</th>\n",
              "      <th>Year</th>\n",
              "      <th>Rating</th>\n",
              "      <th>Rating_count</th>\n",
              "      <th>Genre</th>\n",
              "      <th>Inflated_Box_Office</th>\n",
              "      <th>Inflated_Budget</th>\n",
              "      <th>Performance</th>\n",
              "    </tr>\n",
              "  </thead>\n",
              "  <tbody>\n",
              "    <tr>\n",
              "      <th>0</th>\n",
              "      <td>The_Kashmir_Files</td>\n",
              "      <td>The Kashmir Files</td>\n",
              "      <td>https://wikipedia.org/wiki/The_Kashmir_Files</td>\n",
              "      <td>Vivek Agnihotri</td>\n",
              "      <td>Tej Narayan Agarwal, Abhishek Agarwal, Pallavi...</td>\n",
              "      <td>Vivek Agnihotri, Saurabh M Pandey</td>\n",
              "      <td>Mithun Chakraborty, Anupam Kher, Darshan Kumar...</td>\n",
              "      <td>20.0</td>\n",
              "      <td>341.0</td>\n",
              "      <td>2h 50m</td>\n",
              "      <td>2022</td>\n",
              "      <td>8.6</td>\n",
              "      <td>575000</td>\n",
              "      <td>Thriller</td>\n",
              "      <td>383.15</td>\n",
              "      <td>22.47</td>\n",
              "      <td>All Time BlockBuster</td>\n",
              "    </tr>\n",
              "    <tr>\n",
              "      <th>1</th>\n",
              "      <td>3_Idiots</td>\n",
              "      <td>3 Idiots</td>\n",
              "      <td>https://wikipedia.org/wiki/3_Idiots</td>\n",
              "      <td>Rajkumar Hirani</td>\n",
              "      <td>Vidhu Vinod Chopra</td>\n",
              "      <td>NaN</td>\n",
              "      <td>Aamir Khan, R. Madhavan, Sharman Joshi, Kareen...</td>\n",
              "      <td>55.0</td>\n",
              "      <td>401.0</td>\n",
              "      <td>2h 50m</td>\n",
              "      <td>2009</td>\n",
              "      <td>8.4</td>\n",
              "      <td>440000</td>\n",
              "      <td>Comedy</td>\n",
              "      <td>961.02</td>\n",
              "      <td>131.81</td>\n",
              "      <td>All Time BlockBuster</td>\n",
              "    </tr>\n",
              "    <tr>\n",
              "      <th>2</th>\n",
              "      <td>Taare_Zameen_Par</td>\n",
              "      <td>Tare Zameen Par</td>\n",
              "      <td>https://wikipedia.org/wiki/Taare_Zameen_Par</td>\n",
              "      <td>Aamir Khan</td>\n",
              "      <td>Aamir Khan</td>\n",
              "      <td>Amole Gupte</td>\n",
              "      <td>Darsheel Safary, Aamir Khan, Tisca Chopra, Vip...</td>\n",
              "      <td>12.0</td>\n",
              "      <td>98.0</td>\n",
              "      <td>2h 42m</td>\n",
              "      <td>2007</td>\n",
              "      <td>8.3</td>\n",
              "      <td>209000</td>\n",
              "      <td>Drama</td>\n",
              "      <td>263.89</td>\n",
              "      <td>32.31</td>\n",
              "      <td>Blockbuster</td>\n",
              "    </tr>\n",
              "    <tr>\n",
              "      <th>3</th>\n",
              "      <td>PK_(film)</td>\n",
              "      <td>PK</td>\n",
              "      <td>https://wikipedia.org/wiki/PK_(film)</td>\n",
              "      <td>Rajkumar Hirani</td>\n",
              "      <td>Vidhu Vinod Chopra, Rajkumar Hirani</td>\n",
              "      <td>Rajkumar Hirani, Abhijat Joshi</td>\n",
              "      <td>Aamir Khan, Anushka Sharma, Sushant Singh Rajp...</td>\n",
              "      <td>122.0</td>\n",
              "      <td>770.0</td>\n",
              "      <td>2h 33m</td>\n",
              "      <td>2014</td>\n",
              "      <td>8.1</td>\n",
              "      <td>203000</td>\n",
              "      <td>Comedy</td>\n",
              "      <td>1378.95</td>\n",
              "      <td>218.48</td>\n",
              "      <td>Blockbuster</td>\n",
              "    </tr>\n",
              "    <tr>\n",
              "      <th>4</th>\n",
              "      <td>Radhe_(2021_film)</td>\n",
              "      <td>Radhe</td>\n",
              "      <td>https://wikipedia.org/wiki/Radhe_(2021_film)</td>\n",
              "      <td>Prabhu Deva</td>\n",
              "      <td>Salman Khan, Sohail Khan, Atul Agnihotri, Nikh...</td>\n",
              "      <td>A C Mugil, Vijay Maurya</td>\n",
              "      <td>Salman Khan, Disha Patani, Randeep Hooda, Jack...</td>\n",
              "      <td>170.0</td>\n",
              "      <td>300.0</td>\n",
              "      <td>1h 53m</td>\n",
              "      <td>2021</td>\n",
              "      <td>1.9</td>\n",
              "      <td>180000</td>\n",
              "      <td>Action</td>\n",
              "      <td>357.30</td>\n",
              "      <td>202.47</td>\n",
              "      <td>Flop</td>\n",
              "    </tr>\n",
              "  </tbody>\n",
              "</table>\n",
              "</div>\n",
              "    <div class=\"colab-df-buttons\">\n",
              "\n",
              "  <div class=\"colab-df-container\">\n",
              "    <button class=\"colab-df-convert\" onclick=\"convertToInteractive('df-fe33d572-98c9-460a-a455-a4f271a94cb3')\"\n",
              "            title=\"Convert this dataframe to an interactive table.\"\n",
              "            style=\"display:none;\">\n",
              "\n",
              "  <svg xmlns=\"http://www.w3.org/2000/svg\" height=\"24px\" viewBox=\"0 -960 960 960\">\n",
              "    <path d=\"M120-120v-720h720v720H120Zm60-500h600v-160H180v160Zm220 220h160v-160H400v160Zm0 220h160v-160H400v160ZM180-400h160v-160H180v160Zm440 0h160v-160H620v160ZM180-180h160v-160H180v160Zm440 0h160v-160H620v160Z\"/>\n",
              "  </svg>\n",
              "    </button>\n",
              "\n",
              "  <style>\n",
              "    .colab-df-container {\n",
              "      display:flex;\n",
              "      gap: 12px;\n",
              "    }\n",
              "\n",
              "    .colab-df-convert {\n",
              "      background-color: #E8F0FE;\n",
              "      border: none;\n",
              "      border-radius: 50%;\n",
              "      cursor: pointer;\n",
              "      display: none;\n",
              "      fill: #1967D2;\n",
              "      height: 32px;\n",
              "      padding: 0 0 0 0;\n",
              "      width: 32px;\n",
              "    }\n",
              "\n",
              "    .colab-df-convert:hover {\n",
              "      background-color: #E2EBFA;\n",
              "      box-shadow: 0px 1px 2px rgba(60, 64, 67, 0.3), 0px 1px 3px 1px rgba(60, 64, 67, 0.15);\n",
              "      fill: #174EA6;\n",
              "    }\n",
              "\n",
              "    .colab-df-buttons div {\n",
              "      margin-bottom: 4px;\n",
              "    }\n",
              "\n",
              "    [theme=dark] .colab-df-convert {\n",
              "      background-color: #3B4455;\n",
              "      fill: #D2E3FC;\n",
              "    }\n",
              "\n",
              "    [theme=dark] .colab-df-convert:hover {\n",
              "      background-color: #434B5C;\n",
              "      box-shadow: 0px 1px 3px 1px rgba(0, 0, 0, 0.15);\n",
              "      filter: drop-shadow(0px 1px 2px rgba(0, 0, 0, 0.3));\n",
              "      fill: #FFFFFF;\n",
              "    }\n",
              "  </style>\n",
              "\n",
              "    <script>\n",
              "      const buttonEl =\n",
              "        document.querySelector('#df-fe33d572-98c9-460a-a455-a4f271a94cb3 button.colab-df-convert');\n",
              "      buttonEl.style.display =\n",
              "        google.colab.kernel.accessAllowed ? 'block' : 'none';\n",
              "\n",
              "      async function convertToInteractive(key) {\n",
              "        const element = document.querySelector('#df-fe33d572-98c9-460a-a455-a4f271a94cb3');\n",
              "        const dataTable =\n",
              "          await google.colab.kernel.invokeFunction('convertToInteractive',\n",
              "                                                    [key], {});\n",
              "        if (!dataTable) return;\n",
              "\n",
              "        const docLinkHtml = 'Like what you see? Visit the ' +\n",
              "          '<a target=\"_blank\" href=https://colab.research.google.com/notebooks/data_table.ipynb>data table notebook</a>'\n",
              "          + ' to learn more about interactive tables.';\n",
              "        element.innerHTML = '';\n",
              "        dataTable['output_type'] = 'display_data';\n",
              "        await google.colab.output.renderOutput(dataTable, element);\n",
              "        const docLink = document.createElement('div');\n",
              "        docLink.innerHTML = docLinkHtml;\n",
              "        element.appendChild(docLink);\n",
              "      }\n",
              "    </script>\n",
              "  </div>\n",
              "\n",
              "\n",
              "<div id=\"df-02237085-0ffd-4eb6-895c-179581b299af\">\n",
              "  <button class=\"colab-df-quickchart\" onclick=\"quickchart('df-02237085-0ffd-4eb6-895c-179581b299af')\"\n",
              "            title=\"Suggest charts\"\n",
              "            style=\"display:none;\">\n",
              "\n",
              "<svg xmlns=\"http://www.w3.org/2000/svg\" height=\"24px\"viewBox=\"0 0 24 24\"\n",
              "     width=\"24px\">\n",
              "    <g>\n",
              "        <path d=\"M19 3H5c-1.1 0-2 .9-2 2v14c0 1.1.9 2 2 2h14c1.1 0 2-.9 2-2V5c0-1.1-.9-2-2-2zM9 17H7v-7h2v7zm4 0h-2V7h2v10zm4 0h-2v-4h2v4z\"/>\n",
              "    </g>\n",
              "</svg>\n",
              "  </button>\n",
              "\n",
              "<style>\n",
              "  .colab-df-quickchart {\n",
              "      --bg-color: #E8F0FE;\n",
              "      --fill-color: #1967D2;\n",
              "      --hover-bg-color: #E2EBFA;\n",
              "      --hover-fill-color: #174EA6;\n",
              "      --disabled-fill-color: #AAA;\n",
              "      --disabled-bg-color: #DDD;\n",
              "  }\n",
              "\n",
              "  [theme=dark] .colab-df-quickchart {\n",
              "      --bg-color: #3B4455;\n",
              "      --fill-color: #D2E3FC;\n",
              "      --hover-bg-color: #434B5C;\n",
              "      --hover-fill-color: #FFFFFF;\n",
              "      --disabled-bg-color: #3B4455;\n",
              "      --disabled-fill-color: #666;\n",
              "  }\n",
              "\n",
              "  .colab-df-quickchart {\n",
              "    background-color: var(--bg-color);\n",
              "    border: none;\n",
              "    border-radius: 50%;\n",
              "    cursor: pointer;\n",
              "    display: none;\n",
              "    fill: var(--fill-color);\n",
              "    height: 32px;\n",
              "    padding: 0;\n",
              "    width: 32px;\n",
              "  }\n",
              "\n",
              "  .colab-df-quickchart:hover {\n",
              "    background-color: var(--hover-bg-color);\n",
              "    box-shadow: 0 1px 2px rgba(60, 64, 67, 0.3), 0 1px 3px 1px rgba(60, 64, 67, 0.15);\n",
              "    fill: var(--button-hover-fill-color);\n",
              "  }\n",
              "\n",
              "  .colab-df-quickchart-complete:disabled,\n",
              "  .colab-df-quickchart-complete:disabled:hover {\n",
              "    background-color: var(--disabled-bg-color);\n",
              "    fill: var(--disabled-fill-color);\n",
              "    box-shadow: none;\n",
              "  }\n",
              "\n",
              "  .colab-df-spinner {\n",
              "    border: 2px solid var(--fill-color);\n",
              "    border-color: transparent;\n",
              "    border-bottom-color: var(--fill-color);\n",
              "    animation:\n",
              "      spin 1s steps(1) infinite;\n",
              "  }\n",
              "\n",
              "  @keyframes spin {\n",
              "    0% {\n",
              "      border-color: transparent;\n",
              "      border-bottom-color: var(--fill-color);\n",
              "      border-left-color: var(--fill-color);\n",
              "    }\n",
              "    20% {\n",
              "      border-color: transparent;\n",
              "      border-left-color: var(--fill-color);\n",
              "      border-top-color: var(--fill-color);\n",
              "    }\n",
              "    30% {\n",
              "      border-color: transparent;\n",
              "      border-left-color: var(--fill-color);\n",
              "      border-top-color: var(--fill-color);\n",
              "      border-right-color: var(--fill-color);\n",
              "    }\n",
              "    40% {\n",
              "      border-color: transparent;\n",
              "      border-right-color: var(--fill-color);\n",
              "      border-top-color: var(--fill-color);\n",
              "    }\n",
              "    60% {\n",
              "      border-color: transparent;\n",
              "      border-right-color: var(--fill-color);\n",
              "    }\n",
              "    80% {\n",
              "      border-color: transparent;\n",
              "      border-right-color: var(--fill-color);\n",
              "      border-bottom-color: var(--fill-color);\n",
              "    }\n",
              "    90% {\n",
              "      border-color: transparent;\n",
              "      border-bottom-color: var(--fill-color);\n",
              "    }\n",
              "  }\n",
              "</style>\n",
              "\n",
              "  <script>\n",
              "    async function quickchart(key) {\n",
              "      const quickchartButtonEl =\n",
              "        document.querySelector('#' + key + ' button');\n",
              "      quickchartButtonEl.disabled = true;  // To prevent multiple clicks.\n",
              "      quickchartButtonEl.classList.add('colab-df-spinner');\n",
              "      try {\n",
              "        const charts = await google.colab.kernel.invokeFunction(\n",
              "            'suggestCharts', [key], {});\n",
              "      } catch (error) {\n",
              "        console.error('Error during call to suggestCharts:', error);\n",
              "      }\n",
              "      quickchartButtonEl.classList.remove('colab-df-spinner');\n",
              "      quickchartButtonEl.classList.add('colab-df-quickchart-complete');\n",
              "    }\n",
              "    (() => {\n",
              "      let quickchartButtonEl =\n",
              "        document.querySelector('#df-02237085-0ffd-4eb6-895c-179581b299af button');\n",
              "      quickchartButtonEl.style.display =\n",
              "        google.colab.kernel.accessAllowed ? 'block' : 'none';\n",
              "    })();\n",
              "  </script>\n",
              "</div>\n",
              "\n",
              "    </div>\n",
              "  </div>\n"
            ],
            "application/vnd.google.colaboratory.intrinsic+json": {
              "type": "dataframe",
              "variable_name": "main_df",
              "summary": "{\n  \"name\": \"main_df\",\n  \"rows\": 1124,\n  \"fields\": [\n    {\n      \"column\": \"ID\",\n      \"properties\": {\n        \"dtype\": \"string\",\n        \"num_unique_values\": 1124,\n        \"samples\": [\n          \"Karz:_The_Burden_of_Truth\",\n          \"Aashayein\",\n          \"Darna_Zaroori_Hai\"\n        ],\n        \"semantic_type\": \"\",\n        \"description\": \"\"\n      }\n    },\n    {\n      \"column\": \"Movie_Name\",\n      \"properties\": {\n        \"dtype\": \"string\",\n        \"num_unique_values\": 1117,\n        \"samples\": [\n          \"Henna\",\n          \"Bachchhan Paandey\",\n          \"Kis Kisko Pyaar Karoon\"\n        ],\n        \"semantic_type\": \"\",\n        \"description\": \"\"\n      }\n    },\n    {\n      \"column\": \"URL\",\n      \"properties\": {\n        \"dtype\": \"string\",\n        \"num_unique_values\": 1124,\n        \"samples\": [\n          \"https://wikipedia.org/wiki/Karz:_The_Burden_of_Truth\",\n          \"https://wikipedia.org/wiki/Aashayein\",\n          \"https://wikipedia.org/wiki/Darna_Zaroori_Hai\"\n        ],\n        \"semantic_type\": \"\",\n        \"description\": \"\"\n      }\n    },\n    {\n      \"column\": \"Director\",\n      \"properties\": {\n        \"dtype\": \"category\",\n        \"num_unique_values\": 510,\n        \"samples\": [\n          \"Kabir Sadanand\",\n          \"Karan Lalit Butani\",\n          \"Padam Kumar\"\n        ],\n        \"semantic_type\": \"\",\n        \"description\": \"\"\n      }\n    },\n    {\n      \"column\": \"Producer\",\n      \"properties\": {\n        \"dtype\": \"string\",\n        \"num_unique_values\": 783,\n        \"samples\": [\n          \"Sohail Khan, Ravi Walia\",\n          \"Sushmit Ghosh, Rintu Thomas\",\n          \"Ramesh S. Taurani, Kumar S. Taurani\"\n        ],\n        \"semantic_type\": \"\",\n        \"description\": \"\"\n      }\n    },\n    {\n      \"column\": \"Writer\",\n      \"properties\": {\n        \"dtype\": \"string\",\n        \"num_unique_values\": 721,\n        \"samples\": [\n          \"Kanika Dhillon\",\n          \"Santosh Saroj\",\n          \"Shagufta Rafique\"\n        ],\n        \"semantic_type\": \"\",\n        \"description\": \"\"\n      }\n    },\n    {\n      \"column\": \"Casting\",\n      \"properties\": {\n        \"dtype\": \"string\",\n        \"num_unique_values\": 1111,\n        \"samples\": [\n          \"Amitabh Bachchan, Abhishek Bachchan, Aishwarya Rai Bachchan, Dilip Prabhavalkar, Supriya Pathak\",\n          \"Saif Ali Khan, Manav Vij, Zoya Hussain, Sonakshi Sinha\",\n          \"Shah Rukh Khan, Anushka Sharma, Vinay Pathak\"\n        ],\n        \"semantic_type\": \"\",\n        \"description\": \"\"\n      }\n    },\n    {\n      \"column\": \"Budget\",\n      \"properties\": {\n        \"dtype\": \"number\",\n        \"std\": 43.49491697447,\n        \"min\": 0.025,\n        \"max\": 600.0,\n        \"num_unique_values\": 198,\n        \"samples\": [\n          7.5,\n          27.0,\n          11.0\n        ],\n        \"semantic_type\": \"\",\n        \"description\": \"\"\n      }\n    },\n    {\n      \"column\": \"Box_Office\",\n      \"properties\": {\n        \"dtype\": \"number\",\n        \"std\": 126.3994872499661,\n        \"min\": 0.03,\n        \"max\": 2234.0,\n        \"num_unique_values\": 299,\n        \"samples\": [\n          7.2,\n          5.6,\n          111.0\n        ],\n        \"semantic_type\": \"\",\n        \"description\": \"\"\n      }\n    },\n    {\n      \"column\": \"Duration\",\n      \"properties\": {\n        \"dtype\": \"category\",\n        \"num_unique_values\": 119,\n        \"samples\": [\n          \"2h 38m\",\n          \"1h 47m\",\n          \"2h 39m\"\n        ],\n        \"semantic_type\": \"\",\n        \"description\": \"\"\n      }\n    },\n    {\n      \"column\": \"Year\",\n      \"properties\": {\n        \"dtype\": \"number\",\n        \"std\": 13,\n        \"min\": 1949,\n        \"max\": 2024,\n        \"num_unique_values\": 72,\n        \"samples\": [\n          2021,\n          1985,\n          2013\n        ],\n        \"semantic_type\": \"\",\n        \"description\": \"\"\n      }\n    },\n    {\n      \"column\": \"Rating\",\n      \"properties\": {\n        \"dtype\": \"number\",\n        \"std\": 1.4202393427599613,\n        \"min\": 1.4,\n        \"max\": 8.9,\n        \"num_unique_values\": 71,\n        \"samples\": [\n          7.4,\n          8.6,\n          4.1\n        ],\n        \"semantic_type\": \"\",\n        \"description\": \"\"\n      }\n    },\n    {\n      \"column\": \"Rating_count\",\n      \"properties\": {\n        \"dtype\": \"number\",\n        \"std\": 30992,\n        \"min\": 100,\n        \"max\": 575000,\n        \"num_unique_values\": 292,\n        \"samples\": [\n          9700,\n          550,\n          45000\n        ],\n        \"semantic_type\": \"\",\n        \"description\": \"\"\n      }\n    },\n    {\n      \"column\": \"Genre\",\n      \"properties\": {\n        \"dtype\": \"category\",\n        \"num_unique_values\": 21,\n        \"samples\": [\n          \"Thriller\",\n          \"Dance\",\n          \"Adventure\"\n        ],\n        \"semantic_type\": \"\",\n        \"description\": \"\"\n      }\n    },\n    {\n      \"column\": \"Inflated_Box_Office\",\n      \"properties\": {\n        \"dtype\": \"number\",\n        \"std\": 205.52675472302212,\n        \"min\": 0.04,\n        \"max\": 3560.66,\n        \"num_unique_values\": 974,\n        \"samples\": [\n          81.48,\n          22.63,\n          135.68\n        ],\n        \"semantic_type\": \"\",\n        \"description\": \"\"\n      }\n    },\n    {\n      \"column\": \"Inflated_Budget\",\n      \"properties\": {\n        \"dtype\": \"number\",\n        \"std\": 55.313859473573444,\n        \"min\": 0.26,\n        \"max\": 636.0,\n        \"num_unique_values\": 819,\n        \"samples\": [\n          34.04,\n          11.24,\n          169.6\n        ],\n        \"semantic_type\": \"\",\n        \"description\": \"\"\n      }\n    },\n    {\n      \"column\": \"Performance\",\n      \"properties\": {\n        \"dtype\": \"category\",\n        \"num_unique_values\": 7,\n        \"samples\": [\n          \"All Time BlockBuster\",\n          \"Blockbuster\",\n          \"Semihit\"\n        ],\n        \"semantic_type\": \"\",\n        \"description\": \"\"\n      }\n    }\n  ]\n}"
            }
          },
          "metadata": {},
          "execution_count": 21
        }
      ],
      "source": [
        "'''creating 2 new columns of inflated values of budget and box office\n",
        "inflation_rate = 0.06\n",
        "current_year = datetime.now().year\n",
        "main_df['years_since_price'] = current_year - main_df['Year']\n",
        "main_df['Inflated_Box_Office'] = main_df['Box_Office'] * ((1 + inflation_rate) ** main_df['years_since_price'])\n",
        "main_df['Inflated_Budget'] = main_df['Budget'] * ((1 + inflation_rate) ** main_df['years_since_price'])\n",
        "main_df.drop(columns='years_since_price', inplace=True)\n",
        "main_df['Inflated_Box_Office']=main_df['Inflated_Box_Office'].round(2)\n",
        "main_df['Inflated_Budget']=main_df['Inflated_Budget'].round(2)\n",
        "main_df.head() #we created new columns for inflation of box office and budget'''"
      ]
    },
    {
      "cell_type": "code",
      "source": [
        "print(main_df.dtypes)"
      ],
      "metadata": {
        "colab": {
          "base_uri": "https://localhost:8080/"
        },
        "id": "AjF0OdQQdfLC",
        "outputId": "9e0cb8ce-c680-41bd-c8b6-a0982ecf4ed6"
      },
      "execution_count": 28,
      "outputs": [
        {
          "output_type": "stream",
          "name": "stdout",
          "text": [
            "ID                      object\n",
            "Movie_Name              object\n",
            "URL                     object\n",
            "Director                object\n",
            "Producer                object\n",
            "Writer                  object\n",
            "Casting                 object\n",
            "Budget                 float64\n",
            "Box_Office             float64\n",
            "Duration                object\n",
            "Year                     int64\n",
            "Rating                 float64\n",
            "Rating_count             int64\n",
            "Genre                   object\n",
            "Inflated_Box_Office    float64\n",
            "Inflated_Budget        float64\n",
            "Performance             object\n",
            "Profit                 float64\n",
            "dtype: object\n"
          ]
        }
      ]
    },
    {
      "cell_type": "code",
      "source": [
        "main_df.describe()"
      ],
      "metadata": {
        "colab": {
          "base_uri": "https://localhost:8080/",
          "height": 300
        },
        "id": "qGGGZa2edhgO",
        "outputId": "ec31190d-7008-499a-a256-5c2caf69e5e5"
      },
      "execution_count": 29,
      "outputs": [
        {
          "output_type": "execute_result",
          "data": {
            "text/plain": [
              "            Budget   Box_Office         Year       Rating   Rating_count  \\\n",
              "count  1125.000000  1125.000000  1125.000000  1125.000000    1125.000000   \n",
              "mean     29.487156    64.020089  2007.713778     6.012978   14346.170667   \n",
              "std      43.550038   126.922745    13.007110     1.419429   31035.449852   \n",
              "min       0.025000     0.030000  1949.000000     1.400000     100.000000   \n",
              "25%       6.500000     9.000000  2002.000000     5.100000    1500.000000   \n",
              "50%      16.000000    24.000000  2011.000000     6.200000    5100.000000   \n",
              "75%      35.000000    68.000000  2017.000000     7.200000   16000.000000   \n",
              "max     600.000000  2234.000000  2024.000000     8.900000  575000.000000   \n",
              "\n",
              "       Inflated_Box_Office  Inflated_Budget       Profit  \n",
              "count          1125.000000      1125.000000  1125.000000  \n",
              "mean            134.070942        53.965964     3.233201  \n",
              "std             205.700521        55.334568     5.913420  \n",
              "min               0.040000         0.260000     0.000600  \n",
              "25%              27.230000        20.120000     0.933333  \n",
              "50%              71.810000        37.400000     1.846154  \n",
              "75%             155.780000        68.050000     3.600000  \n",
              "max            3560.660000       636.000000   100.000000  "
            ],
            "text/html": [
              "\n",
              "  <div id=\"df-1020275c-7450-43ca-a0c6-a6e6c4237141\" class=\"colab-df-container\">\n",
              "    <div>\n",
              "<style scoped>\n",
              "    .dataframe tbody tr th:only-of-type {\n",
              "        vertical-align: middle;\n",
              "    }\n",
              "\n",
              "    .dataframe tbody tr th {\n",
              "        vertical-align: top;\n",
              "    }\n",
              "\n",
              "    .dataframe thead th {\n",
              "        text-align: right;\n",
              "    }\n",
              "</style>\n",
              "<table border=\"1\" class=\"dataframe\">\n",
              "  <thead>\n",
              "    <tr style=\"text-align: right;\">\n",
              "      <th></th>\n",
              "      <th>Budget</th>\n",
              "      <th>Box_Office</th>\n",
              "      <th>Year</th>\n",
              "      <th>Rating</th>\n",
              "      <th>Rating_count</th>\n",
              "      <th>Inflated_Box_Office</th>\n",
              "      <th>Inflated_Budget</th>\n",
              "      <th>Profit</th>\n",
              "    </tr>\n",
              "  </thead>\n",
              "  <tbody>\n",
              "    <tr>\n",
              "      <th>count</th>\n",
              "      <td>1125.000000</td>\n",
              "      <td>1125.000000</td>\n",
              "      <td>1125.000000</td>\n",
              "      <td>1125.000000</td>\n",
              "      <td>1125.000000</td>\n",
              "      <td>1125.000000</td>\n",
              "      <td>1125.000000</td>\n",
              "      <td>1125.000000</td>\n",
              "    </tr>\n",
              "    <tr>\n",
              "      <th>mean</th>\n",
              "      <td>29.487156</td>\n",
              "      <td>64.020089</td>\n",
              "      <td>2007.713778</td>\n",
              "      <td>6.012978</td>\n",
              "      <td>14346.170667</td>\n",
              "      <td>134.070942</td>\n",
              "      <td>53.965964</td>\n",
              "      <td>3.233201</td>\n",
              "    </tr>\n",
              "    <tr>\n",
              "      <th>std</th>\n",
              "      <td>43.550038</td>\n",
              "      <td>126.922745</td>\n",
              "      <td>13.007110</td>\n",
              "      <td>1.419429</td>\n",
              "      <td>31035.449852</td>\n",
              "      <td>205.700521</td>\n",
              "      <td>55.334568</td>\n",
              "      <td>5.913420</td>\n",
              "    </tr>\n",
              "    <tr>\n",
              "      <th>min</th>\n",
              "      <td>0.025000</td>\n",
              "      <td>0.030000</td>\n",
              "      <td>1949.000000</td>\n",
              "      <td>1.400000</td>\n",
              "      <td>100.000000</td>\n",
              "      <td>0.040000</td>\n",
              "      <td>0.260000</td>\n",
              "      <td>0.000600</td>\n",
              "    </tr>\n",
              "    <tr>\n",
              "      <th>25%</th>\n",
              "      <td>6.500000</td>\n",
              "      <td>9.000000</td>\n",
              "      <td>2002.000000</td>\n",
              "      <td>5.100000</td>\n",
              "      <td>1500.000000</td>\n",
              "      <td>27.230000</td>\n",
              "      <td>20.120000</td>\n",
              "      <td>0.933333</td>\n",
              "    </tr>\n",
              "    <tr>\n",
              "      <th>50%</th>\n",
              "      <td>16.000000</td>\n",
              "      <td>24.000000</td>\n",
              "      <td>2011.000000</td>\n",
              "      <td>6.200000</td>\n",
              "      <td>5100.000000</td>\n",
              "      <td>71.810000</td>\n",
              "      <td>37.400000</td>\n",
              "      <td>1.846154</td>\n",
              "    </tr>\n",
              "    <tr>\n",
              "      <th>75%</th>\n",
              "      <td>35.000000</td>\n",
              "      <td>68.000000</td>\n",
              "      <td>2017.000000</td>\n",
              "      <td>7.200000</td>\n",
              "      <td>16000.000000</td>\n",
              "      <td>155.780000</td>\n",
              "      <td>68.050000</td>\n",
              "      <td>3.600000</td>\n",
              "    </tr>\n",
              "    <tr>\n",
              "      <th>max</th>\n",
              "      <td>600.000000</td>\n",
              "      <td>2234.000000</td>\n",
              "      <td>2024.000000</td>\n",
              "      <td>8.900000</td>\n",
              "      <td>575000.000000</td>\n",
              "      <td>3560.660000</td>\n",
              "      <td>636.000000</td>\n",
              "      <td>100.000000</td>\n",
              "    </tr>\n",
              "  </tbody>\n",
              "</table>\n",
              "</div>\n",
              "    <div class=\"colab-df-buttons\">\n",
              "\n",
              "  <div class=\"colab-df-container\">\n",
              "    <button class=\"colab-df-convert\" onclick=\"convertToInteractive('df-1020275c-7450-43ca-a0c6-a6e6c4237141')\"\n",
              "            title=\"Convert this dataframe to an interactive table.\"\n",
              "            style=\"display:none;\">\n",
              "\n",
              "  <svg xmlns=\"http://www.w3.org/2000/svg\" height=\"24px\" viewBox=\"0 -960 960 960\">\n",
              "    <path d=\"M120-120v-720h720v720H120Zm60-500h600v-160H180v160Zm220 220h160v-160H400v160Zm0 220h160v-160H400v160ZM180-400h160v-160H180v160Zm440 0h160v-160H620v160ZM180-180h160v-160H180v160Zm440 0h160v-160H620v160Z\"/>\n",
              "  </svg>\n",
              "    </button>\n",
              "\n",
              "  <style>\n",
              "    .colab-df-container {\n",
              "      display:flex;\n",
              "      gap: 12px;\n",
              "    }\n",
              "\n",
              "    .colab-df-convert {\n",
              "      background-color: #E8F0FE;\n",
              "      border: none;\n",
              "      border-radius: 50%;\n",
              "      cursor: pointer;\n",
              "      display: none;\n",
              "      fill: #1967D2;\n",
              "      height: 32px;\n",
              "      padding: 0 0 0 0;\n",
              "      width: 32px;\n",
              "    }\n",
              "\n",
              "    .colab-df-convert:hover {\n",
              "      background-color: #E2EBFA;\n",
              "      box-shadow: 0px 1px 2px rgba(60, 64, 67, 0.3), 0px 1px 3px 1px rgba(60, 64, 67, 0.15);\n",
              "      fill: #174EA6;\n",
              "    }\n",
              "\n",
              "    .colab-df-buttons div {\n",
              "      margin-bottom: 4px;\n",
              "    }\n",
              "\n",
              "    [theme=dark] .colab-df-convert {\n",
              "      background-color: #3B4455;\n",
              "      fill: #D2E3FC;\n",
              "    }\n",
              "\n",
              "    [theme=dark] .colab-df-convert:hover {\n",
              "      background-color: #434B5C;\n",
              "      box-shadow: 0px 1px 3px 1px rgba(0, 0, 0, 0.15);\n",
              "      filter: drop-shadow(0px 1px 2px rgba(0, 0, 0, 0.3));\n",
              "      fill: #FFFFFF;\n",
              "    }\n",
              "  </style>\n",
              "\n",
              "    <script>\n",
              "      const buttonEl =\n",
              "        document.querySelector('#df-1020275c-7450-43ca-a0c6-a6e6c4237141 button.colab-df-convert');\n",
              "      buttonEl.style.display =\n",
              "        google.colab.kernel.accessAllowed ? 'block' : 'none';\n",
              "\n",
              "      async function convertToInteractive(key) {\n",
              "        const element = document.querySelector('#df-1020275c-7450-43ca-a0c6-a6e6c4237141');\n",
              "        const dataTable =\n",
              "          await google.colab.kernel.invokeFunction('convertToInteractive',\n",
              "                                                    [key], {});\n",
              "        if (!dataTable) return;\n",
              "\n",
              "        const docLinkHtml = 'Like what you see? Visit the ' +\n",
              "          '<a target=\"_blank\" href=https://colab.research.google.com/notebooks/data_table.ipynb>data table notebook</a>'\n",
              "          + ' to learn more about interactive tables.';\n",
              "        element.innerHTML = '';\n",
              "        dataTable['output_type'] = 'display_data';\n",
              "        await google.colab.output.renderOutput(dataTable, element);\n",
              "        const docLink = document.createElement('div');\n",
              "        docLink.innerHTML = docLinkHtml;\n",
              "        element.appendChild(docLink);\n",
              "      }\n",
              "    </script>\n",
              "  </div>\n",
              "\n",
              "\n",
              "<div id=\"df-ba6e596c-04db-433e-909b-d95b0d9c3a12\">\n",
              "  <button class=\"colab-df-quickchart\" onclick=\"quickchart('df-ba6e596c-04db-433e-909b-d95b0d9c3a12')\"\n",
              "            title=\"Suggest charts\"\n",
              "            style=\"display:none;\">\n",
              "\n",
              "<svg xmlns=\"http://www.w3.org/2000/svg\" height=\"24px\"viewBox=\"0 0 24 24\"\n",
              "     width=\"24px\">\n",
              "    <g>\n",
              "        <path d=\"M19 3H5c-1.1 0-2 .9-2 2v14c0 1.1.9 2 2 2h14c1.1 0 2-.9 2-2V5c0-1.1-.9-2-2-2zM9 17H7v-7h2v7zm4 0h-2V7h2v10zm4 0h-2v-4h2v4z\"/>\n",
              "    </g>\n",
              "</svg>\n",
              "  </button>\n",
              "\n",
              "<style>\n",
              "  .colab-df-quickchart {\n",
              "      --bg-color: #E8F0FE;\n",
              "      --fill-color: #1967D2;\n",
              "      --hover-bg-color: #E2EBFA;\n",
              "      --hover-fill-color: #174EA6;\n",
              "      --disabled-fill-color: #AAA;\n",
              "      --disabled-bg-color: #DDD;\n",
              "  }\n",
              "\n",
              "  [theme=dark] .colab-df-quickchart {\n",
              "      --bg-color: #3B4455;\n",
              "      --fill-color: #D2E3FC;\n",
              "      --hover-bg-color: #434B5C;\n",
              "      --hover-fill-color: #FFFFFF;\n",
              "      --disabled-bg-color: #3B4455;\n",
              "      --disabled-fill-color: #666;\n",
              "  }\n",
              "\n",
              "  .colab-df-quickchart {\n",
              "    background-color: var(--bg-color);\n",
              "    border: none;\n",
              "    border-radius: 50%;\n",
              "    cursor: pointer;\n",
              "    display: none;\n",
              "    fill: var(--fill-color);\n",
              "    height: 32px;\n",
              "    padding: 0;\n",
              "    width: 32px;\n",
              "  }\n",
              "\n",
              "  .colab-df-quickchart:hover {\n",
              "    background-color: var(--hover-bg-color);\n",
              "    box-shadow: 0 1px 2px rgba(60, 64, 67, 0.3), 0 1px 3px 1px rgba(60, 64, 67, 0.15);\n",
              "    fill: var(--button-hover-fill-color);\n",
              "  }\n",
              "\n",
              "  .colab-df-quickchart-complete:disabled,\n",
              "  .colab-df-quickchart-complete:disabled:hover {\n",
              "    background-color: var(--disabled-bg-color);\n",
              "    fill: var(--disabled-fill-color);\n",
              "    box-shadow: none;\n",
              "  }\n",
              "\n",
              "  .colab-df-spinner {\n",
              "    border: 2px solid var(--fill-color);\n",
              "    border-color: transparent;\n",
              "    border-bottom-color: var(--fill-color);\n",
              "    animation:\n",
              "      spin 1s steps(1) infinite;\n",
              "  }\n",
              "\n",
              "  @keyframes spin {\n",
              "    0% {\n",
              "      border-color: transparent;\n",
              "      border-bottom-color: var(--fill-color);\n",
              "      border-left-color: var(--fill-color);\n",
              "    }\n",
              "    20% {\n",
              "      border-color: transparent;\n",
              "      border-left-color: var(--fill-color);\n",
              "      border-top-color: var(--fill-color);\n",
              "    }\n",
              "    30% {\n",
              "      border-color: transparent;\n",
              "      border-left-color: var(--fill-color);\n",
              "      border-top-color: var(--fill-color);\n",
              "      border-right-color: var(--fill-color);\n",
              "    }\n",
              "    40% {\n",
              "      border-color: transparent;\n",
              "      border-right-color: var(--fill-color);\n",
              "      border-top-color: var(--fill-color);\n",
              "    }\n",
              "    60% {\n",
              "      border-color: transparent;\n",
              "      border-right-color: var(--fill-color);\n",
              "    }\n",
              "    80% {\n",
              "      border-color: transparent;\n",
              "      border-right-color: var(--fill-color);\n",
              "      border-bottom-color: var(--fill-color);\n",
              "    }\n",
              "    90% {\n",
              "      border-color: transparent;\n",
              "      border-bottom-color: var(--fill-color);\n",
              "    }\n",
              "  }\n",
              "</style>\n",
              "\n",
              "  <script>\n",
              "    async function quickchart(key) {\n",
              "      const quickchartButtonEl =\n",
              "        document.querySelector('#' + key + ' button');\n",
              "      quickchartButtonEl.disabled = true;  // To prevent multiple clicks.\n",
              "      quickchartButtonEl.classList.add('colab-df-spinner');\n",
              "      try {\n",
              "        const charts = await google.colab.kernel.invokeFunction(\n",
              "            'suggestCharts', [key], {});\n",
              "      } catch (error) {\n",
              "        console.error('Error during call to suggestCharts:', error);\n",
              "      }\n",
              "      quickchartButtonEl.classList.remove('colab-df-spinner');\n",
              "      quickchartButtonEl.classList.add('colab-df-quickchart-complete');\n",
              "    }\n",
              "    (() => {\n",
              "      let quickchartButtonEl =\n",
              "        document.querySelector('#df-ba6e596c-04db-433e-909b-d95b0d9c3a12 button');\n",
              "      quickchartButtonEl.style.display =\n",
              "        google.colab.kernel.accessAllowed ? 'block' : 'none';\n",
              "    })();\n",
              "  </script>\n",
              "</div>\n",
              "\n",
              "    </div>\n",
              "  </div>\n"
            ],
            "application/vnd.google.colaboratory.intrinsic+json": {
              "type": "dataframe",
              "summary": "{\n  \"name\": \"main_df\",\n  \"rows\": 8,\n  \"fields\": [\n    {\n      \"column\": \"Budget\",\n      \"properties\": {\n        \"dtype\": \"number\",\n        \"std\": 413.95746280349255,\n        \"min\": 0.025,\n        \"max\": 1125.0,\n        \"num_unique_values\": 8,\n        \"samples\": [\n          29.487155555555553,\n          16.0,\n          1125.0\n        ],\n        \"semantic_type\": \"\",\n        \"description\": \"\"\n      }\n    },\n    {\n      \"column\": \"Box_Office\",\n      \"properties\": {\n        \"dtype\": \"number\",\n        \"std\": 812.0230139569612,\n        \"min\": 0.03,\n        \"max\": 2234.0,\n        \"num_unique_values\": 8,\n        \"samples\": [\n          64.02008888888888,\n          24.0,\n          1125.0\n        ],\n        \"semantic_type\": \"\",\n        \"description\": \"\"\n      }\n    },\n    {\n      \"column\": \"Year\",\n      \"properties\": {\n        \"dtype\": \"number\",\n        \"std\": 727.1462984690027,\n        \"min\": 13.007109896849611,\n        \"max\": 2024.0,\n        \"num_unique_values\": 8,\n        \"samples\": [\n          2007.7137777777778,\n          2011.0,\n          1125.0\n        ],\n        \"semantic_type\": \"\",\n        \"description\": \"\"\n      }\n    },\n    {\n      \"column\": \"Rating\",\n      \"properties\": {\n        \"dtype\": \"number\",\n        \"std\": 395.9262274223613,\n        \"min\": 1.4,\n        \"max\": 1125.0,\n        \"num_unique_values\": 8,\n        \"samples\": [\n          6.0129777777777775,\n          6.2,\n          1125.0\n        ],\n        \"semantic_type\": \"\",\n        \"description\": \"\"\n      }\n    },\n    {\n      \"column\": \"Rating_count\",\n      \"properties\": {\n        \"dtype\": \"number\",\n        \"std\": 200072.94246467415,\n        \"min\": 100.0,\n        \"max\": 575000.0,\n        \"num_unique_values\": 8,\n        \"samples\": [\n          14346.170666666667,\n          5100.0,\n          1125.0\n        ],\n        \"semantic_type\": \"\",\n        \"description\": \"\"\n      }\n    },\n    {\n      \"column\": \"Inflated_Box_Office\",\n      \"properties\": {\n        \"dtype\": \"number\",\n        \"std\": 1227.6105230801727,\n        \"min\": 0.04,\n        \"max\": 3560.66,\n        \"num_unique_values\": 8,\n        \"samples\": [\n          134.07094222222221,\n          71.81,\n          1125.0\n        ],\n        \"semantic_type\": \"\",\n        \"description\": \"\"\n      }\n    },\n    {\n      \"column\": \"Inflated_Budget\",\n      \"properties\": {\n        \"dtype\": \"number\",\n        \"std\": 411.35013699199897,\n        \"min\": 0.26,\n        \"max\": 1125.0,\n        \"num_unique_values\": 8,\n        \"samples\": [\n          53.96596444444444,\n          37.4,\n          1125.0\n        ],\n        \"semantic_type\": \"\",\n        \"description\": \"\"\n      }\n    },\n    {\n      \"column\": \"Profit\",\n      \"properties\": {\n        \"dtype\": \"number\",\n        \"std\": 393.3962646080233,\n        \"min\": 0.0006,\n        \"max\": 1125.0,\n        \"num_unique_values\": 8,\n        \"samples\": [\n          3.23320145336931,\n          1.8461538461538463,\n          1125.0\n        ],\n        \"semantic_type\": \"\",\n        \"description\": \"\"\n      }\n    }\n  ]\n}"
            }
          },
          "metadata": {},
          "execution_count": 29
        }
      ]
    },
    {
      "cell_type": "code",
      "source": [
        "main_df.shape"
      ],
      "metadata": {
        "colab": {
          "base_uri": "https://localhost:8080/"
        },
        "id": "TQJ9KHeRdlJD",
        "outputId": "45a28daf-69bf-425e-f108-f17c49be518b"
      },
      "execution_count": 31,
      "outputs": [
        {
          "output_type": "execute_result",
          "data": {
            "text/plain": [
              "(1125, 18)"
            ]
          },
          "metadata": {},
          "execution_count": 31
        }
      ]
    },
    {
      "cell_type": "code",
      "execution_count": 32,
      "metadata": {
        "colab": {
          "base_uri": "https://localhost:8080/",
          "height": 363
        },
        "id": "IUZUzRB483AJ",
        "outputId": "8919afa7-50b0-464a-96ba-8c3cebc89e5d"
      },
      "outputs": [
        {
          "output_type": "execute_result",
          "data": {
            "text/plain": [
              "                       Movie_Name  Inflated_Box_Office\n",
              "1122                       Dangal              3560.66\n",
              "15              Bajrangi Bhaijaan              1594.87\n",
              "190       Hum Aapke Hain Koun...!              1435.87\n",
              "3                              PK              1378.95\n",
              "137              Secret Superstar              1360.79\n",
              "16                          Jawan              1216.88\n",
              "849                  Disco Dancer              1167.26\n",
              "586                         Awara              1125.77\n",
              "1123                      Pathaan              1113.00\n",
              "24    Dilwale Dulhania Le Jayenge              1083.68"
            ],
            "text/html": [
              "\n",
              "  <div id=\"df-9faa5091-0179-4d78-9056-400e375d49e7\" class=\"colab-df-container\">\n",
              "    <div>\n",
              "<style scoped>\n",
              "    .dataframe tbody tr th:only-of-type {\n",
              "        vertical-align: middle;\n",
              "    }\n",
              "\n",
              "    .dataframe tbody tr th {\n",
              "        vertical-align: top;\n",
              "    }\n",
              "\n",
              "    .dataframe thead th {\n",
              "        text-align: right;\n",
              "    }\n",
              "</style>\n",
              "<table border=\"1\" class=\"dataframe\">\n",
              "  <thead>\n",
              "    <tr style=\"text-align: right;\">\n",
              "      <th></th>\n",
              "      <th>Movie_Name</th>\n",
              "      <th>Inflated_Box_Office</th>\n",
              "    </tr>\n",
              "  </thead>\n",
              "  <tbody>\n",
              "    <tr>\n",
              "      <th>1122</th>\n",
              "      <td>Dangal</td>\n",
              "      <td>3560.66</td>\n",
              "    </tr>\n",
              "    <tr>\n",
              "      <th>15</th>\n",
              "      <td>Bajrangi Bhaijaan</td>\n",
              "      <td>1594.87</td>\n",
              "    </tr>\n",
              "    <tr>\n",
              "      <th>190</th>\n",
              "      <td>Hum Aapke Hain Koun...!</td>\n",
              "      <td>1435.87</td>\n",
              "    </tr>\n",
              "    <tr>\n",
              "      <th>3</th>\n",
              "      <td>PK</td>\n",
              "      <td>1378.95</td>\n",
              "    </tr>\n",
              "    <tr>\n",
              "      <th>137</th>\n",
              "      <td>Secret Superstar</td>\n",
              "      <td>1360.79</td>\n",
              "    </tr>\n",
              "    <tr>\n",
              "      <th>16</th>\n",
              "      <td>Jawan</td>\n",
              "      <td>1216.88</td>\n",
              "    </tr>\n",
              "    <tr>\n",
              "      <th>849</th>\n",
              "      <td>Disco Dancer</td>\n",
              "      <td>1167.26</td>\n",
              "    </tr>\n",
              "    <tr>\n",
              "      <th>586</th>\n",
              "      <td>Awara</td>\n",
              "      <td>1125.77</td>\n",
              "    </tr>\n",
              "    <tr>\n",
              "      <th>1123</th>\n",
              "      <td>Pathaan</td>\n",
              "      <td>1113.00</td>\n",
              "    </tr>\n",
              "    <tr>\n",
              "      <th>24</th>\n",
              "      <td>Dilwale Dulhania Le Jayenge</td>\n",
              "      <td>1083.68</td>\n",
              "    </tr>\n",
              "  </tbody>\n",
              "</table>\n",
              "</div>\n",
              "    <div class=\"colab-df-buttons\">\n",
              "\n",
              "  <div class=\"colab-df-container\">\n",
              "    <button class=\"colab-df-convert\" onclick=\"convertToInteractive('df-9faa5091-0179-4d78-9056-400e375d49e7')\"\n",
              "            title=\"Convert this dataframe to an interactive table.\"\n",
              "            style=\"display:none;\">\n",
              "\n",
              "  <svg xmlns=\"http://www.w3.org/2000/svg\" height=\"24px\" viewBox=\"0 -960 960 960\">\n",
              "    <path d=\"M120-120v-720h720v720H120Zm60-500h600v-160H180v160Zm220 220h160v-160H400v160Zm0 220h160v-160H400v160ZM180-400h160v-160H180v160Zm440 0h160v-160H620v160ZM180-180h160v-160H180v160Zm440 0h160v-160H620v160Z\"/>\n",
              "  </svg>\n",
              "    </button>\n",
              "\n",
              "  <style>\n",
              "    .colab-df-container {\n",
              "      display:flex;\n",
              "      gap: 12px;\n",
              "    }\n",
              "\n",
              "    .colab-df-convert {\n",
              "      background-color: #E8F0FE;\n",
              "      border: none;\n",
              "      border-radius: 50%;\n",
              "      cursor: pointer;\n",
              "      display: none;\n",
              "      fill: #1967D2;\n",
              "      height: 32px;\n",
              "      padding: 0 0 0 0;\n",
              "      width: 32px;\n",
              "    }\n",
              "\n",
              "    .colab-df-convert:hover {\n",
              "      background-color: #E2EBFA;\n",
              "      box-shadow: 0px 1px 2px rgba(60, 64, 67, 0.3), 0px 1px 3px 1px rgba(60, 64, 67, 0.15);\n",
              "      fill: #174EA6;\n",
              "    }\n",
              "\n",
              "    .colab-df-buttons div {\n",
              "      margin-bottom: 4px;\n",
              "    }\n",
              "\n",
              "    [theme=dark] .colab-df-convert {\n",
              "      background-color: #3B4455;\n",
              "      fill: #D2E3FC;\n",
              "    }\n",
              "\n",
              "    [theme=dark] .colab-df-convert:hover {\n",
              "      background-color: #434B5C;\n",
              "      box-shadow: 0px 1px 3px 1px rgba(0, 0, 0, 0.15);\n",
              "      filter: drop-shadow(0px 1px 2px rgba(0, 0, 0, 0.3));\n",
              "      fill: #FFFFFF;\n",
              "    }\n",
              "  </style>\n",
              "\n",
              "    <script>\n",
              "      const buttonEl =\n",
              "        document.querySelector('#df-9faa5091-0179-4d78-9056-400e375d49e7 button.colab-df-convert');\n",
              "      buttonEl.style.display =\n",
              "        google.colab.kernel.accessAllowed ? 'block' : 'none';\n",
              "\n",
              "      async function convertToInteractive(key) {\n",
              "        const element = document.querySelector('#df-9faa5091-0179-4d78-9056-400e375d49e7');\n",
              "        const dataTable =\n",
              "          await google.colab.kernel.invokeFunction('convertToInteractive',\n",
              "                                                    [key], {});\n",
              "        if (!dataTable) return;\n",
              "\n",
              "        const docLinkHtml = 'Like what you see? Visit the ' +\n",
              "          '<a target=\"_blank\" href=https://colab.research.google.com/notebooks/data_table.ipynb>data table notebook</a>'\n",
              "          + ' to learn more about interactive tables.';\n",
              "        element.innerHTML = '';\n",
              "        dataTable['output_type'] = 'display_data';\n",
              "        await google.colab.output.renderOutput(dataTable, element);\n",
              "        const docLink = document.createElement('div');\n",
              "        docLink.innerHTML = docLinkHtml;\n",
              "        element.appendChild(docLink);\n",
              "      }\n",
              "    </script>\n",
              "  </div>\n",
              "\n",
              "\n",
              "<div id=\"df-47d8f850-ef1a-4c2a-beae-a67749f6ede7\">\n",
              "  <button class=\"colab-df-quickchart\" onclick=\"quickchart('df-47d8f850-ef1a-4c2a-beae-a67749f6ede7')\"\n",
              "            title=\"Suggest charts\"\n",
              "            style=\"display:none;\">\n",
              "\n",
              "<svg xmlns=\"http://www.w3.org/2000/svg\" height=\"24px\"viewBox=\"0 0 24 24\"\n",
              "     width=\"24px\">\n",
              "    <g>\n",
              "        <path d=\"M19 3H5c-1.1 0-2 .9-2 2v14c0 1.1.9 2 2 2h14c1.1 0 2-.9 2-2V5c0-1.1-.9-2-2-2zM9 17H7v-7h2v7zm4 0h-2V7h2v10zm4 0h-2v-4h2v4z\"/>\n",
              "    </g>\n",
              "</svg>\n",
              "  </button>\n",
              "\n",
              "<style>\n",
              "  .colab-df-quickchart {\n",
              "      --bg-color: #E8F0FE;\n",
              "      --fill-color: #1967D2;\n",
              "      --hover-bg-color: #E2EBFA;\n",
              "      --hover-fill-color: #174EA6;\n",
              "      --disabled-fill-color: #AAA;\n",
              "      --disabled-bg-color: #DDD;\n",
              "  }\n",
              "\n",
              "  [theme=dark] .colab-df-quickchart {\n",
              "      --bg-color: #3B4455;\n",
              "      --fill-color: #D2E3FC;\n",
              "      --hover-bg-color: #434B5C;\n",
              "      --hover-fill-color: #FFFFFF;\n",
              "      --disabled-bg-color: #3B4455;\n",
              "      --disabled-fill-color: #666;\n",
              "  }\n",
              "\n",
              "  .colab-df-quickchart {\n",
              "    background-color: var(--bg-color);\n",
              "    border: none;\n",
              "    border-radius: 50%;\n",
              "    cursor: pointer;\n",
              "    display: none;\n",
              "    fill: var(--fill-color);\n",
              "    height: 32px;\n",
              "    padding: 0;\n",
              "    width: 32px;\n",
              "  }\n",
              "\n",
              "  .colab-df-quickchart:hover {\n",
              "    background-color: var(--hover-bg-color);\n",
              "    box-shadow: 0 1px 2px rgba(60, 64, 67, 0.3), 0 1px 3px 1px rgba(60, 64, 67, 0.15);\n",
              "    fill: var(--button-hover-fill-color);\n",
              "  }\n",
              "\n",
              "  .colab-df-quickchart-complete:disabled,\n",
              "  .colab-df-quickchart-complete:disabled:hover {\n",
              "    background-color: var(--disabled-bg-color);\n",
              "    fill: var(--disabled-fill-color);\n",
              "    box-shadow: none;\n",
              "  }\n",
              "\n",
              "  .colab-df-spinner {\n",
              "    border: 2px solid var(--fill-color);\n",
              "    border-color: transparent;\n",
              "    border-bottom-color: var(--fill-color);\n",
              "    animation:\n",
              "      spin 1s steps(1) infinite;\n",
              "  }\n",
              "\n",
              "  @keyframes spin {\n",
              "    0% {\n",
              "      border-color: transparent;\n",
              "      border-bottom-color: var(--fill-color);\n",
              "      border-left-color: var(--fill-color);\n",
              "    }\n",
              "    20% {\n",
              "      border-color: transparent;\n",
              "      border-left-color: var(--fill-color);\n",
              "      border-top-color: var(--fill-color);\n",
              "    }\n",
              "    30% {\n",
              "      border-color: transparent;\n",
              "      border-left-color: var(--fill-color);\n",
              "      border-top-color: var(--fill-color);\n",
              "      border-right-color: var(--fill-color);\n",
              "    }\n",
              "    40% {\n",
              "      border-color: transparent;\n",
              "      border-right-color: var(--fill-color);\n",
              "      border-top-color: var(--fill-color);\n",
              "    }\n",
              "    60% {\n",
              "      border-color: transparent;\n",
              "      border-right-color: var(--fill-color);\n",
              "    }\n",
              "    80% {\n",
              "      border-color: transparent;\n",
              "      border-right-color: var(--fill-color);\n",
              "      border-bottom-color: var(--fill-color);\n",
              "    }\n",
              "    90% {\n",
              "      border-color: transparent;\n",
              "      border-bottom-color: var(--fill-color);\n",
              "    }\n",
              "  }\n",
              "</style>\n",
              "\n",
              "  <script>\n",
              "    async function quickchart(key) {\n",
              "      const quickchartButtonEl =\n",
              "        document.querySelector('#' + key + ' button');\n",
              "      quickchartButtonEl.disabled = true;  // To prevent multiple clicks.\n",
              "      quickchartButtonEl.classList.add('colab-df-spinner');\n",
              "      try {\n",
              "        const charts = await google.colab.kernel.invokeFunction(\n",
              "            'suggestCharts', [key], {});\n",
              "      } catch (error) {\n",
              "        console.error('Error during call to suggestCharts:', error);\n",
              "      }\n",
              "      quickchartButtonEl.classList.remove('colab-df-spinner');\n",
              "      quickchartButtonEl.classList.add('colab-df-quickchart-complete');\n",
              "    }\n",
              "    (() => {\n",
              "      let quickchartButtonEl =\n",
              "        document.querySelector('#df-47d8f850-ef1a-4c2a-beae-a67749f6ede7 button');\n",
              "      quickchartButtonEl.style.display =\n",
              "        google.colab.kernel.accessAllowed ? 'block' : 'none';\n",
              "    })();\n",
              "  </script>\n",
              "</div>\n",
              "\n",
              "    </div>\n",
              "  </div>\n"
            ],
            "application/vnd.google.colaboratory.intrinsic+json": {
              "type": "dataframe",
              "summary": "{\n  \"name\": \"top_10_movies\",\n  \"rows\": 10,\n  \"fields\": [\n    {\n      \"column\": \"Movie_Name\",\n      \"properties\": {\n        \"dtype\": \"string\",\n        \"num_unique_values\": 10,\n        \"samples\": [\n          \"Pathaan\",\n          \"Bajrangi Bhaijaan\",\n          \"Jawan\"\n        ],\n        \"semantic_type\": \"\",\n        \"description\": \"\"\n      }\n    },\n    {\n      \"column\": \"Inflated_Box_Office\",\n      \"properties\": {\n        \"dtype\": \"number\",\n        \"std\": 741.4201881082308,\n        \"min\": 1083.68,\n        \"max\": 3560.66,\n        \"num_unique_values\": 10,\n        \"samples\": [\n          1113.0,\n          1594.87,\n          1216.88\n        ],\n        \"semantic_type\": \"\",\n        \"description\": \"\"\n      }\n    }\n  ]\n}"
            }
          },
          "metadata": {},
          "execution_count": 32
        }
      ],
      "source": [
        "top_10_movies = main_df.nlargest(10, 'Inflated_Box_Office')\n",
        "top_10_movies.loc[:,['Movie_Name', 'Inflated_Box_Office']]"
      ]
    },
    {
      "cell_type": "code",
      "execution_count": 33,
      "metadata": {
        "id": "NVLfXcjC7par"
      },
      "outputs": [],
      "source": [
        "main_df['Difference'] = main_df['Inflated_Box_Office'] - main_df['Inflated_Budget']\n",
        "\n",
        "# Define the conditions for each performance category\n",
        "conditions = [\n",
        "    (main_df['Difference'] < 0),  # Case 1: Negative difference\n",
        "    (main_df['Difference'] >= 0) & (main_df['Difference'] < 0.25 * main_df['Inflated_Budget']),  # Case 2: Less than 25% of budget\n",
        "    (main_df['Difference'] >= 0.25 * main_df['Inflated_Budget']) & (main_df['Difference'] < 0.75 * main_df['Inflated_Budget']),  # Case 3: Less than 75% of budget\n",
        "    (main_df['Difference'] >= 0.75 * main_df['Inflated_Budget']) & (main_df['Difference'] < main_df['Inflated_Budget']),  # Case 4: Less than 100% of budget\n",
        "    (main_df['Difference'] >= main_df['Inflated_Budget']) & (main_df['Difference'] < 3 * main_df['Inflated_Budget']),  # Case 5: Less than 300% of budget\n",
        "    ((main_df['Difference'] >= 6 * main_df['Inflated_Budget']) & (main_df['Inflated_Box_Office'] < 300)) |  # Case 6: Difference >= 600% of budget and Box Office < 300\n",
        "    ((main_df['Difference'] >= 3 * main_df['Inflated_Budget']) & (main_df['Difference'] < 6 * main_df['Inflated_Budget'])),  # Case 6: Less than 600% of budget or Box Office < 300\n",
        "    (main_df['Difference'] >= 6 * main_df['Inflated_Budget'])  # Case 7: More than 600% of budget\n",
        "]\n",
        "\n",
        "# Define the corresponding performance labels\n",
        "performance_labels = ['Flop', 'Average', 'Semihit', 'Hit', 'Superhit', 'Blockbuster', 'All Time BlockBuster']\n",
        "\n",
        "# Create the 'Performance' column using np.select\n",
        "main_df['Performance'] = np.select(conditions, performance_labels, default='Unknown')\n",
        "\n",
        "# Drop the temporary 'Difference' column if it's no longer needed\n",
        "main_df.drop(columns='Difference', inplace=True)"
      ]
    },
    {
      "cell_type": "code",
      "execution_count": 35,
      "metadata": {
        "colab": {
          "base_uri": "https://localhost:8080/"
        },
        "id": "kOuw-W-5Y2Gx",
        "outputId": "19a596fe-970b-4766-8565-f4c13b3113f5"
      },
      "outputs": [
        {
          "output_type": "stream",
          "name": "stdout",
          "text": [
            "            Unique Names\n",
            "0     Mithun Chakraborty\n",
            "1            Anupam Kher\n",
            "2          Darshan Kumar\n",
            "3          Pallavi Joshi\n",
            "4      Chinmay Mandlekar\n",
            "...                  ...\n",
            "1438     Kulraj Randhawa\n",
            "1439       Sakshi Tanwar\n",
            "1440    Suhani Bhatnagar\n",
            "1441         Anil Grover\n",
            "1442      Vikram Kochhar\n",
            "\n",
            "[1443 rows x 1 columns]\n"
          ]
        }
      ],
      "source": [
        "unique_names = pd.Series(\n",
        "    [name.strip() for sublist in main_df['Casting'].dropna().str.split(',') for name in sublist]\n",
        ").unique()\n",
        "\n",
        "# Convert the unique names to a DataFrame\n",
        "unique_df = pd.DataFrame(unique_names, columns=['Unique Names'])\n",
        "\n",
        "# Display the resulting DataFrame\n",
        "print(unique_df)"
      ]
    },
    {
      "cell_type": "code",
      "execution_count": 36,
      "metadata": {
        "colab": {
          "base_uri": "https://localhost:8080/"
        },
        "id": "qLFBMRVlddZW",
        "outputId": "72e4259b-80c6-4246-93d5-07382bf4d5c1"
      },
      "outputs": [
        {
          "output_type": "stream",
          "name": "stdout",
          "text": [
            "15                Bajrangi Bhaijaan\n",
            "60                           Sultan\n",
            "113                 Tiger Zinda Hai\n",
            "58                          Tiger 3\n",
            "28                             Kick\n",
            "                   ...             \n",
            "880     Shaadi Karke Phas Gaya Yaar\n",
            "999               Chaand Kaa Tukdaa\n",
            "901               Ek Ladka Ek Ladki\n",
            "1017                  Sangdil Sanam\n",
            "974                 Dil Tera Aashiq\n",
            "Name: Movie_Name, Length: 65, dtype: object\n"
          ]
        }
      ],
      "source": [
        "filtered_df = main_df[main_df['Casting'].str.contains('Salman Khan', na=False)]\n",
        "\n",
        "# Sort the filtered DataFrame by 'Box_Office' in descending order\n",
        "sorted_df = filtered_df.sort_values(by='Box_Office', ascending=False)\n",
        "\n",
        "# Display the sorted DataFrame\n",
        "print(sorted_df['Movie_Name'])"
      ]
    },
    {
      "cell_type": "code",
      "source": [
        "main_df_exploded = main_df.assign(Casting=main_df['Casting'].str.split(', ')).explode('Casting')\n",
        "\n",
        "# Step 2: Group by each artist and calculate their average box office earnings and movie count\n",
        "artist_stats = main_df_exploded.groupby('Casting').agg(\n",
        "    average_box_office=('Box_Office', 'mean'),\n",
        "    movie_count=('Box_Office', 'count')\n",
        ").reset_index()\n",
        "\n",
        "# Step 3: Sort the artists by their average box office earnings and select the top 100\n",
        "top_artists = artist_stats.sort_values(by='average_box_office', ascending=False)\n",
        "\n",
        "print(top_artists)\n"
      ],
      "metadata": {
        "colab": {
          "base_uri": "https://localhost:8080/"
        },
        "id": "Ocgv_8a4yUxu",
        "outputId": "9defea6c-44fd-4c09-a198-e5ca35773513"
      },
      "execution_count": 37,
      "outputs": [
        {
          "output_type": "stream",
          "name": "stdout",
          "text": [
            "                 Casting  average_box_office  movie_count\n",
            "1063       Sakshi Tanwar         2234.000000            1\n",
            "1254    Suhani Bhatnagar         2234.000000            1\n",
            "149   Aparshakti Khurana         1207.500000            2\n",
            "741           Nayanthara         1148.000000            1\n",
            "1429         Zaira Wasim         1057.666667            3\n",
            "...                  ...                 ...          ...\n",
            "121         Anita Kanwar            0.100000            1\n",
            "1130         Shafiq Syed            0.100000            1\n",
            "331            Ehan Bhat            0.100000            1\n",
            "279         Deep Katdare            0.090000            1\n",
            "911           Purva Bedi            0.090000            1\n",
            "\n",
            "[1443 rows x 3 columns]\n"
          ]
        }
      ]
    },
    {
      "cell_type": "code",
      "source": [
        "filtered_main= main_df[main_df['Year'] <= 2000]\n",
        "filtered_main_exploded = filtered_main.assign(Casting=filtered_main['Casting'].str.split(', ')).explode('Casting')\n",
        "\n",
        "# Step 2: Group by each artist and calculate their average box office earnings and movie count\n",
        "artist_stats = filtered_main_exploded.groupby('Casting').agg(\n",
        "    average_box_office=('Inflated_Box_Office', 'mean'),\n",
        "    movie_count=('Inflated_Box_Office', 'count')\n",
        ").reset_index()\n",
        "\n",
        "# Step 3: Sort the artists by their average box office earnings and select the top 100\n",
        "top_artistsbefore = artist_stats.sort_values(by='average_box_office', ascending=False)\n",
        "top_artistsbefore = top_artistsbefore[top_artistsbefore['movie_count'] > 15].head(10)\n",
        "print(top_artistsbefore)"
      ],
      "metadata": {
        "colab": {
          "base_uri": "https://localhost:8080/"
        },
        "id": "BFcbMJ-yCETV",
        "outputId": "e12467f9-b3c1-4f6c-c43f-47af386b2886"
      },
      "execution_count": 51,
      "outputs": [
        {
          "output_type": "stream",
          "name": "stdout",
          "text": [
            "              Casting  average_box_office  movie_count\n",
            "156     Madhuri Dixit          181.019474           19\n",
            "318    Shah Rukh Khan          178.791667           24\n",
            "136    Karisma Kapoor          176.392632           19\n",
            "299       Salman Khan          175.519583           24\n",
            "18   Amitabh Bachchan          133.072414           29\n",
            "238              Pran          133.025625           16\n",
            "23        Anil Kapoor          113.023750           16\n",
            "0          Aamir Khan          112.099375           16\n",
            "20        Amrish Puri          101.884286           28\n",
            "28        Anupam Kher           98.372778           18\n"
          ]
        }
      ]
    },
    {
      "cell_type": "code",
      "source": [
        "main_df_exploded = main_df.assign(Casting=main_df['Casting'].str.split(', ')).explode('Casting')\n",
        "\n",
        "artist_stats = main_df_exploded.groupby('Casting').agg(\n",
        "    average_rating=('Rating', 'mean'),\n",
        "    movie_count=('Inflated_Box_Office', 'count')\n",
        ").reset_index()\n",
        "\n",
        "good_films = artist_stats.sort_values(by='average_rating', ascending=False)\n",
        "good_films = good_films[good_films['movie_count'] > 10].head(10)\n",
        "\n",
        "print(good_films)"
      ],
      "metadata": {
        "colab": {
          "base_uri": "https://localhost:8080/"
        },
        "id": "hSu-zFV-FlAm",
        "outputId": "66ff09b4-6d93-445f-b3f6-f08834f5e0e4"
      },
      "execution_count": 52,
      "outputs": [
        {
          "output_type": "stream",
          "name": "stdout",
          "text": [
            "                 Casting  average_rating  movie_count\n",
            "1157       Shashi Kapoor        7.209091           11\n",
            "811      Pankaj Tripathi        6.961538           13\n",
            "209   Ayushmann Khurrana        6.940000           15\n",
            "403          Hema Malini        6.854545           11\n",
            "893          Prem Chopra        6.833333           12\n",
            "7             Aamir Khan        6.819355           31\n",
            "962        Rajkummar Rao        6.804762           21\n",
            "913          R. Madhavan        6.791667           12\n",
            "719         Nana Patekar        6.790000           20\n",
            "74            Alia Bhatt        6.684615           13\n"
          ]
        }
      ]
    },
    {
      "cell_type": "code",
      "source": [
        "filtered_main= main_df\n",
        "filtered_main_exploded = filtered_main.assign(Casting=filtered_main['Director'].str.split(', ')).explode('Casting')\n",
        "\n",
        "# Step 2: Group by each artist and calculate their average box office earnings and movie count\n",
        "artist_stats = filtered_main_exploded.groupby('Director').agg(\n",
        "    average_box_office=('Inflated_Box_Office', 'mean'),\n",
        "    movie_count=('Inflated_Box_Office', 'count')\n",
        ").reset_index()\n",
        "\n",
        "# Step 3: Sort the artists by their average box office earnings and select the top 100\n",
        "top_directors = artist_stats.sort_values(by='average_box_office', ascending=False)\n",
        "top_directors = top_directors[top_directors['movie_count'] > 2].head(10)\n",
        "print(top_directors)"
      ],
      "metadata": {
        "colab": {
          "base_uri": "https://localhost:8080/"
        },
        "id": "KeVQ4XO77Ni7",
        "outputId": "ba18838d-ea4e-4100-a335-a49681d52c08"
      },
      "execution_count": 53,
      "outputs": [
        {
          "output_type": "stream",
          "name": "stdout",
          "text": [
            "                  Director  average_box_office  movie_count\n",
            "265          Nitesh Tiwari         1374.126667            3\n",
            "328        Rajkumar Hirani          701.111667            6\n",
            "39         Ali Abbas Zafar          539.362000            5\n",
            "19           Aditya Chopra          502.772500            4\n",
            "179             Kabir Khan          485.613333            6\n",
            "124             Farah Khan          451.130000            3\n",
            "430        Siddharth Anand          427.265000            8\n",
            "311             Raj Kapoor          421.723333            6\n",
            "486  Vijay Krishna Acharya          417.752500            4\n",
            "89            Ayan Mukerji          399.210000            3\n"
          ]
        }
      ]
    },
    {
      "cell_type": "code",
      "source": [
        "main_df_exploded = main_df.assign(Director=main_df['Director'].str.split(', ')).explode('Director')\n",
        "\n",
        "# Step 2: Group by each artist and calculate their average box office earnings and movie count\n",
        "star_director = main_df_exploded.groupby('Director').agg(\n",
        "    average_rating=('Rating', 'mean'),\n",
        "    movie_count=('Inflated_Box_Office', 'count')\n",
        ").reset_index()\n",
        "\n",
        "# Step 3: Sort the artists by their average box office earnings and select the top 100\n",
        "good_films_director = star_director.sort_values(by='average_rating', ascending=False)\n",
        "\n",
        "print(good_films_director)"
      ],
      "metadata": {
        "colab": {
          "base_uri": "https://localhost:8080/"
        },
        "id": "PbVLfOwA8PWF",
        "outputId": "846917e6-5858-4f82-9ba7-db910bd5d15b"
      },
      "execution_count": 54,
      "outputs": [
        {
          "output_type": "stream",
          "name": "stdout",
          "text": [
            "            Director  average_rating  movie_count\n",
            "300      R. Madhavan             8.7            1\n",
            "199        Kiran Rao             8.5            1\n",
            "1         Aamir Khan             8.3            1\n",
            "143        Guru Dutt             8.3            1\n",
            "21       Aditya Dhar             8.2            1\n",
            "..               ...             ...          ...\n",
            "112  Devang Dholakia             2.6            1\n",
            "296   Puri Jagannadh             2.6            1\n",
            "182    Kaizad Gustad             2.0            1\n",
            "135      Goldie Behl             2.0            1\n",
            "475     Umesh Ghadge             1.9            1\n",
            "\n",
            "[510 rows x 3 columns]\n"
          ]
        }
      ]
    },
    {
      "cell_type": "code",
      "source": [
        "genre_commercial = main_df.groupby('Genre').agg(\n",
        "    average_rating=('Rating', 'mean'),\n",
        "    movie_count=('Inflated_Box_Office', 'count')\n",
        ").reset_index()\n",
        "genre_data = genre_commercial.sort_values(by='movie_count', ascending=False)\n",
        "\n",
        "print(genre_data)"
      ],
      "metadata": {
        "colab": {
          "base_uri": "https://localhost:8080/"
        },
        "id": "ahVBrekX9jy6",
        "outputId": "5e06b84d-532d-4f24-ec4b-d9909370cd68"
      },
      "execution_count": 55,
      "outputs": [
        {
          "output_type": "stream",
          "name": "stdout",
          "text": [
            "           Genre  average_rating  movie_count\n",
            "8          Drama        6.509746          236\n",
            "4         Comedy        5.798131          214\n",
            "0         Action        5.473206          209\n",
            "15       Romance        5.828488          172\n",
            "19      Thriller        6.253741          147\n",
            "12        Horror        5.082051           39\n",
            "3   Biographical        6.973077           26\n",
            "18        Sports        7.337500           16\n",
            "11    Historical        6.685714           14\n",
            "5          Crime        7.607143           14\n",
            "17        Sci-Fi        5.371429            7\n",
            "10       Fantasy        5.500000            7\n",
            "2      Animation        6.080000            5\n",
            "20           War        6.420000            5\n",
            "13       Musical        6.600000            3\n",
            "7    Documentary        6.900000            3\n",
            "1      Adventure        6.500000            2\n",
            "16        Satire        7.300000            2\n",
            "6          Dance        4.550000            2\n",
            "14  Mythological        2.700000            1\n",
            "9         Family        6.300000            1\n"
          ]
        }
      ]
    },
    {
      "cell_type": "code",
      "source": [
        "genre_commercial = main_df.groupby('Genre').agg(\n",
        "    average_rating=('Inflated_Box_Office', 'mean'),\n",
        "    movie_count=('Inflated_Box_Office', 'count')\n",
        ").reset_index()\n",
        "genre_data = genre_commercial.sort_values(by='average_rating', ascending=False)\n",
        "\n",
        "print(genre_data)"
      ],
      "metadata": {
        "colab": {
          "base_uri": "https://localhost:8080/"
        },
        "id": "E4vtkTmn-SNf",
        "outputId": "39f42de7-8553-43e1-d26a-7fbc8932a77a"
      },
      "execution_count": 56,
      "outputs": [
        {
          "output_type": "stream",
          "name": "stdout",
          "text": [
            "           Genre  average_rating  movie_count\n",
            "13       Musical      476.456667            3\n",
            "18        Sports      376.365625           16\n",
            "14  Mythological      371.000000            1\n",
            "9         Family      351.930000            1\n",
            "1      Adventure      307.410000            2\n",
            "17        Sci-Fi      280.300000            7\n",
            "11    Historical      276.447143           14\n",
            "6          Dance      202.300000            2\n",
            "16        Satire      183.130000            2\n",
            "0         Action      172.764211          209\n",
            "15       Romance      141.527965          172\n",
            "4         Comedy      126.354206          214\n",
            "10       Fantasy      119.571429            7\n",
            "8          Drama      115.582034          236\n",
            "3   Biographical      113.470385           26\n",
            "20           War      111.132000            5\n",
            "19      Thriller       88.503673          147\n",
            "5          Crime       74.690000           14\n",
            "12        Horror       56.126154           39\n",
            "2      Animation       15.856000            5\n",
            "7    Documentary        1.046667            3\n"
          ]
        }
      ]
    },
    {
      "cell_type": "code",
      "source": [
        "genre_commercial = main_df.groupby(['Year', 'Genre']).agg(\n",
        "    average_rating=('Rating', 'mean'),\n",
        "    movie_count=('Inflated_Box_Office', 'count')\n",
        ").reset_index()\n",
        "\n",
        "real_analysis = genre_commercial.sort_values(by='average_rating', ascending=False)\n",
        "\n",
        "print(real_analysis)"
      ],
      "metadata": {
        "colab": {
          "base_uri": "https://localhost:8080/"
        },
        "id": "EtLPoBde_JxE",
        "outputId": "8049d5ef-11be-4eb1-9cc9-a63f03541bea"
      },
      "execution_count": 57,
      "outputs": [
        {
          "output_type": "stream",
          "name": "stdout",
          "text": [
            "     Year         Genre  average_rating  movie_count\n",
            "18   1964         Drama             8.5            1\n",
            "146  2004         Crime             8.4            1\n",
            "3    1953         Drama             8.3            1\n",
            "105  1998         Crime             8.3            1\n",
            "5    1956         Drama             8.2            1\n",
            "..    ...           ...             ...          ...\n",
            "325  2023  Mythological             2.7            1\n",
            "324  2023        Horror             2.6            1\n",
            "190  2008        Sci-Fi             2.6            1\n",
            "94   1996        Horror             2.5            1\n",
            "292  2020        Action             2.2            1\n",
            "\n",
            "[337 rows x 4 columns]\n"
          ]
        }
      ]
    },
    {
      "cell_type": "code",
      "source": [
        "genre_commercial = main_df.groupby(['Year','Genre']).agg(\n",
        "    average_rating=('Box_Office', 'mean'),\n",
        "    movie_count=('Inflated_Box_Office', 'count')\n",
        ").reset_index()\n",
        "\n",
        "real_analysis = genre_commercial.sort_values(by='average_rating', ascending=False)\n",
        "\n",
        "print(real_analysis)"
      ],
      "metadata": {
        "colab": {
          "base_uri": "https://localhost:8080/"
        },
        "id": "XFLDFjciCO1m",
        "outputId": "669e242b-d3c7-49ec-e8cb-5d4788de7ab5"
      },
      "execution_count": 58,
      "outputs": [
        {
          "output_type": "stream",
          "name": "stdout",
          "text": [
            "     Year        Genre  average_rating  movie_count\n",
            "260  2016       Sports     1428.500000            2\n",
            "321  2023    Adventure      470.000000            1\n",
            "314  2022      Fantasy      425.000000            1\n",
            "235  2013       Sci-Fi      393.000000            1\n",
            "320  2023       Action      388.666667           12\n",
            "..    ...          ...             ...          ...\n",
            "312  2022  Documentary        0.800000            1\n",
            "3    1953        Drama        0.700000            1\n",
            "198  2009       Sci-Fi        0.500000            1\n",
            "304  2021  Documentary        0.200000            1\n",
            "305  2021        Drama        0.050000            1\n",
            "\n",
            "[337 rows x 4 columns]\n"
          ]
        }
      ]
    },
    {
      "cell_type": "code",
      "source": [
        "genre_commercial = main_df.groupby(['Year','Genre']).agg(\n",
        "    average_rating=('Rating_count', 'mean'),\n",
        "    movie_count=('Inflated_Box_Office', 'count')\n",
        ").reset_index()\n",
        "\n",
        "real_analysis = genre_commercial.sort_values(by='average_rating', ascending=False)\n",
        "\n",
        "print(real_analysis)"
      ],
      "metadata": {
        "colab": {
          "base_uri": "https://localhost:8080/"
        },
        "id": "uD_esRF1DcHq",
        "outputId": "9d393642-1aaf-448c-a8fd-d286ca2c45e2"
      },
      "execution_count": 59,
      "outputs": [
        {
          "output_type": "stream",
          "name": "stdout",
          "text": [
            "     Year         Genre  average_rating  movie_count\n",
            "325  2023  Mythological        134000.0            1\n",
            "260  2016        Sports        133000.0            2\n",
            "319  2022      Thriller        114000.0            6\n",
            "314  2022       Fantasy        112000.0            1\n",
            "223  2012         Crime        105000.0            1\n",
            "..    ...           ...             ...          ...\n",
            "29   1973       Romance           200.0            1\n",
            "153  2005     Animation           200.0            1\n",
            "61   1988        Horror           100.0            1\n",
            "22   1967         Drama           100.0            1\n",
            "21   1966         Drama           100.0            1\n",
            "\n",
            "[337 rows x 4 columns]\n"
          ]
        }
      ]
    },
    {
      "cell_type": "code",
      "source": [
        "filtered_main_exploded = filtered_main.assign(Casting=filtered_main['Casting'].str.split(', ')).explode('Casting')\n",
        "# Step 1: Filter actors with at least 6 movies\n",
        "filtered_main = main_df\n",
        "\n",
        "actor_list = filtered_main_exploded.groupby('Casting').agg(\n",
        "    movie_count1=('Inflated_Box_Office', 'count')\n",
        ")\n",
        "actor_list=actor_list[actor_list['movie_count1']>=8]\n",
        "actor_list=actor_list.reset_index()\n",
        "actor_list=actor_list['Casting']\n",
        "# Step 3: Group by each artist and year, then calculate their average box office earnings and movie count\n",
        "artist_stats = filtered_main_exploded.groupby(['Casting', 'Year']).agg(\n",
        "    average_box_office=('Inflated_Box_Office', 'mean'),\n",
        "    movie_count=('Inflated_Box_Office', 'count')\n",
        ").reset_index()\n",
        "\n",
        "# Step 4: Filter the artist stats to include only those with at least 6 movies\n",
        "artist_stats_filtered = artist_stats[artist_stats['Casting'].isin(actor_list)]\n",
        "actors_year = artist_stats_filtered.sort_values(by='average_box_office', ascending=False)\n",
        "\n",
        "print(actors_year)"
      ],
      "metadata": {
        "colab": {
          "base_uri": "https://localhost:8080/"
        },
        "id": "Ytavjrq9IkHs",
        "outputId": "c0670650-ab6a-4c48-8536-7b595d28ff73"
      },
      "execution_count": 60,
      "outputs": [
        {
          "output_type": "stream",
          "name": "stdout",
          "text": [
            "                   Casting  Year  average_box_office  movie_count\n",
            "27              Aamir Khan  2016             3560.66            1\n",
            "1603   Kareena Kapoor Khan  2015             1594.87            1\n",
            "3057           Salman Khan  2015             1594.87            1\n",
            "549         Anushka Sharma  2014             1378.95            1\n",
            "3665  Sushant Singh Rajput  2014             1378.95            1\n",
            "...                    ...   ...                 ...          ...\n",
            "1905       Manisha Koirala  2007                0.27            1\n",
            "2596          Radhika Apte  2019                0.13            1\n",
            "2705         Rajkummar Rao  2020                0.04            1\n",
            "2728     Rakul Preet Singh  2020                0.04            1\n",
            "1238           Hema Malini  2020                0.04            1\n",
            "\n",
            "[1871 rows x 4 columns]\n"
          ]
        }
      ]
    },
    {
      "cell_type": "code",
      "source": [
        "# Corrected filter for the Year column\n",
        "filtered_main = main_df[(main_df['Year'] > 2010) & (main_df['Year'] < 2020)]\n",
        "filteredd_main_exploded = main_df.assign(Casting=main_df['Casting'].str.split(', ')).explode('Casting')\n",
        "\n",
        "# Step 1: Explode the 'Casting' column to get individual actor entries\n",
        "filtered_main_exploded = filtered_main.assign(Casting=filtered_main['Casting'].str.split(', ')).explode('Casting')\n",
        "actor_list = filteredd_main_exploded.groupby('Casting').agg(\n",
        "    movie_count1=('Inflated_Box_Office', 'count')\n",
        ")\n",
        "actor_list=actor_list[actor_list['movie_count1']>=8]\n",
        "actor_list=actor_list.reset_index()\n",
        "actor_list=actor_list['Casting']\n",
        "\n",
        "# Step 2: Group by each artist and calculate their average box office earnings and movie count\n",
        "artist_stats = filtered_main_exploded.groupby('Casting').agg(\n",
        "    average_box_office=('Inflated_Box_Office', 'mean'),\n",
        "    movie_count=('Inflated_Box_Office', 'count')\n",
        ").reset_index()\n",
        "artist_stats_filtered = artist_stats[artist_stats['Casting'].isin(actor_list)]\n",
        "\n",
        "# Step 3: Sort the artists by their average box office earnings and select the top 100\n",
        "top_artists1 = artist_stats_filtered.sort_values(by='average_box_office', ascending=False).round(1).head(10)\n",
        "print(top_artists1)\n"
      ],
      "metadata": {
        "colab": {
          "base_uri": "https://localhost:8080/"
        },
        "id": "BtH8WeSAOepf",
        "outputId": "9cd0bbbc-63a8-4c69-9988-6421c130f747"
      },
      "execution_count": 61,
      "outputs": [
        {
          "output_type": "stream",
          "name": "stdout",
          "text": [
            "                 Casting  average_box_office  movie_count\n",
            "4             Aamir Khan              1363.8            6\n",
            "548          Salman Khan               648.6           12\n",
            "582       Shah Rukh Khan               462.3            9\n",
            "213       Hrithik Roshan               453.9            7\n",
            "77        Anushka Sharma               411.6           10\n",
            "274         Katrina Kaif               409.6           14\n",
            "147     Deepika Padukone               406.9           13\n",
            "269  Kareena Kapoor Khan               392.1            9\n",
            "673                 Tabu               361.7            5\n",
            "234        Jackie Shroff               355.3            9\n"
          ]
        }
      ]
    },
    {
      "cell_type": "code",
      "source": [
        "# Step 1: Filter the main DataFrame for movies released between 2010 and 2020\n",
        "filtered_main_2010s = main_df[(main_df['Year'] > 2010) & (main_df['Year'] < 2020)]\n",
        "\n",
        "# Explode the 'Casting' column to get individual actor entries\n",
        "filtered_main_exploded_2010s = filtered_main_2010s.assign(Casting=filtered_main_2010s['Casting'].str.split(', ')).explode('Casting')\n",
        "\n",
        "# Group by 'Casting' and calculate the movie count\n",
        "actor_list_2010s = filtered_main_exploded_2010s.groupby('Casting').agg(\n",
        "    movie_count_2010s=('Inflated_Box_Office', 'count')\n",
        ").reset_index()\n",
        "\n",
        "# Filter actors who have acted in at least 8 movies\n",
        "actor_list_2010s_filtered = actor_list_2010s[actor_list_2010s['movie_count_2010s'] >= 5]\n",
        "\n",
        "# Group by each artist and calculate their average box office earnings\n",
        "artist_stats_2010s = filtered_main_exploded_2010s.groupby('Casting').agg(\n",
        "    average_box_office_2010s=('Inflated_Box_Office', 'mean'),\n",
        "    movie_count_2010s=('Inflated_Box_Office', 'count')\n",
        ").reset_index()\n",
        "\n",
        "# Filter the artist_stats DataFrame to include only those actors in actor_list_2010s_filtered\n",
        "artist_stats_filtered_2010s = artist_stats_2010s[artist_stats_2010s['Casting'].isin(actor_list_2010s_filtered['Casting'])]\n",
        "\n",
        "# Sort the artists by their average box office earnings and select the top 10\n",
        "top_artists_2010s = artist_stats_filtered_2010s.sort_values(by='average_box_office_2010s', ascending=False).round(1).head(10)\n",
        "\n",
        "\n",
        "# Step 2: Repeat the process for movies released between 2020 and 2025\n",
        "filtered_main_2020s = main_df[(main_df['Year'] > 2019) & (main_df['Year'] < 2025)]\n",
        "\n",
        "# Explode the 'Casting' column\n",
        "filtered_main_exploded_2020s = filtered_main_2020s.assign(Casting=filtered_main_2020s['Casting'].str.split(', ')).explode('Casting')\n",
        "\n",
        "# Group by 'Casting' and calculate the movie count\n",
        "actor_list_2020s = filtered_main_exploded_2020s.groupby('Casting').agg(\n",
        "    movie_count_2020s=('Inflated_Box_Office', 'count')\n",
        ").reset_index()\n",
        "\n",
        "# Filter the actors who are in the top list from 2010-2019 period\n",
        "actor_list_2020s_filtered = actor_list_2020s[actor_list_2020s['Casting'].isin(top_artists_2010s['Casting'])]\n",
        "\n",
        "# Group by each artist and calculate their average box office earnings\n",
        "artist_stats_2020s = filtered_main_exploded_2020s.groupby('Casting').agg(\n",
        "    average_box_office_2020s=('Inflated_Box_Office', 'mean'),\n",
        "    movie_count_2020s=('Inflated_Box_Office', 'count')\n",
        ").reset_index()\n",
        "\n",
        "# Filter the artist_stats DataFrame to include only those actors in actor_list_2020s_filtered\n",
        "artist_stats_filtered_2020s = artist_stats_2020s[artist_stats_2020s['Casting'].isin(actor_list_2020s_filtered['Casting'])]\n",
        "\n",
        "# Sort the artists by their average box office earnings and select the top 10\n",
        "top_artists_2020s = artist_stats_filtered_2020s.sort_values(by='average_box_office_2020s', ascending=False).round(1).head(10)\n",
        "\n",
        "# Print the top 10 artists by average box office earnings for both periods\n",
        "print(\"Top 10 Artists (2010-2019):\\n\", top_artists_2010s)\n",
        "print(\"\\nTop 10 Artists (2020-2024):\\n\", top_artists_2020s)\n",
        "\n"
      ],
      "metadata": {
        "colab": {
          "base_uri": "https://localhost:8080/"
        },
        "id": "ONn43IYWEPTe",
        "outputId": "df5e2e5f-9a03-4edb-a582-285c317e7408"
      },
      "execution_count": 62,
      "outputs": [
        {
          "output_type": "stream",
          "name": "stdout",
          "text": [
            "Top 10 Artists (2010-2019):\n",
            "                  Casting  average_box_office_2010s  movie_count_2010s\n",
            "4             Aamir Khan                    1363.8                  6\n",
            "548          Salman Khan                     648.6                 12\n",
            "582       Shah Rukh Khan                     462.3                  9\n",
            "213       Hrithik Roshan                     453.9                  7\n",
            "77        Anushka Sharma                     411.6                 10\n",
            "274         Katrina Kaif                     409.6                 14\n",
            "147     Deepika Padukone                     406.9                 13\n",
            "269  Kareena Kapoor Khan                     392.1                  9\n",
            "673                 Tabu                     361.7                  5\n",
            "234        Jackie Shroff                     355.3                  9\n",
            "\n",
            "Top 10 Artists (2020-2024):\n",
            "                  Casting  average_box_office_2020s  movie_count_2020s\n",
            "289       Shah Rukh Khan                     938.0                  3\n",
            "81      Deepika Padukone                     593.5                  5\n",
            "124        Jackie Shroff                     354.3                  2\n",
            "272          Salman Khan                     278.9                  4\n",
            "115       Hrithik Roshan                     244.3                  2\n",
            "146         Katrina Kaif                     223.4                  4\n",
            "144  Kareena Kapoor Khan                     151.5                  2\n",
            "2             Aamir Khan                     146.1                  1\n",
            "327                 Tabu                     127.6                  5\n"
          ]
        }
      ]
    },
    {
      "cell_type": "code",
      "source": [
        "# Corrected filter for the Year column\n",
        "filtered_main = main_df[(main_df['Year'] > 1940) & (main_df['Year'] < 2000)]\n",
        "\n",
        "filtered_main_exploded = filtered_main.assign(Casting=filtered_main['Casting'].str.split(', ')).explode('Casting')\n",
        "actor_list = filtered_main_exploded.groupby('Casting').agg(\n",
        "    average_box_office=('Inflated_Box_Office', 'mean'),\n",
        "    movie_count1=('Inflated_Box_Office', 'count')\n",
        ")\n",
        "actor_list=actor_list[actor_list['movie_count1']>=10]\n",
        "\n",
        "# Step 3: Sort the artists by their average box office earnings and select the top 100\n",
        "top_artists = actor_list.sort_values(by='average_box_office', ascending=False).head(10).round(1)\n",
        "print(top_artists)"
      ],
      "metadata": {
        "colab": {
          "base_uri": "https://localhost:8080/"
        },
        "id": "DFFlKejwQNwa",
        "outputId": "1fde98ef-f63f-4360-f955-acf32a2d2f67"
      },
      "execution_count": 63,
      "outputs": [
        {
          "output_type": "stream",
          "name": "stdout",
          "text": [
            "                average_box_office  movie_count1\n",
            "Casting                                         \n",
            "Kajol                        248.8            11\n",
            "Shashi Kapoor                213.9            11\n",
            "Karisma Kapoor               196.4            15\n",
            "Salman Khan                  189.8            20\n",
            "Madhuri Dixit                181.0            19\n",
            "Shah Rukh Khan               175.4            21\n",
            "Rishi Kapoor                 160.3            12\n",
            "Vinod Khanna                 144.9            10\n",
            "Jackie Shroff                141.1            11\n",
            "Sunny Deol                   133.4            12\n"
          ]
        }
      ]
    },
    {
      "cell_type": "code",
      "source": [
        "filtered_main_exploded = main_df.assign(Casting=main_df['Casting'].str.split(', ')).explode('Casting')\n",
        "actor_list = filtered_main_exploded.groupby('Casting').agg(\n",
        "    average_box_office=('Inflated_Box_Office', 'mean'),\n",
        "    movie_count1=('Inflated_Box_Office', 'count')\n",
        ")\n",
        "actor_list=actor_list[actor_list['movie_count1']>=10]\n",
        "\n",
        "# Step 3: Sort the artists by their average box office earnings and select the top 100\n",
        "top_artists = actor_list.sort_values(by='average_box_office', ascending=False).head(10).round(1)\n",
        "print(top_artists)"
      ],
      "metadata": {
        "colab": {
          "base_uri": "https://localhost:8080/"
        },
        "id": "flDtC_GEGY4_",
        "outputId": "93998b76-3256-48c6-be47-b67f664c21bc"
      },
      "execution_count": 64,
      "outputs": [
        {
          "output_type": "stream",
          "name": "stdout",
          "text": [
            "                     average_box_office  movie_count1\n",
            "Casting                                              \n",
            "Aamir Khan                        421.8            31\n",
            "Deepika Padukone                  398.7            23\n",
            "Anushka Sharma                    362.3            13\n",
            "Kareena Kapoor Khan               348.4            11\n",
            "Mithun Chakraborty                306.1            14\n",
            "Katrina Kaif                      305.2            31\n",
            "Shah Rukh Khan                    304.5            53\n",
            "Hrithik Roshan                    303.2            22\n",
            "Ranbir Kapoor                     293.6            21\n",
            "Ranveer Singh                     278.8            17\n"
          ]
        }
      ]
    },
    {
      "cell_type": "code",
      "source": [
        "movie_list = main_df.loc[:,['Movie_Name', 'Rating']]\n",
        "highly_rated = movie_list.sort_values(by='Rating', ascending=False).head(10).round(1)\n",
        "print(highly_rated)"
      ],
      "metadata": {
        "colab": {
          "base_uri": "https://localhost:8080/"
        },
        "id": "iJaSbyOpIepZ",
        "outputId": "ea451f11-b8c7-4638-ffd9-6cb0b74bc247"
      },
      "execution_count": 65,
      "outputs": [
        {
          "output_type": "stream",
          "name": "stdout",
          "text": [
            "                     Movie_Name  Rating\n",
            "7                     12th Fail     8.9\n",
            "47   Rocketry: The Nambi Effect     8.7\n",
            "0             The Kashmir Files     8.6\n",
            "815                       Dosti     8.5\n",
            "99              Laapataa Ladies     8.5\n",
            "202                Black Friday     8.4\n",
            "1                      3 Idiots     8.4\n",
            "176             Chandu Champion     8.3\n",
            "254                       Satya     8.3\n",
            "37                   Chhichhore     8.3\n"
          ]
        }
      ]
    },
    {
      "cell_type": "code",
      "source": [
        "# Split the Director column into separate entries and explode them into separate rows\n",
        "filtered_main_exploded = main_df.assign(Director=main_df['Director'].str.split(', ')).explode('Director')\n",
        "\n",
        "# Group by Director and calculate the average rating and movie count\n",
        "director_list = filtered_main_exploded.groupby('Director').agg(\n",
        "    avg_Box_Office=('Inflated_Box_Office', 'mean'),\n",
        "    movie_count=('Inflated_Box_Office', 'count')\n",
        ")\n",
        "\n",
        "# Filter directors who have directed 4 or more movies\n",
        "director_list = director_list[director_list['movie_count'] >= 6]\n",
        "\n",
        "# Select only the Director and rating_avg columns\n",
        "director_list = director_list.loc[:, ['avg_Box_Office']]\n",
        "\n",
        "# Sort by average rating in descending order\n",
        "top_director = director_list.sort_values(by='avg_Box_Office', ascending=False).head(10).round(1)\n",
        "\n",
        "# Print the top directors\n",
        "print(top_director)\n"
      ],
      "metadata": {
        "colab": {
          "base_uri": "https://localhost:8080/"
        },
        "id": "rY3gAj6Zv1ZR",
        "outputId": "a31c1d5b-ac86-4ac4-afec-220217262eb0"
      },
      "execution_count": 66,
      "outputs": [
        {
          "output_type": "stream",
          "name": "stdout",
          "text": [
            "                       avg_Box_Office\n",
            "Director                             \n",
            "Rajkumar Hirani                 701.1\n",
            "Kabir Khan                      485.6\n",
            "Siddharth Anand                 427.3\n",
            "Raj Kapoor                      421.7\n",
            "Rohit Shetty                    360.9\n",
            "Sanjay Leela Bhansali           359.3\n",
            "Karan Johar                     345.9\n",
            "Rakesh Roshan                   273.3\n",
            "Prabhu Deva                     270.6\n",
            "Anil Sharma                     247.0\n"
          ]
        }
      ]
    },
    {
      "cell_type": "code",
      "source": [
        "filtered_main_exploded = main_df.assign(Writer=main_df['Writer'].str.split(', ')).explode('Writer')\n",
        "\n",
        "Writer_list = filtered_main_exploded.groupby('Writer').agg(\n",
        "    avg_Rating=('Rating', 'mean'),\n",
        "    movie_count=('Inflated_Box_Office', 'count')\n",
        ")\n",
        "\n",
        "Writer_list = Writer_list[Writer_list['movie_count'] >= 5]\n",
        "Writer_list = Writer_list.loc[:, ['avg_Rating']]\n",
        "\n",
        "top_writer = Writer_list.sort_values(by='avg_Rating', ascending=False).head(10).round(1)\n",
        "\n",
        "print(top_writer)"
      ],
      "metadata": {
        "colab": {
          "base_uri": "https://localhost:8080/"
        },
        "id": "M2Scl8Yjh2Mi",
        "outputId": "924b30a0-252e-4f5c-bdf7-ef4f076cd77b"
      },
      "execution_count": 67,
      "outputs": [
        {
          "output_type": "stream",
          "name": "stdout",
          "text": [
            "                    avg_Rating\n",
            "Writer                        \n",
            "Salim Javed                7.5\n",
            "Juhi Chaturvedi            7.4\n",
            "Abhijat Joshi              7.4\n",
            "Rajkumar Hirani            7.3\n",
            "Vidhu Vinod Chopra         7.3\n",
            "Neeraj Pandey              7.2\n",
            "Gulzar                     7.2\n",
            "Nitesh Tiwari              7.2\n",
            "Anurag Kashyap             7.2\n",
            "Sriram Raghavan            7.1\n"
          ]
        }
      ]
    },
    {
      "cell_type": "code",
      "source": [
        "movie_list = main_df.loc[:,['Movie_Name', 'Rating']]\n",
        "highly_rated = movie_list.sort_values(by='Rating', ascending=True).head(10).round(1)\n",
        "print(highly_rated)"
      ],
      "metadata": {
        "colab": {
          "base_uri": "https://localhost:8080/"
        },
        "id": "F6srL_EhlN_S",
        "outputId": "a13631c1-ca2c-4d21-bbbb-5aa238fe9e8e"
      },
      "execution_count": 68,
      "outputs": [
        {
          "output_type": "stream",
          "name": "stdout",
          "text": [
            "                  Movie_Name  Rating\n",
            "464   Ram Gopal Varma Ki Aag     1.4\n",
            "1025              Prem Aggan     1.7\n",
            "387               Himmatwala     1.7\n",
            "403               Humshakals     1.7\n",
            "584     Kyaa Kool Hain Hum 3     1.9\n",
            "67                    Race 3     1.9\n",
            "4                      Radhe     1.9\n",
            "989                  Jackpot     2.0\n",
            "713                    Drona     2.0\n",
            "688          Namaste England     2.1\n"
          ]
        }
      ]
    },
    {
      "cell_type": "code",
      "source": [
        "genre_list = main_df.groupby('Genre').agg(\n",
        "    average_rating=('Rating', 'mean'),\n",
        "    movie_count1=('Inflated_Box_Office', 'count')\n",
        ")\n",
        "genre_list=genre_list[genre_list['movie_count1']>=40]\n",
        "top_genre = genre_list.sort_values(by='average_rating', ascending=False).head(10).round(1)\n",
        "print(top_genre)"
      ],
      "metadata": {
        "colab": {
          "base_uri": "https://localhost:8080/"
        },
        "id": "VL9YPrxHGXsm",
        "outputId": "adaa50eb-2b14-46d7-e06a-111a445faf5d"
      },
      "execution_count": 69,
      "outputs": [
        {
          "output_type": "stream",
          "name": "stdout",
          "text": [
            "          average_rating  movie_count1\n",
            "Genre                                 \n",
            "Drama                6.5           236\n",
            "Thriller             6.3           147\n",
            "Romance              5.8           172\n",
            "Comedy               5.8           214\n",
            "Action               5.5           209\n"
          ]
        }
      ]
    },
    {
      "cell_type": "code",
      "source": [
        "# Corrected filter for the Year column\n",
        "filtered_main = main_df[(main_df['Year'] > 2019) & (main_df['Year'] < 2025)]\n",
        "filteredd_main_exploded = main_df.assign(Director=main_df['Director'].str.split(', ')).explode('Director')\n",
        "\n",
        "# Step 1: Explode the 'Casting' column to get individual actor entries\n",
        "filtered_main_exploded = filtered_main.assign(Director=filtered_main['Director'].str.split(', ')).explode('Director')\n",
        "actor_list = filteredd_main_exploded.groupby('Director').agg(\n",
        "    movie_count1=('Inflated_Box_Office', 'count')\n",
        ")\n",
        "actor_list=actor_list[actor_list['movie_count1']>=4]\n",
        "actor_list=actor_list.reset_index()\n",
        "actor_list=actor_list['Director']\n",
        "\n",
        "# Step 2: Group by each artist and calculate their average box office earnings and movie count\n",
        "artist_stats = filtered_main_exploded.groupby(['Director']).agg(\n",
        "    average_box_office=('Inflated_Box_Office', 'mean'),\n",
        "    movie_count=('Inflated_Box_Office', 'count')\n",
        ").reset_index()\n",
        "artist_stats_filtered = artist_stats[artist_stats['Director'].isin(actor_list)]\n",
        "\n",
        "# Step 3: Sort the artists by their average box office earnings and select the top 100\n",
        "top_artists = artist_stats_filtered.sort_values(by='average_box_office', ascending=False)\n",
        "print(top_artists)"
      ],
      "metadata": {
        "colab": {
          "base_uri": "https://localhost:8080/"
        },
        "id": "rqkTV0fywQZw",
        "outputId": "b6456a7c-4fca-4d96-f857-f293b6139ae9"
      },
      "execution_count": 70,
      "outputs": [
        {
          "output_type": "stream",
          "name": "stdout",
          "text": [
            "                  Director  average_box_office  movie_count\n",
            "18             Anil Sharma            732.4600            1\n",
            "104        Siddharth Anand            725.0000            2\n",
            "57          Maneesh Sharma            495.0200            1\n",
            "80         Rajkumar Hirani            484.0000            1\n",
            "46             Karan Johar            377.3600            1\n",
            "69             Prabhu Deva            357.3000            1\n",
            "17            Anees Bazmee            300.0000            1\n",
            "97   Sanjay Leela Bhansali            235.9600            1\n",
            "55              Luv Ranjan            233.2000            1\n",
            "89            Rohit Shetty            209.9450            2\n",
            "123        Vivek Agnihotri            196.3450            2\n",
            "44              Kabir Khan            161.5300            2\n",
            "86            Remo D'Souza            122.4600            1\n",
            "8               Ahmed Khan            106.1450            2\n",
            "61              Mohit Suri             92.4200            2\n",
            "10              Ajay Devgn             89.6950            2\n",
            "0            Aanand L. Rai             69.6600            1\n",
            "58           Meghna Gulzar             69.4400            1\n",
            "41              Imtiaz Ali             66.9100            1\n",
            "42             Indra Kumar             55.0600            1\n",
            "3          Abhishek Sharma             54.7700            2\n",
            "2          Abhishek Kapoor             48.8300            1\n",
            "119     Vidhu Vinod Chopra             42.1500            2\n",
            "59           Milan Luthria             41.6900            1\n",
            "9                Ajay Bahl             33.3500            1\n",
            "20           Anubhav Sinha             26.7225            4\n",
            "96            Sanjay Gupta             26.2000            1\n",
            "109        Sriram Raghavan             26.0000            1\n",
            "5              Aditya Datt             17.0000            1\n",
            "22          Anurag Kashyap              7.8700            1\n",
            "73                R. Balki              7.4200            1\n",
            "120  Vijay Krishna Acharya              6.3600            1\n",
            "92             Sabbir Khan              2.2500            1\n",
            "70           Prakash Mehra              2.2500            1\n",
            "32        Dibakar Banerjee              1.1900            1\n",
            "122           Vikram Bhatt              0.3400            1\n",
            "110         Subhash Kapoor              0.0600            1\n",
            "81            Ramesh Sippy              0.0400            1\n"
          ]
        }
      ]
    },
    {
      "cell_type": "code",
      "source": [
        "filtered_main = main_df[(main_df['Year'] > 2019) & (main_df['Year'] < 2025)]\n",
        "genre_stats =filtered_main.groupby('Genre').agg(\n",
        "    average_box_office=('Inflated_Box_Office', 'mean'),\n",
        "    movie_count=('Inflated_Box_Office', 'count')\n",
        ").reset_index()\n",
        "\n",
        "# Step 3: Sort the artists by their average box office earnings and select the top 100\n",
        "top_genre = genre_stats.sort_values(by='average_box_office', ascending=False)\n",
        "print(top_genre)"
      ],
      "metadata": {
        "colab": {
          "base_uri": "https://localhost:8080/"
        },
        "id": "xcp-5VAUSfmB",
        "outputId": "10d0342d-ce02-4906-fe6b-7eff346bf52c"
      },
      "execution_count": 71,
      "outputs": [
        {
          "output_type": "stream",
          "name": "stdout",
          "text": [
            "           Genre  average_box_office  movie_count\n",
            "1      Adventure          484.000000            1\n",
            "7        Fantasy          477.530000            1\n",
            "10  Mythological          371.000000            1\n",
            "8     Historical          282.855000            2\n",
            "0         Action          211.939063           32\n",
            "4          Dance          122.460000            1\n",
            "11       Romance          103.625455           11\n",
            "9         Horror           78.718000            5\n",
            "12        Sports           76.280000            7\n",
            "13      Thriller           61.721765           17\n",
            "3         Comedy           58.405600           25\n",
            "2   Biographical           56.315000            6\n",
            "6          Drama           38.791786           28\n",
            "5    Documentary            1.046667            3\n"
          ]
        }
      ]
    },
    {
      "cell_type": "code",
      "source": [
        "filtered_main = main_df[(main_df['Year'] > 2010) & (main_df['Year'] < 2020)]\n",
        "genre_stats =filtered_main.groupby('Performace').agg(\n",
        "    average_box_office=('Inflated_Box_Office', 'mean'),\n",
        "    movie_count=('Inflated_Box_Office', 'count')\n",
        ").reset_index()\n",
        "\n",
        "# Step 3: Sort the artists by their average box office earnings and select the top 100\n",
        "top_genre = genre_stats.sort_values(by='average_box_office', ascending=False)\n",
        "print(top_genre)"
      ],
      "metadata": {
        "colab": {
          "base_uri": "https://localhost:8080/",
          "height": 365
        },
        "id": "TUzWR1kbS-i-",
        "outputId": "a977be61-ad5a-4ce0-88c4-5433ff1a7697"
      },
      "execution_count": 72,
      "outputs": [
        {
          "output_type": "error",
          "ename": "KeyError",
          "evalue": "'Performace'",
          "traceback": [
            "\u001b[0;31m---------------------------------------------------------------------------\u001b[0m",
            "\u001b[0;31mKeyError\u001b[0m                                  Traceback (most recent call last)",
            "\u001b[0;32m<ipython-input-72-0bb45c955624>\u001b[0m in \u001b[0;36m<cell line: 2>\u001b[0;34m()\u001b[0m\n\u001b[1;32m      1\u001b[0m \u001b[0mfiltered_main\u001b[0m \u001b[0;34m=\u001b[0m \u001b[0mmain_df\u001b[0m\u001b[0;34m[\u001b[0m\u001b[0;34m(\u001b[0m\u001b[0mmain_df\u001b[0m\u001b[0;34m[\u001b[0m\u001b[0;34m'Year'\u001b[0m\u001b[0;34m]\u001b[0m \u001b[0;34m>\u001b[0m \u001b[0;36m2010\u001b[0m\u001b[0;34m)\u001b[0m \u001b[0;34m&\u001b[0m \u001b[0;34m(\u001b[0m\u001b[0mmain_df\u001b[0m\u001b[0;34m[\u001b[0m\u001b[0;34m'Year'\u001b[0m\u001b[0;34m]\u001b[0m \u001b[0;34m<\u001b[0m \u001b[0;36m2020\u001b[0m\u001b[0;34m)\u001b[0m\u001b[0;34m]\u001b[0m\u001b[0;34m\u001b[0m\u001b[0;34m\u001b[0m\u001b[0m\n\u001b[0;32m----> 2\u001b[0;31m genre_stats =filtered_main.groupby('Performace').agg(\n\u001b[0m\u001b[1;32m      3\u001b[0m     \u001b[0maverage_box_office\u001b[0m\u001b[0;34m=\u001b[0m\u001b[0;34m(\u001b[0m\u001b[0;34m'Inflated_Box_Office'\u001b[0m\u001b[0;34m,\u001b[0m \u001b[0;34m'mean'\u001b[0m\u001b[0;34m)\u001b[0m\u001b[0;34m,\u001b[0m\u001b[0;34m\u001b[0m\u001b[0;34m\u001b[0m\u001b[0m\n\u001b[1;32m      4\u001b[0m     \u001b[0mmovie_count\u001b[0m\u001b[0;34m=\u001b[0m\u001b[0;34m(\u001b[0m\u001b[0;34m'Inflated_Box_Office'\u001b[0m\u001b[0;34m,\u001b[0m \u001b[0;34m'count'\u001b[0m\u001b[0;34m)\u001b[0m\u001b[0;34m\u001b[0m\u001b[0;34m\u001b[0m\u001b[0m\n\u001b[1;32m      5\u001b[0m ).reset_index()\n",
            "\u001b[0;32m/usr/local/lib/python3.10/dist-packages/pandas/core/frame.py\u001b[0m in \u001b[0;36mgroupby\u001b[0;34m(self, by, axis, level, as_index, sort, group_keys, observed, dropna)\u001b[0m\n\u001b[1;32m   9181\u001b[0m             \u001b[0;32mraise\u001b[0m \u001b[0mTypeError\u001b[0m\u001b[0;34m(\u001b[0m\u001b[0;34m\"You have to supply one of 'by' and 'level'\"\u001b[0m\u001b[0;34m)\u001b[0m\u001b[0;34m\u001b[0m\u001b[0;34m\u001b[0m\u001b[0m\n\u001b[1;32m   9182\u001b[0m \u001b[0;34m\u001b[0m\u001b[0m\n\u001b[0;32m-> 9183\u001b[0;31m         return DataFrameGroupBy(\n\u001b[0m\u001b[1;32m   9184\u001b[0m             \u001b[0mobj\u001b[0m\u001b[0;34m=\u001b[0m\u001b[0mself\u001b[0m\u001b[0;34m,\u001b[0m\u001b[0;34m\u001b[0m\u001b[0;34m\u001b[0m\u001b[0m\n\u001b[1;32m   9185\u001b[0m             \u001b[0mkeys\u001b[0m\u001b[0;34m=\u001b[0m\u001b[0mby\u001b[0m\u001b[0;34m,\u001b[0m\u001b[0;34m\u001b[0m\u001b[0;34m\u001b[0m\u001b[0m\n",
            "\u001b[0;32m/usr/local/lib/python3.10/dist-packages/pandas/core/groupby/groupby.py\u001b[0m in \u001b[0;36m__init__\u001b[0;34m(self, obj, keys, axis, level, grouper, exclusions, selection, as_index, sort, group_keys, observed, dropna)\u001b[0m\n\u001b[1;32m   1327\u001b[0m \u001b[0;34m\u001b[0m\u001b[0m\n\u001b[1;32m   1328\u001b[0m         \u001b[0;32mif\u001b[0m \u001b[0mgrouper\u001b[0m \u001b[0;32mis\u001b[0m \u001b[0;32mNone\u001b[0m\u001b[0;34m:\u001b[0m\u001b[0;34m\u001b[0m\u001b[0;34m\u001b[0m\u001b[0m\n\u001b[0;32m-> 1329\u001b[0;31m             grouper, exclusions, obj = get_grouper(\n\u001b[0m\u001b[1;32m   1330\u001b[0m                 \u001b[0mobj\u001b[0m\u001b[0;34m,\u001b[0m\u001b[0;34m\u001b[0m\u001b[0;34m\u001b[0m\u001b[0m\n\u001b[1;32m   1331\u001b[0m                 \u001b[0mkeys\u001b[0m\u001b[0;34m,\u001b[0m\u001b[0;34m\u001b[0m\u001b[0;34m\u001b[0m\u001b[0m\n",
            "\u001b[0;32m/usr/local/lib/python3.10/dist-packages/pandas/core/groupby/grouper.py\u001b[0m in \u001b[0;36mget_grouper\u001b[0;34m(obj, key, axis, level, sort, observed, validate, dropna)\u001b[0m\n\u001b[1;32m   1041\u001b[0m                 \u001b[0min_axis\u001b[0m\u001b[0;34m,\u001b[0m \u001b[0mlevel\u001b[0m\u001b[0;34m,\u001b[0m \u001b[0mgpr\u001b[0m \u001b[0;34m=\u001b[0m \u001b[0;32mFalse\u001b[0m\u001b[0;34m,\u001b[0m \u001b[0mgpr\u001b[0m\u001b[0;34m,\u001b[0m \u001b[0;32mNone\u001b[0m\u001b[0;34m\u001b[0m\u001b[0;34m\u001b[0m\u001b[0m\n\u001b[1;32m   1042\u001b[0m             \u001b[0;32melse\u001b[0m\u001b[0;34m:\u001b[0m\u001b[0;34m\u001b[0m\u001b[0;34m\u001b[0m\u001b[0m\n\u001b[0;32m-> 1043\u001b[0;31m                 \u001b[0;32mraise\u001b[0m \u001b[0mKeyError\u001b[0m\u001b[0;34m(\u001b[0m\u001b[0mgpr\u001b[0m\u001b[0;34m)\u001b[0m\u001b[0;34m\u001b[0m\u001b[0;34m\u001b[0m\u001b[0m\n\u001b[0m\u001b[1;32m   1044\u001b[0m         \u001b[0;32melif\u001b[0m \u001b[0misinstance\u001b[0m\u001b[0;34m(\u001b[0m\u001b[0mgpr\u001b[0m\u001b[0;34m,\u001b[0m \u001b[0mGrouper\u001b[0m\u001b[0;34m)\u001b[0m \u001b[0;32mand\u001b[0m \u001b[0mgpr\u001b[0m\u001b[0;34m.\u001b[0m\u001b[0mkey\u001b[0m \u001b[0;32mis\u001b[0m \u001b[0;32mnot\u001b[0m \u001b[0;32mNone\u001b[0m\u001b[0;34m:\u001b[0m\u001b[0;34m\u001b[0m\u001b[0;34m\u001b[0m\u001b[0m\n\u001b[1;32m   1045\u001b[0m             \u001b[0;31m# Add key to exclusions\u001b[0m\u001b[0;34m\u001b[0m\u001b[0;34m\u001b[0m\u001b[0m\n",
            "\u001b[0;31mKeyError\u001b[0m: 'Performace'"
          ]
        }
      ]
    },
    {
      "cell_type": "code",
      "source": [
        "filtered_main = main_df[(main_df['Year'] > 2019) & (main_df['Year'] < 2025)]\n",
        "genre_stats =filtered_main.groupby('Genre').agg(\n",
        "    average_rating=('Rating', 'mean'),\n",
        "    movie_count=('Inflated_Box_Office', 'count')\n",
        ").reset_index()\n",
        "top_genre = genre_stats.sort_values(by='average_rating', ascending=False)\n",
        "print(top_genre)"
      ],
      "metadata": {
        "colab": {
          "base_uri": "https://localhost:8080/"
        },
        "id": "p0ZsnXMLTg7g",
        "outputId": "3e07f28a-7f33-450f-e348-0221f50c89cd"
      },
      "execution_count": 73,
      "outputs": [
        {
          "output_type": "stream",
          "name": "stdout",
          "text": [
            "           Genre  average_rating  movie_count\n",
            "12        Sports        7.428571            7\n",
            "5    Documentary        6.900000            3\n",
            "2   Biographical        6.883333            6\n",
            "1      Adventure        6.600000            1\n",
            "8     Historical        6.550000            2\n",
            "6          Drama        6.428571           28\n",
            "13      Thriller        6.382353           17\n",
            "3         Comedy        5.848000           25\n",
            "11       Romance        5.818182           11\n",
            "7        Fantasy        5.600000            1\n",
            "9         Horror        4.860000            5\n",
            "0         Action        4.859375           32\n",
            "4          Dance        3.700000            1\n",
            "10  Mythological        2.700000            1\n"
          ]
        }
      ]
    },
    {
      "cell_type": "code",
      "source": [
        "filtered_main = main_df[(main_df['Year'] > 2010) & (main_df['Year'] < 2020)]\n",
        "genre_stats =filtered_main.groupby('Genre').agg(\n",
        "    average_rating=('Rating', 'mean'),\n",
        "    movie_count=('Inflated_Box_Office', 'count')\n",
        ").reset_index()\n",
        "top_genre = genre_stats.sort_values(by='average_rating', ascending=False)\n",
        "print(top_genre)"
      ],
      "metadata": {
        "colab": {
          "base_uri": "https://localhost:8080/"
        },
        "id": "q-fyPj7rTzWq",
        "outputId": "d8fbbdeb-7518-4403-90b8-4a1f4ca29d0e"
      },
      "execution_count": 74,
      "outputs": [
        {
          "output_type": "stream",
          "name": "stdout",
          "text": [
            "           Genre  average_rating  movie_count\n",
            "11        Sports        7.675000            4\n",
            "4          Crime        7.428571            7\n",
            "2   Biographical        6.946667           15\n",
            "7     Historical        6.725000            8\n",
            "6          Drama        6.577922           77\n",
            "1      Adventure        6.400000            1\n",
            "13           War        6.350000            2\n",
            "12      Thriller        6.225333           75\n",
            "9        Romance        5.673214           56\n",
            "3         Comedy        5.496875           96\n",
            "5          Dance        5.400000            1\n",
            "0         Action        5.320548           73\n",
            "10        Sci-Fi        5.050000            2\n",
            "8         Horror        4.888235           17\n"
          ]
        }
      ]
    },
    {
      "cell_type": "code",
      "source": [
        "filtered_main = main_df[(main_df['Year'] > 2019) & (main_df['Year'] < 2025)]\n",
        "genre_stats =filtered_main.groupby(['Genre', 'Performance']).agg(\n",
        "    movie_count=('Inflated_Box_Office', 'count')\n",
        ").reset_index()\n",
        "top_genre = genre_stats.sort_values(by='movie_count', ascending=False)\n",
        "print(top_genre)"
      ],
      "metadata": {
        "colab": {
          "base_uri": "https://localhost:8080/"
        },
        "id": "ex5L3nbdUIi7",
        "outputId": "6aec3308-439b-46de-ae8b-1581674e4e59"
      },
      "execution_count": 75,
      "outputs": [
        {
          "output_type": "stream",
          "name": "stdout",
          "text": [
            "           Genre           Performance  movie_count\n",
            "3         Action                  Flop           19\n",
            "20         Drama                  Flop           16\n",
            "13        Comedy                  Flop           14\n",
            "42      Thriller                  Flop            9\n",
            "37        Sports                  Flop            6\n",
            "15        Comedy              Superhit            5\n",
            "5         Action               Semihit            5\n",
            "22         Drama               Semihit            5\n",
            "32       Romance               Average            4\n",
            "33       Romance                  Flop            4\n",
            "11        Comedy               Average            3\n",
            "17   Documentary                  Flop            3\n",
            "8   Biographical                  Flop            3\n",
            "28        Horror                  Flop            2\n",
            "18         Drama               Average            2\n",
            "41      Thriller           Blockbuster            2\n",
            "19         Drama           Blockbuster            2\n",
            "0         Action  All Time BlockBuster            2\n",
            "23         Drama              Superhit            2\n",
            "9   Biographical               Semihit            2\n",
            "14        Comedy               Semihit            2\n",
            "4         Action                   Hit            2\n",
            "6         Action              Superhit            2\n",
            "45      Thriller              Superhit            2\n",
            "24       Fantasy               Average            1\n",
            "25    Historical                  Flop            1\n",
            "44      Thriller               Semihit            1\n",
            "43      Thriller                   Hit            1\n",
            "2         Action           Blockbuster            1\n",
            "21         Drama                   Hit            1\n",
            "40      Thriller               Average            1\n",
            "39      Thriller  All Time BlockBuster            1\n",
            "38        Sports               Semihit            1\n",
            "12        Comedy           Blockbuster            1\n",
            "36       Romance              Superhit            1\n",
            "35       Romance               Semihit            1\n",
            "34       Romance                   Hit            1\n",
            "7      Adventure              Superhit            1\n",
            "1         Action               Average            1\n",
            "31  Mythological                  Flop            1\n",
            "30        Horror              Superhit            1\n",
            "29        Horror                   Hit            1\n",
            "10  Biographical              Superhit            1\n",
            "27        Horror               Average            1\n",
            "26    Historical              Superhit            1\n",
            "16         Dance               Semihit            1\n"
          ]
        }
      ]
    },
    {
      "cell_type": "code",
      "source": [
        "filtered_main = main_df[(main_df['Year'] > 2019) & (main_df['Year'] < 2025)]\n",
        "filteredd_main_exploded = filtered_main.assign(Writer=filtered_main['Writer'].str.split(', ')).explode('Writer')\n",
        "genre_stats =filteredd_main_exploded.groupby('Writer').agg(\n",
        "    avg_box_office=('Rating', 'mean'),\n",
        "    movie_count=('Inflated_Box_Office', 'count')\n",
        ").reset_index()\n",
        "top_writer = genre_stats.sort_values(by='avg_box_office', ascending=False)\n",
        "print(top_writer)"
      ],
      "metadata": {
        "colab": {
          "base_uri": "https://localhost:8080/"
        },
        "id": "O4EbgAXVVuyC",
        "outputId": "7edaa7b2-b1a4-43bb-a77b-fdeafc80c5b8"
      },
      "execution_count": 76,
      "outputs": [
        {
          "output_type": "stream",
          "name": "stdout",
          "text": [
            "                 Writer  avg_box_office  movie_count\n",
            "60      Jaskunwar Kohli             8.9            1\n",
            "184  Vidhu Vinod Chopra             8.9            1\n",
            "110         R. Madhavan             8.7            1\n",
            "197     Vivek Agnihotri             8.6            1\n",
            "147    Saurabh M Pandey             8.6            1\n",
            "..                  ...             ...          ...\n",
            "183         Venu Sriram             2.7            1\n",
            "97              Om raut             2.7            1\n",
            "162         Suhrita Das             2.6            1\n",
            "107      Puri Jagannadh             2.6            1\n",
            "0             A C Mugil             1.9            1\n",
            "\n",
            "[200 rows x 3 columns]\n"
          ]
        }
      ]
    },
    {
      "cell_type": "code",
      "source": [
        "filtered_main = main_df[(main_df['Year'] > 2010) & (main_df['Year'] < 2020)]\n",
        "genre_stats =filtered_main.groupby('Genre').agg(\n",
        "    average_rating=('Rating_count', 'mean'),\n",
        "    movie_count=('Inflated_Box_Office', 'count')\n",
        ").reset_index()\n",
        "top_genre = genre_stats.sort_values(by='average_rating', ascending=False)\n",
        "print(top_genre)"
      ],
      "metadata": {
        "colab": {
          "base_uri": "https://localhost:8080/"
        },
        "id": "mWngxTTQBe7M",
        "outputId": "a0144d54-6812-4c6d-f776-2d25aed449af"
      },
      "execution_count": 77,
      "outputs": [
        {
          "output_type": "stream",
          "name": "stdout",
          "text": [
            "           Genre  average_rating  movie_count\n",
            "11        Sports    72425.000000            4\n",
            "10        Sci-Fi    36500.000000            2\n",
            "4          Crime    28828.571429            7\n",
            "2   Biographical    22133.333333           15\n",
            "7     Historical    20437.500000            8\n",
            "6          Drama    18746.350649           77\n",
            "0         Action    15878.589041           73\n",
            "12      Thriller    14009.866667           75\n",
            "1      Adventure    12000.000000            1\n",
            "3         Comedy    11875.916667           96\n",
            "9        Romance    11767.642857           56\n",
            "8         Horror     8506.117647           17\n",
            "13           War     8100.000000            2\n",
            "5          Dance     7200.000000            1\n"
          ]
        }
      ]
    },
    {
      "cell_type": "code",
      "source": [
        "filtered_main = main_df[(main_df['Year'] > 2019) & (main_df['Year'] < 2025)]\n",
        "genre_stats =filtered_main.groupby('Genre').agg(\n",
        "    average_rating=('Rating_count', 'mean'),\n",
        "    movie_count=('Inflated_Box_Office', 'count')\n",
        ").reset_index()\n",
        "top_genre = genre_stats.sort_values(by='average_rating', ascending=False)\n",
        "print(top_genre)"
      ],
      "metadata": {
        "colab": {
          "base_uri": "https://localhost:8080/"
        },
        "id": "LA0b_N8JGgxZ",
        "outputId": "3b24861c-1e39-48c8-ef58-e2d5bcc1966a"
      },
      "execution_count": 78,
      "outputs": [
        {
          "output_type": "stream",
          "name": "stdout",
          "text": [
            "           Genre  average_rating  movie_count\n",
            "10  Mythological   134000.000000            1\n",
            "7        Fantasy   112000.000000            1\n",
            "1      Adventure    77000.000000            1\n",
            "13      Thriller    49694.117647           17\n",
            "8     Historical    45000.000000            2\n",
            "0         Action    37781.250000           32\n",
            "6          Drama    26331.178571           28\n",
            "2   Biographical    26083.333333            6\n",
            "12        Sports    18842.857143            7\n",
            "11       Romance    16172.727273           11\n",
            "3         Comedy    15120.000000           25\n",
            "9         Horror    10100.000000            5\n",
            "4          Dance     8300.000000            1\n",
            "5    Documentary     3166.666667            3\n"
          ]
        }
      ]
    },
    {
      "cell_type": "code",
      "source": [
        "# Filter movies between 2010 and 2020\n",
        "filtered_main = main_df[(main_df['Year'] > 2010) & (main_df['Year'] < 2020)]\n",
        "\n",
        "# Count total number of movies in the filtered data\n",
        "total_movie = filtered_main['Movie_Name'].count()\n",
        "\n",
        "# Calculate the genre statistics\n",
        "performance_stats = filtered_main.groupby('Performance').agg(\n",
        "    movie_count=('Inflated_Box_Office', 'count'),\n",
        ").reset_index()\n",
        "\n",
        "# Calculate the percentage of movies for each genre\n",
        "performance_stats['movie_count'] = ((performance_stats['movie_count'] / total_movie) * 100).round(2)\n",
        "\n",
        "top = performance_stats.sort_values(by='movie_count', ascending=False)\n",
        "\n",
        "print(top)\n"
      ],
      "metadata": {
        "colab": {
          "base_uri": "https://localhost:8080/"
        },
        "id": "3COhE2chC1Iu",
        "outputId": "35d33e62-15fd-4cfe-eba1-c57018b51837"
      },
      "execution_count": 79,
      "outputs": [
        {
          "output_type": "stream",
          "name": "stdout",
          "text": [
            "            Performance  movie_count\n",
            "3                  Flop        28.34\n",
            "6              Superhit        23.73\n",
            "2           Blockbuster        16.82\n",
            "5               Semihit        15.67\n",
            "1               Average         9.91\n",
            "4                   Hit         3.00\n",
            "0  All Time BlockBuster         2.53\n"
          ]
        }
      ]
    },
    {
      "cell_type": "code",
      "source": [
        "filtered_main = main_df[(main_df['Year'] > 2019) & (main_df['Year'] < 2025)]\n",
        "\n",
        "average_rating= filtered_main['Inflated_Budget'].mean()\n",
        "average_box_office= filtered_main['Inflated_Box_Office'].mean()\n",
        "\n",
        "print(average_rating)\n",
        "print(average_box_office)"
      ],
      "metadata": {
        "colab": {
          "base_uri": "https://localhost:8080/"
        },
        "id": "PXU6_QlZoTaQ",
        "outputId": "46a83e83-eaa9-4b40-854e-503a94aa69b6"
      },
      "execution_count": 80,
      "outputs": [
        {
          "output_type": "stream",
          "name": "stdout",
          "text": [
            "78.65792857142857\n",
            "105.76278571428573\n"
          ]
        }
      ]
    },
    {
      "cell_type": "code",
      "source": [
        "filtered_main = main_df[(main_df['Year'] > 2009) & (main_df['Year'] < 2020)]\n",
        "\n",
        "average_rating= filtered_main['Inflated_Budget'].mean().round(1)\n",
        "average_box_office= filtered_main['Inflated_Box_Office'].mean().round(1)\n",
        "\n",
        "print(average_rating)\n",
        "print(average_box_office)"
      ],
      "metadata": {
        "colab": {
          "base_uri": "https://localhost:8080/"
        },
        "id": "Fo-smHDuozYV",
        "outputId": "6668148f-a43b-49c7-d11a-bcd3532a4de5"
      },
      "execution_count": 81,
      "outputs": [
        {
          "output_type": "stream",
          "name": "stdout",
          "text": [
            "61.6\n",
            "156.7\n"
          ]
        }
      ]
    },
    {
      "cell_type": "code",
      "source": [
        "# Filter movies between 2010 and 2020\n",
        "filtered_main = main_df[(main_df['Year'] >= 2020) & (main_df['Year'] < 2025)]\n",
        "\n",
        "# Count total number of movies in the filtered data\n",
        "total_movie = filtered_main['Movie_Name'].count()\n",
        "\n",
        "# Calculate the genre statistics\n",
        "performance_stats = filtered_main.groupby('Performance').agg(\n",
        "    movie_count=('Inflated_Box_Office', 'count'),\n",
        ").reset_index()\n",
        "\n",
        "# Calculate the percentage of movies for each genre\n",
        "performance_stats['movie_count'] = ((performance_stats['movie_count'] / total_movie) * 100).round(2)\n",
        "\n",
        "top = performance_stats.sort_values(by='movie_count', ascending=False)\n",
        "\n",
        "print(top)"
      ],
      "metadata": {
        "colab": {
          "base_uri": "https://localhost:8080/"
        },
        "id": "SLB9TLQXbRyM",
        "outputId": "816cd0e6-ade4-49b2-db91-60d763fe5fcd"
      },
      "execution_count": 82,
      "outputs": [
        {
          "output_type": "stream",
          "name": "stdout",
          "text": [
            "            Performance  movie_count\n",
            "3                  Flop        55.71\n",
            "5               Semihit        12.86\n",
            "6              Superhit        11.43\n",
            "1               Average         9.29\n",
            "2           Blockbuster         4.29\n",
            "4                   Hit         4.29\n",
            "0  All Time BlockBuster         2.14\n"
          ]
        }
      ]
    },
    {
      "cell_type": "code",
      "source": [
        "# Filter movies between 2010 and 2020\n",
        "filtered_main = main_df[(main_df['Year'] > 2019) & (main_df['Year'] < 2025)]\n",
        "\n",
        "# Counting the total number of non-flop movies\n",
        "total_movie = filtered_main['Movie_Name'].count()\n",
        "\n",
        "# Calculate the genre statistics\n",
        "genre_stats = filtered_main.groupby('Genre').agg(\n",
        "    movie_count=('Inflated_Box_Office', 'count')\n",
        ").reset_index()\n",
        "\n",
        "# Calculate the percentage of movies for each genre\n",
        "genre_stats['movie_count'] = ((genre_stats['movie_count'] / total_movie) * 100).round(2)\n",
        "\n",
        "# Sort the genres by movie count\n",
        "top_genre = genre_stats.sort_values(by='movie_count', ascending=False)\n",
        "\n",
        "# Print the top genres\n",
        "print(top_genre)"
      ],
      "metadata": {
        "colab": {
          "base_uri": "https://localhost:8080/"
        },
        "id": "FuAA2arTEDtg",
        "outputId": "353ae6eb-09c1-43f2-cf5e-93f8b467e1d6"
      },
      "execution_count": 83,
      "outputs": [
        {
          "output_type": "stream",
          "name": "stdout",
          "text": [
            "           Genre  movie_count\n",
            "0         Action        22.86\n",
            "6          Drama        20.00\n",
            "3         Comedy        17.86\n",
            "13      Thriller        12.14\n",
            "11       Romance         7.86\n",
            "12        Sports         5.00\n",
            "2   Biographical         4.29\n",
            "9         Horror         3.57\n",
            "5    Documentary         2.14\n",
            "8     Historical         1.43\n",
            "1      Adventure         0.71\n",
            "4          Dance         0.71\n",
            "7        Fantasy         0.71\n",
            "10  Mythological         0.71\n"
          ]
        }
      ]
    },
    {
      "cell_type": "code",
      "source": [
        "filtered_main_exploded = main_df.assign(Casting=main_df['Casting'].str.split(', ')).explode('Casting')\n",
        "actor_list = filtered_main_exploded.groupby('Casting').agg(\n",
        "    average_rating=('Rating', 'mean'),\n",
        "    movie_count1=('Inflated_Box_Office', 'count')\n",
        ")\n",
        "actor_list=actor_list[actor_list['movie_count1']>=6]\n",
        "\n",
        "# Step 3: Sort the artists by their average box office earnings and select the top 100\n",
        "top_artists = actor_list.sort_values(by='average_rating', ascending=False).head(10).round(1)\n",
        "print(top_artists)"
      ],
      "metadata": {
        "colab": {
          "base_uri": "https://localhost:8080/"
        },
        "id": "h3F_zc3LKtlc",
        "outputId": "92e26c3b-6c99-453d-935d-addcd752c594"
      },
      "execution_count": 84,
      "outputs": [
        {
          "output_type": "stream",
          "name": "stdout",
          "text": [
            "                      average_rating  movie_count1\n",
            "Casting                                           \n",
            "Nargis                           7.7             6\n",
            "Raj Kapoor                       7.6             7\n",
            "Sushant Singh Rajput             7.5             8\n",
            "Dilip Kumar                      7.5             7\n",
            "Vinay Pathak                     7.2             6\n",
            "Shashi Kapoor                    7.2            11\n",
            "Neetu Singh                      7.2             7\n",
            "Swara Bhaskar                    7.1             6\n",
            "Radhika Apte                     7.1             9\n",
            "Rajat Kapoor                     7.1             6\n"
          ]
        }
      ]
    },
    {
      "cell_type": "code",
      "source": [
        "\n",
        "filtered_main_exploded = main_df.assign(Casting=main_df['Casting'].str.split(', ')).explode('Casting')\n",
        "\n",
        "filtered_main_exploded['Profit'] = filtered_main_exploded['Inflated_Box_Office'] / filtered_main_exploded['Inflated_Budget']\n",
        "\n",
        "# Group by 'Casting' and 'Genre' and calculate the average profit and movie count\n",
        "actor_list = filtered_main_exploded.groupby(['Casting', 'Genre']).agg(\n",
        "    Times_Return=('Profit', 'mean'),\n",
        "    movie_count=('Inflated_Box_Office', 'count')\n",
        ")\n",
        "\n",
        "# Filter out actors with fewer than 10 movies in that genre\n",
        "actor_list = actor_list[actor_list['movie_count'] >= 10]\n",
        "\n",
        "# Sort by average profit and get the top 20 actors\n",
        "top_actors = actor_list.sort_values(by='Times_Return', ascending=False).head(20).round(1)\n",
        "\n",
        "# Print the top actors\n",
        "print(top_actors)"
      ],
      "metadata": {
        "colab": {
          "base_uri": "https://localhost:8080/"
        },
        "id": "32-odV3qNxVc",
        "outputId": "a6d5b620-981a-4d8a-8b4f-61b273d19331"
      },
      "execution_count": 85,
      "outputs": [
        {
          "output_type": "stream",
          "name": "stdout",
          "text": [
            "                           Times_Return  movie_count\n",
            "Casting          Genre                              \n",
            "Shah Rukh Khan   Romance            7.5           16\n",
            "Salman Khan      Romance            4.9           17\n",
            "Amitabh Bachchan Action             4.1           19\n",
            "Amrish Puri      Action             4.1           21\n",
            "Shakti Kapoor    Action             4.0           12\n",
            "Sunny Deol       Action             3.8           16\n",
            "Amitabh Bachchan Thriller           3.8           11\n",
            "                 Drama              3.8           29\n",
            "Jackie Shroff    Action             3.7           14\n",
            "Sonakshi Sinha   Action             3.6           11\n",
            "Anil Kapoor      Action             3.4           12\n",
            "Govinda          Comedy             3.3           16\n",
            "Boman Irani      Comedy             3.3           16\n",
            "Salman Khan      Action             3.2           21\n",
            "Shah Rukh Khan   Action             3.2           14\n",
            "Salman Khan      Comedy             3.1           12\n",
            "Arshad Warsi     Comedy             2.9           16\n",
            "Katrina Kaif     Action             2.9           10\n",
            "Sanjay Dutt      Action             2.9           13\n",
            "Salman Khan      Drama              2.8           12\n"
          ]
        }
      ]
    },
    {
      "cell_type": "code",
      "source": [
        "filtered_main = main_df[(main_df['Year'] > 2009) & (main_df['Year'] < 2020)]\n",
        "\n",
        "total_movie = filtered_main['Movie_Name'].count()\n",
        "genre_list = filtered_main.groupby('Genre').agg(\n",
        "    movie_count=('Inflated_Box_Office', 'count')\n",
        ")\n",
        "genre_list=genre_list['movie_count']/total_movie*100\n",
        "genre_list=genre_list.sort_values(ascending=False)\n",
        "print(genre_list)"
      ],
      "metadata": {
        "colab": {
          "base_uri": "https://localhost:8080/"
        },
        "id": "Owi7HeWOxFH1",
        "outputId": "aa2a2981-4e27-492c-b28c-e0c0d8f546e4"
      },
      "execution_count": 86,
      "outputs": [
        {
          "output_type": "stream",
          "name": "stdout",
          "text": [
            "Genre\n",
            "Comedy          22.151899\n",
            "Drama           18.565401\n",
            "Thriller        16.877637\n",
            "Action          15.611814\n",
            "Romance         13.080169\n",
            "Horror           4.008439\n",
            "Biographical     3.164557\n",
            "Historical       1.898734\n",
            "Crime            1.687764\n",
            "Sports           0.843882\n",
            "Animation        0.421941\n",
            "Satire           0.421941\n",
            "Sci-Fi           0.421941\n",
            "War              0.421941\n",
            "Adventure        0.210970\n",
            "Dance            0.210970\n",
            "Name: movie_count, dtype: float64\n"
          ]
        }
      ]
    },
    {
      "cell_type": "code",
      "source": [
        "filtered_main = main_df[(main_df['Year'] > 2019) & (main_df['Year'] < 2025)]\n",
        "\n",
        "total_movie = filtered_main['Movie_Name'].count()\n",
        "genre_list = filtered_main.groupby('Genre').agg(\n",
        "    movie_count=('Inflated_Box_Office', 'count')\n",
        ")\n",
        "genre_list=genre_list['movie_count']/total_movie*100\n",
        "genre_list=genre_list.sort_values(ascending=False)\n",
        "print(genre_list)"
      ],
      "metadata": {
        "colab": {
          "base_uri": "https://localhost:8080/"
        },
        "id": "QO5REVOdxw5D",
        "outputId": "646e1320-945a-483e-ec4a-a40cbbb85e7c"
      },
      "execution_count": 87,
      "outputs": [
        {
          "output_type": "stream",
          "name": "stdout",
          "text": [
            "Genre\n",
            "Action          22.857143\n",
            "Drama           20.000000\n",
            "Comedy          17.857143\n",
            "Thriller        12.142857\n",
            "Romance          7.857143\n",
            "Sports           5.000000\n",
            "Biographical     4.285714\n",
            "Horror           3.571429\n",
            "Documentary      2.142857\n",
            "Historical       1.428571\n",
            "Adventure        0.714286\n",
            "Dance            0.714286\n",
            "Fantasy          0.714286\n",
            "Mythological     0.714286\n",
            "Name: movie_count, dtype: float64\n"
          ]
        }
      ]
    },
    {
      "cell_type": "code",
      "source": [
        "filtered_main = main_df[(main_df['Year'] > 2009) & (main_df['Year'] < 2020)]\n",
        "\n",
        "genre_list = filtered_main.groupby('Genre').agg(\n",
        "    avg_box_office= ('Inflated_Box_Office', 'mean'),\n",
        "    movie_count=('Inflated_Box_Office', 'count')\n",
        ")\n",
        "genre_list= genre_list[genre_list['movie_count']>20]\n",
        "\n",
        "genre_list=genre_list.sort_values(by='avg_box_office', ascending=False)\n",
        "print(genre_list)"
      ],
      "metadata": {
        "colab": {
          "base_uri": "https://localhost:8080/"
        },
        "id": "hijZR2vHy9cO",
        "outputId": "71bc5777-eb95-4fc7-c040-78ae5c5ae4d8"
      },
      "execution_count": 88,
      "outputs": [
        {
          "output_type": "stream",
          "name": "stdout",
          "text": [
            "          avg_box_office  movie_count\n",
            "Genre                                \n",
            "Action        250.709459           74\n",
            "Drama         150.018636           88\n",
            "Comedy        148.355429          105\n",
            "Romance       114.439194           62\n",
            "Thriller       83.365500           80\n"
          ]
        }
      ]
    },
    {
      "cell_type": "code",
      "source": [
        "filtered_main = main_df[(main_df['Year'] > 2019) & (main_df['Year'] < 2025)]\n",
        "\n",
        "genre_list = filtered_main.groupby('Genre').agg(\n",
        "    avg_box_office= ('Inflated_Box_Office', 'mean'),\n",
        "    movie_count=('Inflated_Box_Office', 'count')\n",
        ")\n",
        "genre_list= genre_list[genre_list['movie_count']>=10]\n",
        "\n",
        "genre_list=genre_list.sort_values(by='avg_box_office', ascending=False)\n",
        "print(genre_list)"
      ],
      "metadata": {
        "colab": {
          "base_uri": "https://localhost:8080/"
        },
        "id": "ibhXRDogyFB4",
        "outputId": "205ed70b-f1c6-4b2c-a700-00c12746bb33"
      },
      "execution_count": 89,
      "outputs": [
        {
          "output_type": "stream",
          "name": "stdout",
          "text": [
            "          avg_box_office  movie_count\n",
            "Genre                                \n",
            "Action        211.939063           32\n",
            "Romance       103.625455           11\n",
            "Thriller       61.721765           17\n",
            "Comedy         58.405600           25\n",
            "Drama          38.791786           28\n"
          ]
        }
      ]
    },
    {
      "cell_type": "code",
      "source": [
        "filtered_main = main_df[(main_df['Year'] > 2009) & (main_df['Year'] < 2020)]\n",
        "\n",
        "genre_list = filtered_main.groupby('Genre').agg(\n",
        "    avg_rating= ('Rating', 'mean'),\n",
        "    movie_count=('Inflated_Box_Office', 'count')\n",
        ")\n",
        "genre_list= genre_list[genre_list['movie_count']>=20]\n",
        "\n",
        "genre_list=genre_list.sort_values(by='avg_rating', ascending=False)\n",
        "print(genre_list)"
      ],
      "metadata": {
        "colab": {
          "base_uri": "https://localhost:8080/"
        },
        "id": "Na5yJqJrz6j7",
        "outputId": "6a5a6b66-a38f-4a0d-b8af-727b3e28f5f5"
      },
      "execution_count": 90,
      "outputs": [
        {
          "output_type": "stream",
          "name": "stdout",
          "text": [
            "          avg_rating  movie_count\n",
            "Genre                            \n",
            "Drama       6.592045           88\n",
            "Thriller    6.230000           80\n",
            "Romance     5.662903           62\n",
            "Comedy      5.560952          105\n",
            "Action      5.332432           74\n"
          ]
        }
      ]
    },
    {
      "cell_type": "code",
      "source": [
        "filtered_main = main_df[(main_df['Year'] > 2019) & (main_df['Year'] < 2025)]\n",
        "\n",
        "genre_list = filtered_main.groupby('Genre').agg(\n",
        "    avg_rating= ('Rating', 'mean'),\n",
        "    movie_count=('Inflated_Box_Office', 'count')\n",
        ")\n",
        "genre_list= genre_list[genre_list['movie_count']>=10]\n",
        "\n",
        "genre_list=genre_list.sort_values(by='avg_rating', ascending=False)\n",
        "print(genre_list)"
      ],
      "metadata": {
        "colab": {
          "base_uri": "https://localhost:8080/"
        },
        "id": "EPO94WhxznDx",
        "outputId": "1234a452-d0e0-4552-e39f-4558b89cc343"
      },
      "execution_count": 91,
      "outputs": [
        {
          "output_type": "stream",
          "name": "stdout",
          "text": [
            "          avg_rating  movie_count\n",
            "Genre                            \n",
            "Drama       6.428571           28\n",
            "Thriller    6.382353           17\n",
            "Comedy      5.848000           25\n",
            "Romance     5.818182           11\n",
            "Action      4.859375           32\n"
          ]
        }
      ]
    },
    {
      "cell_type": "code",
      "source": [
        "# Step 1: Filter for movies released between 2010 and 2019\n",
        "filtered_main_2010s = main_df[(main_df['Year'] > 2010) & (main_df['Year'] < 2020)]\n",
        "filtered_main_exploded_2010s = filtered_main_2010s.assign(Director=filtered_main_2010s['Director'].str.split(', ')).explode('Director')\n",
        "\n",
        "# Group by 'Director' and calculate movie count and average box office\n",
        "director_stats_2010s = filtered_main_exploded_2010s.groupby('Director').agg(\n",
        "    movie_count_2010s=('Inflated_Box_Office', 'count'),\n",
        "    average_box_office_2010s=('Inflated_Box_Office', 'mean')\n",
        ").reset_index()\n",
        "\n",
        "# Filter for directors with at least 5 movies\n",
        "director_stats_2010s_filtered = director_stats_2010s[director_stats_2010s['movie_count_2010s'] >= 2]\n",
        "\n",
        "# Select the top 10 directors based on average box office earnings\n",
        "top_directors_2010s = director_stats_2010s_filtered.sort_values(by='average_box_office_2010s', ascending=False).head(10)\n",
        "\n",
        "# Step 2: Repeat the process for movies released between 2020 and 2024\n",
        "filtered_main_2020s = main_df[(main_df['Year'] > 2019) & (main_df['Year'] < 2025)]\n",
        "filtered_main_exploded_2020s = filtered_main_2020s.assign(Director=filtered_main_2020s['Director'].str.split(', ')).explode('Director')\n",
        "\n",
        "# Group by 'Director' and calculate movie count and average box office\n",
        "director_stats_2020s = filtered_main_exploded_2020s.groupby('Director').agg(\n",
        "    movie_count_2020s=('Inflated_Box_Office', 'count'),\n",
        "    average_box_office_2020s=('Inflated_Box_Office', 'mean')\n",
        ").reset_index()\n",
        "\n",
        "# Filter the data to include only the top 10 directors from the 2010s period\n",
        "director_stats_2020s_filtered = director_stats_2020s[director_stats_2020s['Director'].isin(top_directors_2010s['Director'])]\n",
        "\n",
        "# Sort and select top 10 directors based on average box office earnings in 2020s\n",
        "top_directors_2020s = director_stats_2020s_filtered.sort_values(by='average_box_office_2020s', ascending=False).round(1).head(10)\n",
        "\n",
        "# Print the top 10 directors by average box office earnings for both periods\n",
        "print(\"Top 10 Directors (2010-2019):\\n\", top_directors_2010s)\n",
        "print(\"\\nTop 10 Directors (2020-2024):\\n\", top_directors_2020s)\n"
      ],
      "metadata": {
        "colab": {
          "base_uri": "https://localhost:8080/"
        },
        "id": "-XYhCCJLN4by",
        "outputId": "5f24fa6f-5477-4dde-baf0-8f935063ce2f"
      },
      "execution_count": 92,
      "outputs": [
        {
          "output_type": "stream",
          "name": "stdout",
          "text": [
            "Top 10 Directors (2010-2019):\n",
            "                   Director  movie_count_2010s  average_box_office_2010s\n",
            "132          Nitesh Tiwari                  3               1374.126667\n",
            "164        Rajkumar Hirani                  2               1105.810000\n",
            "98              Kabir Khan                  3                803.626667\n",
            "252  Vijay Krishna Acharya                  2                766.275000\n",
            "224        Siddharth Anand                  2                615.780000\n",
            "203  Sanjay Leela Bhansali                  3                598.133333\n",
            "29         Ali Abbas Zafar                  5                539.362000\n",
            "185           Rohit Shetty                  7                532.590000\n",
            "105         Karan Malhotra                  2                312.440000\n",
            "232        Sriram Raghavan                  3                310.666667\n",
            "\n",
            "Top 10 Directors (2020-2024):\n",
            "                   Director  movie_count_2020s  average_box_office_2020s\n",
            "104        Siddharth Anand                  2                     725.0\n",
            "80         Rajkumar Hirani                  1                     484.0\n",
            "97   Sanjay Leela Bhansali                  1                     236.0\n",
            "89            Rohit Shetty                  2                     209.9\n",
            "44              Kabir Khan                  2                     161.5\n",
            "48          Karan Malhotra                  1                      71.9\n",
            "109        Sriram Raghavan                  1                      26.0\n",
            "120  Vijay Krishna Acharya                  1                       6.4\n"
          ]
        }
      ]
    },
    {
      "cell_type": "code",
      "source": [
        "main_df['Profit'] = main_df['Box_Office'] / main_df['Budget']"
      ],
      "metadata": {
        "id": "zCOh2jQ2jdA6"
      },
      "execution_count": 93,
      "outputs": []
    },
    {
      "cell_type": "code",
      "source": [
        "previous_decade = main_df[(main_df['Year'] > 2009) & (main_df['Year'] < 2020)]\n",
        "current_decade = main_df[(main_df['Year'] > 2019)]\n",
        "std_dev_A = previous_decade['Profit'].std()\n",
        "std_dev_B = current_decade['Profit'].std()\n",
        "print(std_dev_A)\n",
        "print(std_dev_B)"
      ],
      "metadata": {
        "colab": {
          "base_uri": "https://localhost:8080/"
        },
        "id": "NsRvtRTmkTyq",
        "outputId": "9e4ea7de-b0af-42ef-8f26-14f74cd7ec74"
      },
      "execution_count": 94,
      "outputs": [
        {
          "output_type": "stream",
          "name": "stdout",
          "text": [
            "4.009413882034522\n",
            "2.0804968174827523\n"
          ]
        }
      ]
    },
    {
      "cell_type": "code",
      "source": [
        "import matplotlib.pyplot as plt"
      ],
      "metadata": {
        "id": "Nv4DEwmGljqd"
      },
      "execution_count": 95,
      "outputs": []
    },
    {
      "cell_type": "code",
      "source": [
        "bins = [0, 1, 2, 3, 4, 5, 6, 7, 8, 20]\n",
        "\n",
        "counts_current, _ = np.histogram(current_decade['Profit'], bins=bins)\n",
        "proportions_current = counts_current / counts_current.sum() * 100\n",
        "\n",
        "counts_previous, _ = np.histogram(previous_decade['Profit'], bins=bins)\n",
        "proportions_previous = counts_previous / counts_previous.sum() * 100\n",
        "\n"
      ],
      "metadata": {
        "id": "MtiFJ6BepP-8"
      },
      "execution_count": 96,
      "outputs": []
    },
    {
      "cell_type": "code",
      "source": [
        "\n",
        "width = 0.4\n",
        "x = np.arange(len(bins) - 1)\n",
        "\n",
        "plt.bar(x - width/2, proportions_current, width=width, alpha=0.7, color='blue', label='2020-2024')\n",
        "plt.bar(x + width/2, proportions_previous, width=width, alpha=0.7, color='red', label='2010-2019')\n",
        "\n",
        "plt.title('Percentage of Movies by Profit Interval')\n",
        "plt.xlabel('Profit')\n",
        "plt.ylabel('Percentage of Movies')\n",
        "\n",
        "plt.xticks(x, [f\"{bins[i]}-{bins[i+1]}\" for i in range(len(bins)-1)])\n",
        "\n",
        "plt.legend()\n",
        "\n",
        "plt.show()"
      ],
      "metadata": {
        "colab": {
          "base_uri": "https://localhost:8080/",
          "height": 472
        },
        "id": "NYKaECRcpQ1p",
        "outputId": "72c9be94-0c77-4b1f-a7cd-9a60e8fb1be3"
      },
      "execution_count": 97,
      "outputs": [
        {
          "output_type": "display_data",
          "data": {
            "text/plain": [
              "<Figure size 640x480 with 1 Axes>"
            ],
            "image/png": "[encoded data removed]"
          },
          "metadata": {}
        }
      ]
    }
  ],
  "metadata": {
    "colab": {
      "provenance": []
    },
    "kernelspec": {
      "display_name": "Python 3",
      "name": "python3"
    },
    "language_info": {
      "name": "python"
    }
  },
  "nbformat": 4,
  "nbformat_minor": 0
}